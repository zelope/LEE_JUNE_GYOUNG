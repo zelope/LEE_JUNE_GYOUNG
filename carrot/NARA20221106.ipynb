{
 "cells": [
  {
   "cell_type": "code",
   "execution_count": 66,
   "metadata": {
    "collapsed": true,
    "pycharm": {
     "name": "#%%\n"
    }
   },
   "outputs": [
    {
     "data": {
      "text/plain": "                    isSale                                       title  \\\n2022-11-01 00:00:00     판매      86762 아이폰11PRO MAX 미드나잇 그린 64GB 배터리91%   \n2022-11-01 00:03:00     판매                15만원 아이폰8 가성비좋은 꿀 공기기 판매합니다.   \n2022-11-01 00:04:00     판매  부산 김해 아이폰13프로 그라파이트 128기가 배터리93 105만 13PRO   \n2022-11-01 00:05:00     판매                       광주 아이폰6S,64G,골드,광주광역시   \n2022-11-01 00:06:00     판매      [판매] ﻿아이폰12프로 그래파이트 128GB A급 공기계 [76만]   \n...                    ...                                         ...   \n2022-11-10 14:58:00     판매                 아이폰13 스타라이트 256기가 특S급 / 직거래   \n2022-11-10 15:00:00     판매                      아이폰 11 128기가 파손폰 판매합니다   \n2022-11-10 15:01:00     판매        아이폰12미니 128G 화이트 액정무잔상 가성비꿀폰 30만원팝니다   \n2022-11-10 15:02:00     판매                                    아이폰 11프로   \n2022-11-10 15:04:00     판매                    아이폰 13 프로 128G 시에라블루 민트급   \n\n                                                                   url  \\\n2022-11-01 00:00:00  https://cafe.naver.com/ca-fe/cafes/10050146/ar...   \n2022-11-01 00:03:00  https://cafe.naver.com/ca-fe/cafes/10050146/ar...   \n2022-11-01 00:04:00  https://cafe.naver.com/ca-fe/cafes/10050146/ar...   \n2022-11-01 00:05:00  https://cafe.naver.com/ca-fe/cafes/10050146/ar...   \n2022-11-01 00:06:00  https://cafe.naver.com/ca-fe/cafes/10050146/ar...   \n...                                                                ...   \n2022-11-10 14:58:00  https://cafe.naver.com/ca-fe/cafes/10050146/ar...   \n2022-11-10 15:00:00  https://cafe.naver.com/ca-fe/cafes/10050146/ar...   \n2022-11-10 15:01:00  https://cafe.naver.com/ca-fe/cafes/10050146/ar...   \n2022-11-10 15:02:00  https://cafe.naver.com/ca-fe/cafes/10050146/ar...   \n2022-11-10 15:04:00  https://cafe.naver.com/ca-fe/cafes/10050146/ar...   \n\n                       price  \n2022-11-01 00:00:00   470000  \n2022-11-01 00:03:00   150000  \n2022-11-01 00:04:00  1050000  \n2022-11-01 00:05:00   160000  \n2022-11-01 00:06:00   760000  \n...                      ...  \n2022-11-10 14:58:00   900000  \n2022-11-10 15:00:00   250000  \n2022-11-10 15:01:00   300000  \n2022-11-10 15:02:00   400000  \n2022-11-10 15:04:00   850000  \n\n[11256 rows x 4 columns]",
      "text/html": "<div>\n<style scoped>\n    .dataframe tbody tr th:only-of-type {\n        vertical-align: middle;\n    }\n\n    .dataframe tbody tr th {\n        vertical-align: top;\n    }\n\n    .dataframe thead th {\n        text-align: right;\n    }\n</style>\n<table border=\"1\" class=\"dataframe\">\n  <thead>\n    <tr style=\"text-align: right;\">\n      <th></th>\n      <th>isSale</th>\n      <th>title</th>\n      <th>url</th>\n      <th>price</th>\n    </tr>\n  </thead>\n  <tbody>\n    <tr>\n      <th>2022-11-01 00:00:00</th>\n      <td>판매</td>\n      <td>86762 아이폰11PRO MAX 미드나잇 그린 64GB 배터리91%</td>\n      <td>https://cafe.naver.com/ca-fe/cafes/10050146/ar...</td>\n      <td>470000</td>\n    </tr>\n    <tr>\n      <th>2022-11-01 00:03:00</th>\n      <td>판매</td>\n      <td>15만원 아이폰8 가성비좋은 꿀 공기기 판매합니다.</td>\n      <td>https://cafe.naver.com/ca-fe/cafes/10050146/ar...</td>\n      <td>150000</td>\n    </tr>\n    <tr>\n      <th>2022-11-01 00:04:00</th>\n      <td>판매</td>\n      <td>부산 김해 아이폰13프로 그라파이트 128기가 배터리93 105만 13PRO</td>\n      <td>https://cafe.naver.com/ca-fe/cafes/10050146/ar...</td>\n      <td>1050000</td>\n    </tr>\n    <tr>\n      <th>2022-11-01 00:05:00</th>\n      <td>판매</td>\n      <td>광주 아이폰6S,64G,골드,광주광역시</td>\n      <td>https://cafe.naver.com/ca-fe/cafes/10050146/ar...</td>\n      <td>160000</td>\n    </tr>\n    <tr>\n      <th>2022-11-01 00:06:00</th>\n      <td>판매</td>\n      <td>[판매] ﻿아이폰12프로 그래파이트 128GB A급 공기계 [76만]</td>\n      <td>https://cafe.naver.com/ca-fe/cafes/10050146/ar...</td>\n      <td>760000</td>\n    </tr>\n    <tr>\n      <th>...</th>\n      <td>...</td>\n      <td>...</td>\n      <td>...</td>\n      <td>...</td>\n    </tr>\n    <tr>\n      <th>2022-11-10 14:58:00</th>\n      <td>판매</td>\n      <td>아이폰13 스타라이트 256기가 특S급 / 직거래</td>\n      <td>https://cafe.naver.com/ca-fe/cafes/10050146/ar...</td>\n      <td>900000</td>\n    </tr>\n    <tr>\n      <th>2022-11-10 15:00:00</th>\n      <td>판매</td>\n      <td>아이폰 11 128기가 파손폰 판매합니다</td>\n      <td>https://cafe.naver.com/ca-fe/cafes/10050146/ar...</td>\n      <td>250000</td>\n    </tr>\n    <tr>\n      <th>2022-11-10 15:01:00</th>\n      <td>판매</td>\n      <td>아이폰12미니 128G 화이트 액정무잔상 가성비꿀폰 30만원팝니다</td>\n      <td>https://cafe.naver.com/ca-fe/cafes/10050146/ar...</td>\n      <td>300000</td>\n    </tr>\n    <tr>\n      <th>2022-11-10 15:02:00</th>\n      <td>판매</td>\n      <td>아이폰 11프로</td>\n      <td>https://cafe.naver.com/ca-fe/cafes/10050146/ar...</td>\n      <td>400000</td>\n    </tr>\n    <tr>\n      <th>2022-11-10 15:04:00</th>\n      <td>판매</td>\n      <td>아이폰 13 프로 128G 시에라블루 민트급</td>\n      <td>https://cafe.naver.com/ca-fe/cafes/10050146/ar...</td>\n      <td>850000</td>\n    </tr>\n  </tbody>\n</table>\n<p>11256 rows × 4 columns</p>\n</div>"
     },
     "execution_count": 66,
     "metadata": {},
     "output_type": "execute_result"
    }
   ],
   "source": [
    "import pandas as pd\n",
    "NARA= pd.read_excel(\"testfile/joonggonara_iphone.xlsx\",index_col = 0, engine='openpyxl')\n",
    "NARA"
   ]
  },
  {
   "cell_type": "code",
   "execution_count": 67,
   "outputs": [
    {
     "name": "stdout",
     "output_type": "stream",
     "text": [
      "<class 'pandas.core.frame.DataFrame'>\n",
      "DatetimeIndex: 11256 entries, 2022-11-01 00:00:00 to 2022-11-10 15:04:00\n",
      "Data columns (total 4 columns):\n",
      " #   Column  Non-Null Count  Dtype \n",
      "---  ------  --------------  ----- \n",
      " 0   isSale  11256 non-null  object\n",
      " 1   title   11256 non-null  object\n",
      " 2   url     11256 non-null  object\n",
      " 3   price   11256 non-null  int64 \n",
      "dtypes: int64(1), object(3)\n",
      "memory usage: 439.7+ KB\n"
     ]
    }
   ],
   "source": [
    "NARA.info()"
   ],
   "metadata": {
    "collapsed": false,
    "pycharm": {
     "name": "#%%\n"
    }
   }
  },
  {
   "cell_type": "code",
   "execution_count": 68,
   "outputs": [
    {
     "data": {
      "text/plain": "                    index isSale                                       title  \\\n0     2022-11-01 00:00:00     판매      86762 아이폰11PRO MAX 미드나잇 그린 64GB 배터리91%   \n1     2022-11-01 00:03:00     판매                15만원 아이폰8 가성비좋은 꿀 공기기 판매합니다.   \n2     2022-11-01 00:04:00     판매  부산 김해 아이폰13프로 그라파이트 128기가 배터리93 105만 13PRO   \n3     2022-11-01 00:05:00     판매                       광주 아이폰6S,64G,골드,광주광역시   \n4     2022-11-01 00:06:00     판매      [판매] ﻿아이폰12프로 그래파이트 128GB A급 공기계 [76만]   \n...                   ...    ...                                         ...   \n11251 2022-11-10 14:58:00     판매                 아이폰13 스타라이트 256기가 특S급 / 직거래   \n11252 2022-11-10 15:00:00     판매                      아이폰 11 128기가 파손폰 판매합니다   \n11253 2022-11-10 15:01:00     판매        아이폰12미니 128G 화이트 액정무잔상 가성비꿀폰 30만원팝니다   \n11254 2022-11-10 15:02:00     판매                                    아이폰 11프로   \n11255 2022-11-10 15:04:00     판매                    아이폰 13 프로 128G 시에라블루 민트급   \n\n                                                     url    price  \n0      https://cafe.naver.com/ca-fe/cafes/10050146/ar...   470000  \n1      https://cafe.naver.com/ca-fe/cafes/10050146/ar...   150000  \n2      https://cafe.naver.com/ca-fe/cafes/10050146/ar...  1050000  \n3      https://cafe.naver.com/ca-fe/cafes/10050146/ar...   160000  \n4      https://cafe.naver.com/ca-fe/cafes/10050146/ar...   760000  \n...                                                  ...      ...  \n11251  https://cafe.naver.com/ca-fe/cafes/10050146/ar...   900000  \n11252  https://cafe.naver.com/ca-fe/cafes/10050146/ar...   250000  \n11253  https://cafe.naver.com/ca-fe/cafes/10050146/ar...   300000  \n11254  https://cafe.naver.com/ca-fe/cafes/10050146/ar...   400000  \n11255  https://cafe.naver.com/ca-fe/cafes/10050146/ar...   850000  \n\n[11256 rows x 5 columns]",
      "text/html": "<div>\n<style scoped>\n    .dataframe tbody tr th:only-of-type {\n        vertical-align: middle;\n    }\n\n    .dataframe tbody tr th {\n        vertical-align: top;\n    }\n\n    .dataframe thead th {\n        text-align: right;\n    }\n</style>\n<table border=\"1\" class=\"dataframe\">\n  <thead>\n    <tr style=\"text-align: right;\">\n      <th></th>\n      <th>index</th>\n      <th>isSale</th>\n      <th>title</th>\n      <th>url</th>\n      <th>price</th>\n    </tr>\n  </thead>\n  <tbody>\n    <tr>\n      <th>0</th>\n      <td>2022-11-01 00:00:00</td>\n      <td>판매</td>\n      <td>86762 아이폰11PRO MAX 미드나잇 그린 64GB 배터리91%</td>\n      <td>https://cafe.naver.com/ca-fe/cafes/10050146/ar...</td>\n      <td>470000</td>\n    </tr>\n    <tr>\n      <th>1</th>\n      <td>2022-11-01 00:03:00</td>\n      <td>판매</td>\n      <td>15만원 아이폰8 가성비좋은 꿀 공기기 판매합니다.</td>\n      <td>https://cafe.naver.com/ca-fe/cafes/10050146/ar...</td>\n      <td>150000</td>\n    </tr>\n    <tr>\n      <th>2</th>\n      <td>2022-11-01 00:04:00</td>\n      <td>판매</td>\n      <td>부산 김해 아이폰13프로 그라파이트 128기가 배터리93 105만 13PRO</td>\n      <td>https://cafe.naver.com/ca-fe/cafes/10050146/ar...</td>\n      <td>1050000</td>\n    </tr>\n    <tr>\n      <th>3</th>\n      <td>2022-11-01 00:05:00</td>\n      <td>판매</td>\n      <td>광주 아이폰6S,64G,골드,광주광역시</td>\n      <td>https://cafe.naver.com/ca-fe/cafes/10050146/ar...</td>\n      <td>160000</td>\n    </tr>\n    <tr>\n      <th>4</th>\n      <td>2022-11-01 00:06:00</td>\n      <td>판매</td>\n      <td>[판매] ﻿아이폰12프로 그래파이트 128GB A급 공기계 [76만]</td>\n      <td>https://cafe.naver.com/ca-fe/cafes/10050146/ar...</td>\n      <td>760000</td>\n    </tr>\n    <tr>\n      <th>...</th>\n      <td>...</td>\n      <td>...</td>\n      <td>...</td>\n      <td>...</td>\n      <td>...</td>\n    </tr>\n    <tr>\n      <th>11251</th>\n      <td>2022-11-10 14:58:00</td>\n      <td>판매</td>\n      <td>아이폰13 스타라이트 256기가 특S급 / 직거래</td>\n      <td>https://cafe.naver.com/ca-fe/cafes/10050146/ar...</td>\n      <td>900000</td>\n    </tr>\n    <tr>\n      <th>11252</th>\n      <td>2022-11-10 15:00:00</td>\n      <td>판매</td>\n      <td>아이폰 11 128기가 파손폰 판매합니다</td>\n      <td>https://cafe.naver.com/ca-fe/cafes/10050146/ar...</td>\n      <td>250000</td>\n    </tr>\n    <tr>\n      <th>11253</th>\n      <td>2022-11-10 15:01:00</td>\n      <td>판매</td>\n      <td>아이폰12미니 128G 화이트 액정무잔상 가성비꿀폰 30만원팝니다</td>\n      <td>https://cafe.naver.com/ca-fe/cafes/10050146/ar...</td>\n      <td>300000</td>\n    </tr>\n    <tr>\n      <th>11254</th>\n      <td>2022-11-10 15:02:00</td>\n      <td>판매</td>\n      <td>아이폰 11프로</td>\n      <td>https://cafe.naver.com/ca-fe/cafes/10050146/ar...</td>\n      <td>400000</td>\n    </tr>\n    <tr>\n      <th>11255</th>\n      <td>2022-11-10 15:04:00</td>\n      <td>판매</td>\n      <td>아이폰 13 프로 128G 시에라블루 민트급</td>\n      <td>https://cafe.naver.com/ca-fe/cafes/10050146/ar...</td>\n      <td>850000</td>\n    </tr>\n  </tbody>\n</table>\n<p>11256 rows × 5 columns</p>\n</div>"
     },
     "execution_count": 68,
     "metadata": {},
     "output_type": "execute_result"
    }
   ],
   "source": [
    "NARA = NARA.reset_index()\n",
    "NARA"
   ],
   "metadata": {
    "collapsed": false,
    "pycharm": {
     "name": "#%%\n"
    }
   }
  },
  {
   "cell_type": "code",
   "execution_count": 69,
   "outputs": [
    {
     "data": {
      "text/plain": "              postingDate isSale                                       title  \\\n0     2022-11-01 00:00:00     판매      86762 아이폰11PRO MAX 미드나잇 그린 64GB 배터리91%   \n1     2022-11-01 00:03:00     판매                15만원 아이폰8 가성비좋은 꿀 공기기 판매합니다.   \n2     2022-11-01 00:04:00     판매  부산 김해 아이폰13프로 그라파이트 128기가 배터리93 105만 13PRO   \n3     2022-11-01 00:05:00     판매                       광주 아이폰6S,64G,골드,광주광역시   \n4     2022-11-01 00:06:00     판매      [판매] ﻿아이폰12프로 그래파이트 128GB A급 공기계 [76만]   \n...                   ...    ...                                         ...   \n11251 2022-11-10 14:58:00     판매                 아이폰13 스타라이트 256기가 특S급 / 직거래   \n11252 2022-11-10 15:00:00     판매                      아이폰 11 128기가 파손폰 판매합니다   \n11253 2022-11-10 15:01:00     판매        아이폰12미니 128G 화이트 액정무잔상 가성비꿀폰 30만원팝니다   \n11254 2022-11-10 15:02:00     판매                                    아이폰 11프로   \n11255 2022-11-10 15:04:00     판매                    아이폰 13 프로 128G 시에라블루 민트급   \n\n                                                     url    price  \n0      https://cafe.naver.com/ca-fe/cafes/10050146/ar...   470000  \n1      https://cafe.naver.com/ca-fe/cafes/10050146/ar...   150000  \n2      https://cafe.naver.com/ca-fe/cafes/10050146/ar...  1050000  \n3      https://cafe.naver.com/ca-fe/cafes/10050146/ar...   160000  \n4      https://cafe.naver.com/ca-fe/cafes/10050146/ar...   760000  \n...                                                  ...      ...  \n11251  https://cafe.naver.com/ca-fe/cafes/10050146/ar...   900000  \n11252  https://cafe.naver.com/ca-fe/cafes/10050146/ar...   250000  \n11253  https://cafe.naver.com/ca-fe/cafes/10050146/ar...   300000  \n11254  https://cafe.naver.com/ca-fe/cafes/10050146/ar...   400000  \n11255  https://cafe.naver.com/ca-fe/cafes/10050146/ar...   850000  \n\n[11256 rows x 5 columns]",
      "text/html": "<div>\n<style scoped>\n    .dataframe tbody tr th:only-of-type {\n        vertical-align: middle;\n    }\n\n    .dataframe tbody tr th {\n        vertical-align: top;\n    }\n\n    .dataframe thead th {\n        text-align: right;\n    }\n</style>\n<table border=\"1\" class=\"dataframe\">\n  <thead>\n    <tr style=\"text-align: right;\">\n      <th></th>\n      <th>postingDate</th>\n      <th>isSale</th>\n      <th>title</th>\n      <th>url</th>\n      <th>price</th>\n    </tr>\n  </thead>\n  <tbody>\n    <tr>\n      <th>0</th>\n      <td>2022-11-01 00:00:00</td>\n      <td>판매</td>\n      <td>86762 아이폰11PRO MAX 미드나잇 그린 64GB 배터리91%</td>\n      <td>https://cafe.naver.com/ca-fe/cafes/10050146/ar...</td>\n      <td>470000</td>\n    </tr>\n    <tr>\n      <th>1</th>\n      <td>2022-11-01 00:03:00</td>\n      <td>판매</td>\n      <td>15만원 아이폰8 가성비좋은 꿀 공기기 판매합니다.</td>\n      <td>https://cafe.naver.com/ca-fe/cafes/10050146/ar...</td>\n      <td>150000</td>\n    </tr>\n    <tr>\n      <th>2</th>\n      <td>2022-11-01 00:04:00</td>\n      <td>판매</td>\n      <td>부산 김해 아이폰13프로 그라파이트 128기가 배터리93 105만 13PRO</td>\n      <td>https://cafe.naver.com/ca-fe/cafes/10050146/ar...</td>\n      <td>1050000</td>\n    </tr>\n    <tr>\n      <th>3</th>\n      <td>2022-11-01 00:05:00</td>\n      <td>판매</td>\n      <td>광주 아이폰6S,64G,골드,광주광역시</td>\n      <td>https://cafe.naver.com/ca-fe/cafes/10050146/ar...</td>\n      <td>160000</td>\n    </tr>\n    <tr>\n      <th>4</th>\n      <td>2022-11-01 00:06:00</td>\n      <td>판매</td>\n      <td>[판매] ﻿아이폰12프로 그래파이트 128GB A급 공기계 [76만]</td>\n      <td>https://cafe.naver.com/ca-fe/cafes/10050146/ar...</td>\n      <td>760000</td>\n    </tr>\n    <tr>\n      <th>...</th>\n      <td>...</td>\n      <td>...</td>\n      <td>...</td>\n      <td>...</td>\n      <td>...</td>\n    </tr>\n    <tr>\n      <th>11251</th>\n      <td>2022-11-10 14:58:00</td>\n      <td>판매</td>\n      <td>아이폰13 스타라이트 256기가 특S급 / 직거래</td>\n      <td>https://cafe.naver.com/ca-fe/cafes/10050146/ar...</td>\n      <td>900000</td>\n    </tr>\n    <tr>\n      <th>11252</th>\n      <td>2022-11-10 15:00:00</td>\n      <td>판매</td>\n      <td>아이폰 11 128기가 파손폰 판매합니다</td>\n      <td>https://cafe.naver.com/ca-fe/cafes/10050146/ar...</td>\n      <td>250000</td>\n    </tr>\n    <tr>\n      <th>11253</th>\n      <td>2022-11-10 15:01:00</td>\n      <td>판매</td>\n      <td>아이폰12미니 128G 화이트 액정무잔상 가성비꿀폰 30만원팝니다</td>\n      <td>https://cafe.naver.com/ca-fe/cafes/10050146/ar...</td>\n      <td>300000</td>\n    </tr>\n    <tr>\n      <th>11254</th>\n      <td>2022-11-10 15:02:00</td>\n      <td>판매</td>\n      <td>아이폰 11프로</td>\n      <td>https://cafe.naver.com/ca-fe/cafes/10050146/ar...</td>\n      <td>400000</td>\n    </tr>\n    <tr>\n      <th>11255</th>\n      <td>2022-11-10 15:04:00</td>\n      <td>판매</td>\n      <td>아이폰 13 프로 128G 시에라블루 민트급</td>\n      <td>https://cafe.naver.com/ca-fe/cafes/10050146/ar...</td>\n      <td>850000</td>\n    </tr>\n  </tbody>\n</table>\n<p>11256 rows × 5 columns</p>\n</div>"
     },
     "execution_count": 69,
     "metadata": {},
     "output_type": "execute_result"
    }
   ],
   "source": [
    "NARA=NARA.rename(columns={'index':'postingDate'})\n",
    "NARA"
   ],
   "metadata": {
    "collapsed": false,
    "pycharm": {
     "name": "#%%\n"
    }
   }
  },
  {
   "cell_type": "code",
   "execution_count": 70,
   "outputs": [
    {
     "name": "stdout",
     "output_type": "stream",
     "text": [
      "<class 'pandas.core.frame.DataFrame'>\n",
      "RangeIndex: 10997 entries, 0 to 10996\n",
      "Data columns (total 5 columns):\n",
      " #   Column       Non-Null Count  Dtype         \n",
      "---  ------       --------------  -----         \n",
      " 0   postingDate  10997 non-null  datetime64[ns]\n",
      " 1   isSale       10997 non-null  object        \n",
      " 2   title        10997 non-null  object        \n",
      " 3   url          10997 non-null  object        \n",
      " 4   price        10997 non-null  int64         \n",
      "dtypes: datetime64[ns](1), int64(1), object(3)\n",
      "memory usage: 429.7+ KB\n"
     ]
    }
   ],
   "source": [
    "#그냥 이산치 제거\n",
    "case = NARA[NARA['title'].str.contains('풀박스|묶음|갤럭시|지갑|슈어|다수|액정부품|시계|수리')].index\n",
    "NARA.drop(case,inplace=True)\n",
    "NARA = NARA.reset_index()\n",
    "NARA = NARA.drop('index',axis=1)\n",
    "NARA.info()"
   ],
   "metadata": {
    "collapsed": false,
    "pycharm": {
     "name": "#%%\n"
    }
   }
  },
  {
   "cell_type": "code",
   "execution_count": 71,
   "outputs": [
    {
     "name": "stdout",
     "output_type": "stream",
     "text": [
      "<class 'pandas.core.frame.DataFrame'>\n",
      "RangeIndex: 10430 entries, 0 to 10429\n",
      "Data columns (total 5 columns):\n",
      " #   Column       Non-Null Count  Dtype         \n",
      "---  ------       --------------  -----         \n",
      " 0   postingDate  10430 non-null  datetime64[ns]\n",
      " 1   isSale       10430 non-null  object        \n",
      " 2   title        10430 non-null  object        \n",
      " 3   url          10430 non-null  object        \n",
      " 4   price        10430 non-null  int64         \n",
      "dtypes: datetime64[ns](1), int64(1), object(3)\n",
      "memory usage: 407.5+ KB\n"
     ]
    }
   ],
   "source": [
    "errorPriceI = NARA[NARA.price < 40000].index\n",
    "NARA.drop(errorPriceI,inplace=True)\n",
    "NARA = NARA.reset_index()\n",
    "NARA = NARA.drop('index',axis=1)\n",
    "NARA.info()"
   ],
   "metadata": {
    "collapsed": false,
    "pycharm": {
     "name": "#%%\n"
    }
   }
  },
  {
   "cell_type": "code",
   "execution_count": 72,
   "outputs": [
    {
     "name": "stderr",
     "output_type": "stream",
     "text": [
      "C:\\Users\\ljg98\\AppData\\Local\\Temp\\ipykernel_2524\\2675670575.py:18: FutureWarning: The default value of regex will change from True to False in a future version. In addition, single character regular expressions will *not* be treated as literal strings when regex=True.\n",
      "  NARA.title = NARA['title'].str.replace('+','_plus')\n"
     ]
    },
    {
     "data": {
      "text/plain": "              postingDate isSale                                      title  \\\n0     2022-11-01 00:00:00     판매      86762 iphone_11promax미드나잇그린64GB배터리91%   \n1     2022-11-01 00:03:00     판매               15만원 iphone_8가성비좋은꿀공기기판매합니다.   \n2     2022-11-01 00:04:00     판매  부산김해 iphone_13pro그라파이트128기가배터리93105만13pro   \n3     2022-11-01 00:05:00     판매                  광주 iphone_6s,64G,골드,광주광역시   \n4     2022-11-01 00:06:00     판매     [판매]﻿ iphone_12pro그래파이트128GBA급공기계[76만]   \n...                   ...    ...                                        ...   \n10425 2022-11-10 14:58:00     판매                 iphone_13스타라이트256기가특s급/직거래   \n10426 2022-11-10 15:00:00     판매                     iphone_11128기가파손폰판매합니다   \n10427 2022-11-10 15:01:00     판매      iphone_12mini128G화이트액정무잔상가성비꿀폰30만원팝니다   \n10428 2022-11-10 15:02:00     판매                               iphone_11pro   \n10429 2022-11-10 15:04:00     판매                   iphone_13pro128G시에라블루민트급   \n\n                                                     url    price  \n0      https://cafe.naver.com/ca-fe/cafes/10050146/ar...   470000  \n1      https://cafe.naver.com/ca-fe/cafes/10050146/ar...   150000  \n2      https://cafe.naver.com/ca-fe/cafes/10050146/ar...  1050000  \n3      https://cafe.naver.com/ca-fe/cafes/10050146/ar...   160000  \n4      https://cafe.naver.com/ca-fe/cafes/10050146/ar...   760000  \n...                                                  ...      ...  \n10425  https://cafe.naver.com/ca-fe/cafes/10050146/ar...   900000  \n10426  https://cafe.naver.com/ca-fe/cafes/10050146/ar...   250000  \n10427  https://cafe.naver.com/ca-fe/cafes/10050146/ar...   300000  \n10428  https://cafe.naver.com/ca-fe/cafes/10050146/ar...   400000  \n10429  https://cafe.naver.com/ca-fe/cafes/10050146/ar...   850000  \n\n[10430 rows x 5 columns]",
      "text/html": "<div>\n<style scoped>\n    .dataframe tbody tr th:only-of-type {\n        vertical-align: middle;\n    }\n\n    .dataframe tbody tr th {\n        vertical-align: top;\n    }\n\n    .dataframe thead th {\n        text-align: right;\n    }\n</style>\n<table border=\"1\" class=\"dataframe\">\n  <thead>\n    <tr style=\"text-align: right;\">\n      <th></th>\n      <th>postingDate</th>\n      <th>isSale</th>\n      <th>title</th>\n      <th>url</th>\n      <th>price</th>\n    </tr>\n  </thead>\n  <tbody>\n    <tr>\n      <th>0</th>\n      <td>2022-11-01 00:00:00</td>\n      <td>판매</td>\n      <td>86762 iphone_11promax미드나잇그린64GB배터리91%</td>\n      <td>https://cafe.naver.com/ca-fe/cafes/10050146/ar...</td>\n      <td>470000</td>\n    </tr>\n    <tr>\n      <th>1</th>\n      <td>2022-11-01 00:03:00</td>\n      <td>판매</td>\n      <td>15만원 iphone_8가성비좋은꿀공기기판매합니다.</td>\n      <td>https://cafe.naver.com/ca-fe/cafes/10050146/ar...</td>\n      <td>150000</td>\n    </tr>\n    <tr>\n      <th>2</th>\n      <td>2022-11-01 00:04:00</td>\n      <td>판매</td>\n      <td>부산김해 iphone_13pro그라파이트128기가배터리93105만13pro</td>\n      <td>https://cafe.naver.com/ca-fe/cafes/10050146/ar...</td>\n      <td>1050000</td>\n    </tr>\n    <tr>\n      <th>3</th>\n      <td>2022-11-01 00:05:00</td>\n      <td>판매</td>\n      <td>광주 iphone_6s,64G,골드,광주광역시</td>\n      <td>https://cafe.naver.com/ca-fe/cafes/10050146/ar...</td>\n      <td>160000</td>\n    </tr>\n    <tr>\n      <th>4</th>\n      <td>2022-11-01 00:06:00</td>\n      <td>판매</td>\n      <td>[판매]﻿ iphone_12pro그래파이트128GBA급공기계[76만]</td>\n      <td>https://cafe.naver.com/ca-fe/cafes/10050146/ar...</td>\n      <td>760000</td>\n    </tr>\n    <tr>\n      <th>...</th>\n      <td>...</td>\n      <td>...</td>\n      <td>...</td>\n      <td>...</td>\n      <td>...</td>\n    </tr>\n    <tr>\n      <th>10425</th>\n      <td>2022-11-10 14:58:00</td>\n      <td>판매</td>\n      <td>iphone_13스타라이트256기가특s급/직거래</td>\n      <td>https://cafe.naver.com/ca-fe/cafes/10050146/ar...</td>\n      <td>900000</td>\n    </tr>\n    <tr>\n      <th>10426</th>\n      <td>2022-11-10 15:00:00</td>\n      <td>판매</td>\n      <td>iphone_11128기가파손폰판매합니다</td>\n      <td>https://cafe.naver.com/ca-fe/cafes/10050146/ar...</td>\n      <td>250000</td>\n    </tr>\n    <tr>\n      <th>10427</th>\n      <td>2022-11-10 15:01:00</td>\n      <td>판매</td>\n      <td>iphone_12mini128G화이트액정무잔상가성비꿀폰30만원팝니다</td>\n      <td>https://cafe.naver.com/ca-fe/cafes/10050146/ar...</td>\n      <td>300000</td>\n    </tr>\n    <tr>\n      <th>10428</th>\n      <td>2022-11-10 15:02:00</td>\n      <td>판매</td>\n      <td>iphone_11pro</td>\n      <td>https://cafe.naver.com/ca-fe/cafes/10050146/ar...</td>\n      <td>400000</td>\n    </tr>\n    <tr>\n      <th>10429</th>\n      <td>2022-11-10 15:04:00</td>\n      <td>판매</td>\n      <td>iphone_13pro128G시에라블루민트급</td>\n      <td>https://cafe.naver.com/ca-fe/cafes/10050146/ar...</td>\n      <td>850000</td>\n    </tr>\n  </tbody>\n</table>\n<p>10430 rows × 5 columns</p>\n</div>"
     },
     "execution_count": 72,
     "metadata": {},
     "output_type": "execute_result"
    }
   ],
   "source": [
    "#iphone전처리\n",
    "NARA.title = NARA['title'].str.replace(' ','')\n",
    "\n",
    "NARA.title = NARA['title'].str.replace('iphone',' iphone_')\n",
    "NARA.title = NARA['title'].str.replace('Iphone',' iphone_')\n",
    "NARA.title = NARA['title'].str.replace('iPhone',' iphone_')\n",
    "NARA.title = NARA['title'].str.replace('아이폰',' iphone_')\n",
    "NARA.title = NARA['title'].str.replace('IPhone',' iphone_')\n",
    "\n",
    "\n",
    "NARA.title = NARA['title'].str.replace('S','s')\n",
    "NARA.title = NARA['title'].str.replace('X','x')\n",
    "NARA.title = NARA['title'].str.replace('E','e')\n",
    "NARA.title = NARA['title'].str.replace('R','r')\n",
    "\n",
    "NARA.title = NARA['title'].str.replace('se1','se')\n",
    "NARA.title = NARA['title'].str.replace('플러스','_plus')\n",
    "NARA.title = NARA['title'].str.replace('+','_plus')\n",
    "NARA.title = NARA['title'].str.replace('Plus','plus')\n",
    "NARA.title = NARA['title'].str.replace('PLUS','plus')\n",
    "NARA.title = NARA['title'].str.replace('프로','pro')\n",
    "NARA.title = NARA['title'].str.replace('Pro','pro')\n",
    "NARA.title = NARA['title'].str.replace('PRO','pro')\n",
    "NARA.title = NARA['title'].str.replace('PrO','pro')\n",
    "NARA.title = NARA['title'].str.replace('PRo','pro')\n",
    "NARA.title = NARA['title'].str.replace('미니','mini')\n",
    "NARA.title = NARA['title'].str.replace('Mini','mini')\n",
    "NARA.title = NARA['title'].str.replace('MINI','mini')\n",
    "\n",
    "NARA.title = NARA['title'].str.replace('맥스','max')\n",
    "NARA.title = NARA['title'].str.replace('MAX','max')\n",
    "NARA.title = NARA['title'].str.replace('MAx','max')\n",
    "NARA.title = NARA['title'].str.replace('Max','max')\n",
    "NARA.title = NARA['title'].str.replace('멕스','max')\n",
    "\n",
    "NARA.title = NARA['title'].str.replace('iphone_mini12','iphone_12mini')\n",
    "NARA.title = NARA['title'].str.replace('iphone_pro13','iphone_13pro')\n",
    "NARA.title = NARA['title'].str.replace('iphone_mini13','iphone_13mini')\n",
    "\n",
    "NARA"
   ],
   "metadata": {
    "collapsed": false,
    "pycharm": {
     "name": "#%%\n"
    }
   }
  },
  {
   "cell_type": "code",
   "execution_count": 73,
   "outputs": [],
   "source": [
    "def changeTitle(target, p_List):\n",
    "    for product in p_List:\n",
    "        case = target[target['title'].str.contains(product)].index\n",
    "        target['title'].iloc[case] = product.upper()\n",
    "    return target"
   ],
   "metadata": {
    "collapsed": false,
    "pycharm": {
     "name": "#%%\n"
    }
   }
  },
  {
   "cell_type": "code",
   "execution_count": 74,
   "outputs": [],
   "source": [
    "productlistI = ['iphone_14promax', 'iphone_14pro', 'iphone_14_plus', 'iphone_14', 'iphone_se3','iphone_13promax', 'iphone_13pro', 'iphone_13mini', 'iphone_13','iphone_12promax', 'iphone_12pro', 'iphone_12mini', 'iphone_12', 'iphone_se2', 'iphone_11promax', 'iphone_11pro', 'iphone_11', 'iphone_xsmax', 'iphone_xs', 'iphone_xr', 'iphone_x', 'iphone_8plus', 'iphone_8', 'iphone_7plus', 'iphone_7', 'iphone_se', 'iphone_6s_plus', 'iphone_6s', 'iphone_6_plus', 'iphone_6', 'iphone_5','iphone_5s', 'iphone_4s', 'iphone_4']\n",
    "newproductlistI=[]\n",
    "countI = []\n",
    "i=1\n",
    "for pi in productlistI:\n",
    "    countI.append(i)\n",
    "    newproductlistI.append(pi.upper())\n",
    "    i=i+1\n"
   ],
   "metadata": {
    "collapsed": false,
    "pycharm": {
     "name": "#%%\n"
    }
   }
  },
  {
   "cell_type": "code",
   "execution_count": 75,
   "outputs": [
    {
     "name": "stderr",
     "output_type": "stream",
     "text": [
      "C:\\Users\\ljg98\\AppData\\Local\\Temp\\ipykernel_2524\\1234974987.py:4: SettingWithCopyWarning: \n",
      "A value is trying to be set on a copy of a slice from a DataFrame\n",
      "\n",
      "See the caveats in the documentation: https://pandas.pydata.org/pandas-docs/stable/user_guide/indexing.html#returning-a-view-versus-a-copy\n",
      "  target['title'].iloc[case] = product.upper()\n"
     ]
    },
    {
     "data": {
      "text/plain": "              postingDate isSale            title  \\\n0     2022-11-01 00:00:00     판매  IPHONE_11PROMAX   \n1     2022-11-01 00:03:00     판매         IPHONE_8   \n2     2022-11-01 00:04:00     판매     IPHONE_13PRO   \n3     2022-11-01 00:05:00     판매        IPHONE_6S   \n4     2022-11-01 00:06:00     판매     IPHONE_12PRO   \n...                   ...    ...              ...   \n10425 2022-11-10 14:58:00     판매        IPHONE_13   \n10426 2022-11-10 15:00:00     판매        IPHONE_11   \n10427 2022-11-10 15:01:00     판매    IPHONE_12MINI   \n10428 2022-11-10 15:02:00     판매     IPHONE_11PRO   \n10429 2022-11-10 15:04:00     판매     IPHONE_13PRO   \n\n                                                     url    price  \n0      https://cafe.naver.com/ca-fe/cafes/10050146/ar...   470000  \n1      https://cafe.naver.com/ca-fe/cafes/10050146/ar...   150000  \n2      https://cafe.naver.com/ca-fe/cafes/10050146/ar...  1050000  \n3      https://cafe.naver.com/ca-fe/cafes/10050146/ar...   160000  \n4      https://cafe.naver.com/ca-fe/cafes/10050146/ar...   760000  \n...                                                  ...      ...  \n10425  https://cafe.naver.com/ca-fe/cafes/10050146/ar...   900000  \n10426  https://cafe.naver.com/ca-fe/cafes/10050146/ar...   250000  \n10427  https://cafe.naver.com/ca-fe/cafes/10050146/ar...   300000  \n10428  https://cafe.naver.com/ca-fe/cafes/10050146/ar...   400000  \n10429  https://cafe.naver.com/ca-fe/cafes/10050146/ar...   850000  \n\n[10430 rows x 5 columns]",
      "text/html": "<div>\n<style scoped>\n    .dataframe tbody tr th:only-of-type {\n        vertical-align: middle;\n    }\n\n    .dataframe tbody tr th {\n        vertical-align: top;\n    }\n\n    .dataframe thead th {\n        text-align: right;\n    }\n</style>\n<table border=\"1\" class=\"dataframe\">\n  <thead>\n    <tr style=\"text-align: right;\">\n      <th></th>\n      <th>postingDate</th>\n      <th>isSale</th>\n      <th>title</th>\n      <th>url</th>\n      <th>price</th>\n    </tr>\n  </thead>\n  <tbody>\n    <tr>\n      <th>0</th>\n      <td>2022-11-01 00:00:00</td>\n      <td>판매</td>\n      <td>IPHONE_11PROMAX</td>\n      <td>https://cafe.naver.com/ca-fe/cafes/10050146/ar...</td>\n      <td>470000</td>\n    </tr>\n    <tr>\n      <th>1</th>\n      <td>2022-11-01 00:03:00</td>\n      <td>판매</td>\n      <td>IPHONE_8</td>\n      <td>https://cafe.naver.com/ca-fe/cafes/10050146/ar...</td>\n      <td>150000</td>\n    </tr>\n    <tr>\n      <th>2</th>\n      <td>2022-11-01 00:04:00</td>\n      <td>판매</td>\n      <td>IPHONE_13PRO</td>\n      <td>https://cafe.naver.com/ca-fe/cafes/10050146/ar...</td>\n      <td>1050000</td>\n    </tr>\n    <tr>\n      <th>3</th>\n      <td>2022-11-01 00:05:00</td>\n      <td>판매</td>\n      <td>IPHONE_6S</td>\n      <td>https://cafe.naver.com/ca-fe/cafes/10050146/ar...</td>\n      <td>160000</td>\n    </tr>\n    <tr>\n      <th>4</th>\n      <td>2022-11-01 00:06:00</td>\n      <td>판매</td>\n      <td>IPHONE_12PRO</td>\n      <td>https://cafe.naver.com/ca-fe/cafes/10050146/ar...</td>\n      <td>760000</td>\n    </tr>\n    <tr>\n      <th>...</th>\n      <td>...</td>\n      <td>...</td>\n      <td>...</td>\n      <td>...</td>\n      <td>...</td>\n    </tr>\n    <tr>\n      <th>10425</th>\n      <td>2022-11-10 14:58:00</td>\n      <td>판매</td>\n      <td>IPHONE_13</td>\n      <td>https://cafe.naver.com/ca-fe/cafes/10050146/ar...</td>\n      <td>900000</td>\n    </tr>\n    <tr>\n      <th>10426</th>\n      <td>2022-11-10 15:00:00</td>\n      <td>판매</td>\n      <td>IPHONE_11</td>\n      <td>https://cafe.naver.com/ca-fe/cafes/10050146/ar...</td>\n      <td>250000</td>\n    </tr>\n    <tr>\n      <th>10427</th>\n      <td>2022-11-10 15:01:00</td>\n      <td>판매</td>\n      <td>IPHONE_12MINI</td>\n      <td>https://cafe.naver.com/ca-fe/cafes/10050146/ar...</td>\n      <td>300000</td>\n    </tr>\n    <tr>\n      <th>10428</th>\n      <td>2022-11-10 15:02:00</td>\n      <td>판매</td>\n      <td>IPHONE_11PRO</td>\n      <td>https://cafe.naver.com/ca-fe/cafes/10050146/ar...</td>\n      <td>400000</td>\n    </tr>\n    <tr>\n      <th>10429</th>\n      <td>2022-11-10 15:04:00</td>\n      <td>판매</td>\n      <td>IPHONE_13PRO</td>\n      <td>https://cafe.naver.com/ca-fe/cafes/10050146/ar...</td>\n      <td>850000</td>\n    </tr>\n  </tbody>\n</table>\n<p>10430 rows × 5 columns</p>\n</div>"
     },
     "execution_count": 75,
     "metadata": {},
     "output_type": "execute_result"
    }
   ],
   "source": [
    "NARA = changeTitle(NARA,productlistI)\n",
    "NARA"
   ],
   "metadata": {
    "collapsed": false,
    "pycharm": {
     "name": "#%%\n"
    }
   }
  },
  {
   "cell_type": "code",
   "execution_count": 75,
   "outputs": [],
   "source": [],
   "metadata": {
    "collapsed": false,
    "pycharm": {
     "name": "#%%\n"
    }
   }
  },
  {
   "cell_type": "code",
   "execution_count": 76,
   "outputs": [],
   "source": [
    "NARA['postingDate']  = pd.to_datetime(NARA['postingDate'] , format='%Y-%m-%d %H:%M:%S')"
   ],
   "metadata": {
    "collapsed": false,
    "pycharm": {
     "name": "#%%\n"
    }
   }
  },
  {
   "cell_type": "code",
   "execution_count": 77,
   "outputs": [
    {
     "name": "stdout",
     "output_type": "stream",
     "text": [
      "<class 'pandas.core.frame.DataFrame'>\n",
      "RangeIndex: 10430 entries, 0 to 10429\n",
      "Data columns (total 5 columns):\n",
      " #   Column       Non-Null Count  Dtype         \n",
      "---  ------       --------------  -----         \n",
      " 0   postingDate  10430 non-null  datetime64[ns]\n",
      " 1   isSale       10430 non-null  object        \n",
      " 2   title        10430 non-null  object        \n",
      " 3   url          10430 non-null  object        \n",
      " 4   price        10430 non-null  int64         \n",
      "dtypes: datetime64[ns](1), int64(1), object(3)\n",
      "memory usage: 407.5+ KB\n"
     ]
    }
   ],
   "source": [
    "NARA.info()"
   ],
   "metadata": {
    "collapsed": false,
    "pycharm": {
     "name": "#%%\n"
    }
   }
  },
  {
   "cell_type": "code",
   "execution_count": 78,
   "outputs": [
    {
     "data": {
      "text/plain": "              postingDate isSale            title  \\\n0     2022-11-01 00:00:00     판매  IPHONE_11PROMAX   \n1     2022-11-01 00:03:00     판매         IPHONE_8   \n2     2022-11-01 00:04:00     판매     IPHONE_13PRO   \n3     2022-11-01 00:05:00     판매        IPHONE_6S   \n4     2022-11-01 00:06:00     판매     IPHONE_12PRO   \n...                   ...    ...              ...   \n10425 2022-11-10 14:58:00     판매        IPHONE_13   \n10426 2022-11-10 15:00:00     판매        IPHONE_11   \n10427 2022-11-10 15:01:00     판매    IPHONE_12MINI   \n10428 2022-11-10 15:02:00     판매     IPHONE_11PRO   \n10429 2022-11-10 15:04:00     판매     IPHONE_13PRO   \n\n                                                     url    price  \n0      https://cafe.naver.com/ca-fe/cafes/10050146/ar...   470000  \n1      https://cafe.naver.com/ca-fe/cafes/10050146/ar...   150000  \n2      https://cafe.naver.com/ca-fe/cafes/10050146/ar...  1050000  \n3      https://cafe.naver.com/ca-fe/cafes/10050146/ar...   160000  \n4      https://cafe.naver.com/ca-fe/cafes/10050146/ar...   760000  \n...                                                  ...      ...  \n10425  https://cafe.naver.com/ca-fe/cafes/10050146/ar...   900000  \n10426  https://cafe.naver.com/ca-fe/cafes/10050146/ar...   250000  \n10427  https://cafe.naver.com/ca-fe/cafes/10050146/ar...   300000  \n10428  https://cafe.naver.com/ca-fe/cafes/10050146/ar...   400000  \n10429  https://cafe.naver.com/ca-fe/cafes/10050146/ar...   850000  \n\n[10430 rows x 5 columns]",
      "text/html": "<div>\n<style scoped>\n    .dataframe tbody tr th:only-of-type {\n        vertical-align: middle;\n    }\n\n    .dataframe tbody tr th {\n        vertical-align: top;\n    }\n\n    .dataframe thead th {\n        text-align: right;\n    }\n</style>\n<table border=\"1\" class=\"dataframe\">\n  <thead>\n    <tr style=\"text-align: right;\">\n      <th></th>\n      <th>postingDate</th>\n      <th>isSale</th>\n      <th>title</th>\n      <th>url</th>\n      <th>price</th>\n    </tr>\n  </thead>\n  <tbody>\n    <tr>\n      <th>0</th>\n      <td>2022-11-01 00:00:00</td>\n      <td>판매</td>\n      <td>IPHONE_11PROMAX</td>\n      <td>https://cafe.naver.com/ca-fe/cafes/10050146/ar...</td>\n      <td>470000</td>\n    </tr>\n    <tr>\n      <th>1</th>\n      <td>2022-11-01 00:03:00</td>\n      <td>판매</td>\n      <td>IPHONE_8</td>\n      <td>https://cafe.naver.com/ca-fe/cafes/10050146/ar...</td>\n      <td>150000</td>\n    </tr>\n    <tr>\n      <th>2</th>\n      <td>2022-11-01 00:04:00</td>\n      <td>판매</td>\n      <td>IPHONE_13PRO</td>\n      <td>https://cafe.naver.com/ca-fe/cafes/10050146/ar...</td>\n      <td>1050000</td>\n    </tr>\n    <tr>\n      <th>3</th>\n      <td>2022-11-01 00:05:00</td>\n      <td>판매</td>\n      <td>IPHONE_6S</td>\n      <td>https://cafe.naver.com/ca-fe/cafes/10050146/ar...</td>\n      <td>160000</td>\n    </tr>\n    <tr>\n      <th>4</th>\n      <td>2022-11-01 00:06:00</td>\n      <td>판매</td>\n      <td>IPHONE_12PRO</td>\n      <td>https://cafe.naver.com/ca-fe/cafes/10050146/ar...</td>\n      <td>760000</td>\n    </tr>\n    <tr>\n      <th>...</th>\n      <td>...</td>\n      <td>...</td>\n      <td>...</td>\n      <td>...</td>\n      <td>...</td>\n    </tr>\n    <tr>\n      <th>10425</th>\n      <td>2022-11-10 14:58:00</td>\n      <td>판매</td>\n      <td>IPHONE_13</td>\n      <td>https://cafe.naver.com/ca-fe/cafes/10050146/ar...</td>\n      <td>900000</td>\n    </tr>\n    <tr>\n      <th>10426</th>\n      <td>2022-11-10 15:00:00</td>\n      <td>판매</td>\n      <td>IPHONE_11</td>\n      <td>https://cafe.naver.com/ca-fe/cafes/10050146/ar...</td>\n      <td>250000</td>\n    </tr>\n    <tr>\n      <th>10427</th>\n      <td>2022-11-10 15:01:00</td>\n      <td>판매</td>\n      <td>IPHONE_12MINI</td>\n      <td>https://cafe.naver.com/ca-fe/cafes/10050146/ar...</td>\n      <td>300000</td>\n    </tr>\n    <tr>\n      <th>10428</th>\n      <td>2022-11-10 15:02:00</td>\n      <td>판매</td>\n      <td>IPHONE_11PRO</td>\n      <td>https://cafe.naver.com/ca-fe/cafes/10050146/ar...</td>\n      <td>400000</td>\n    </tr>\n    <tr>\n      <th>10429</th>\n      <td>2022-11-10 15:04:00</td>\n      <td>판매</td>\n      <td>IPHONE_13PRO</td>\n      <td>https://cafe.naver.com/ca-fe/cafes/10050146/ar...</td>\n      <td>850000</td>\n    </tr>\n  </tbody>\n</table>\n<p>10430 rows × 5 columns</p>\n</div>"
     },
     "execution_count": 78,
     "metadata": {},
     "output_type": "execute_result"
    }
   ],
   "source": [
    "NARA.to_csv(\"NARA.csv\", mode='w')\n",
    "NARA"
   ],
   "metadata": {
    "collapsed": false,
    "pycharm": {
     "name": "#%%\n"
    }
   }
  }
 ],
 "metadata": {
  "kernelspec": {
   "display_name": "Python 3",
   "language": "python",
   "name": "python3"
  },
  "language_info": {
   "codemirror_mode": {
    "name": "ipython",
    "version": 2
   },
   "file_extension": ".py",
   "mimetype": "text/x-python",
   "name": "python",
   "nbconvert_exporter": "python",
   "pygments_lexer": "ipython2",
   "version": "2.7.6"
  }
 },
 "nbformat": 4,
 "nbformat_minor": 0
}