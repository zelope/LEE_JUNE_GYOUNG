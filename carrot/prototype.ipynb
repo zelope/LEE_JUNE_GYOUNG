{
 "cells": [
  {
   "cell_type": "code",
   "execution_count": 1451,
   "outputs": [],
   "source": [
    "import pandas as pd\n",
    "carrot= pd.read_csv(\"testfile/carrot_Data_50.txt\",index_col = 0)\n",
    "\n"
   ],
   "metadata": {
    "collapsed": false,
    "pycharm": {
     "name": "#%%\n"
    }
   }
  },
  {
   "cell_type": "code",
   "execution_count": 1452,
   "outputs": [
    {
     "data": {
      "text/plain": "                                                title       price  \\\n0   (새상품)아이폰13케이스/아이폰13프로pro케이스/아이폰12케이스/아이폰12프로pr...      4,000원   \n1              아이폰 11 아이폰12 아이폰12프로맥스 투명케이스 (새제품) 끈포함      2,000원   \n2                     아이폰 12 미니 256기가 화이트 아이폰12 아이폰미니    500,000원   \n3                        아이폰 12 12gb 레드 ( iPhone 12 )    500,000원   \n4                (새제품)아이폰 12프로 케이스/아이폰케이스/아이폰12프로/아이폰      8,000원   \n5                  아이폰 12 / 프로 케이스 iphone 12 pro case         NaN   \n6    아이폰12 미니 128g iphone12 mini 블랙 판매합니다(화면 보호필름입니다)    400,000원   \n7                               아이폰12pro 128G 아이폰12프로    720,000원   \n8   아이폰 12프로 그라파이트 128g 자급제-->아이폰 12프로 맥스 그라파이트 + ...         NaN   \n9                             아이폰12프로/아이폰12 정품 실리콘케이스     45,000원   \n10                                  아이폰12/아이폰12프로 케이스      5,000원   \n11           잉크 아이폰12프로맥스케이스 / iphone 12 pro max case     25,000원   \n12                                아이폰12 프로 아이폰12프로 맥스      3,000원   \n13                              아이폰12————->아이폰12이상 모델    212,121원   \n14  (새상품)아이폰13케이스/아이폰13프로pro케이스/아이폰12케이스/아이폰12프로pr...      4,000원   \n15                          아이폰12프로128 애케플으로 아이폰13구해요         NaN   \n16                          아이폰12 아이폰12프로 Pelican 케이스     16,000원   \n17                      아이폰12 미니 화이트 아이폰 미니 12 iphone    450,000원   \n18                      아이폰12 미니 화이트 아이폰 미니 12 iphone    450,000원   \n19                      아이폰 12 미니 화이트 >> 아이폰 12 이상 교환    121,212원   \n20                        아이폰12 프로 아이폰12 pro 256gb 실버    780,000원   \n21       아이폰11프로256이랑 아이폰 12or12pro 13 13pro 교환하실 분!!     10,000원   \n22                         새상품 ) 아이폰 12 케이스 iphone 12      2,500원   \n23                      (새상품)아이폰12 / 아이폰12프로 맥세이프 케이스     16,000원   \n24                   미개봉 아이폰12 / 아이폰12 프로 에어 가드 젤리케이스      2,000원   \n25                           아이폰12프맥 > 아이폰12프로, 아이폰12          1원   \n26                     아이폰12/아이폰12pro 하트 케이스 + 그립톡 같이     10,000원   \n27  아이폰12프로맥스케이스 / 폰케이스 / 아이폰12프로 / 아이폰12프로맥스 / 아이...      2,000원   \n28                               아이폰12/아이폰12프로 겸용 케이스      5,000원   \n29                       아이폰 12 미니 256 을 아이폰 12 128교환         NaN   \n30            [급매 S급] iPhone 12 mini 128G / 아이폰 12 미니    380,000원   \n31                       아이폰 12 케이스 일괄 판매 (12프로 , 12)     15,000원   \n32                          아이폰12 / 아이폰12프로 케이스 투명 범퍼      1,500원   \n33                       아이폰12 아이폰12프로 벨킨 울트라글라스 강화유리     20,000원   \n34                    아이폰12미니 128 , iPhone12 mini 128    600,000원   \n35                         아이폰12 / 아이폰12pro 강화유리필름 2개     10,000원   \n36           망그러진 곰 아이폰12프로/아이폰12 그립톡 부착된 케이스 팝니다❤️‍🔥     13,500원   \n37              아이폰 se3 아이폰12미니나 12 교신 원해요 추물 에어팟 2세대         NaN   \n38                     아이폰12맥세이프케이스 아이폰12프로맥세이프케이스팝니다      8,000원   \n39       iPhone 12 pro max / 아이폰 12 프로맥스 128GB 판매합니다.    850,000원   \n40                        아이폰12프로 아이폰12pro 512 골드 팝니다    855,000원   \n41             아이폰12미니 블랙 128GB 자급제 48만원 (아이폰12 mini)    480,000원   \n42  (새상품)아이폰13케이스/아이폰13프로pro케이스/아이폰12케이스/아이폰12프로pr...      4,000원   \n43  아이폰 아이폰11 아이폰 12 아이폰13 아이폰xr 아이폰xs 아이폰x 아이폰전기종...  999만 9999원   \n44                        아이폰12 아이폰13 애플로고 케이스 아이폰케이스      9,000원   \n45  아이폰 케이스 아이폰 12 프로, 아이폰 12 용 앵키하우스 무쪼 MUJJO 가죽 ...     30,000원   \n46                   파손 아이폰7플러스 이상 삽니다. 아이폰x 아이폰11.12    100,000원   \n47                   파손 아이폰7플러스 이상 삽니다. 아이폰x 아이폰11.12    100,000원   \n48                   파손 아이폰7플러스 이상 삽니다. 아이폰x 아이폰11.12    100,000원   \n\n                region  \n0           서울 관악구 신사동  \n1           서울 마포구 대흥동  \n2          경남 김해시 장유3동  \n3         서울 성동구 행당제1동  \n4         서울 서대문구 남가좌동  \n5         대구 수성구 수성1가동  \n6          서울 강서구 화곡본동  \n7          광주 광산구 첨단1동  \n8       서울 성동구 성수2가제1동  \n9          서울 서대문구 홍은동  \n10        인천 미추홀구 주안4동  \n11     경기도 안양시 동안구 평안동  \n12         서울 서대문구 대현동  \n13          전남 여수시 시전동  \n14          서울 관악구 신사동  \n15        경기도 동두천시 중앙동  \n16          서울 서초구 방배동  \n17         서울 서초구 서초2동  \n18          서울 강남구 대치동  \n19          충남 아산시 배방읍  \n20        서울 도봉구 방학제3동  \n21        경기도 광명시 하안3동  \n22          대구 달서구 상인동  \n23             세종시 집현동  \n24    경기도 수원시 영통구 영통1동  \n25         경기도 부천시 춘의동  \n26          서울 관악구 봉천동  \n27       경기도 남양주시 다산2동  \n28        서울 금천구 시흥제2동  \n29           광주 북구 일곡동  \n30        서울 서대문구 남가좌동  \n31          서울 강동구 상일동  \n32          인천 남동구 구월동  \n33  충북 청주시 흥덕구 봉명2.송정동  \n34          서울 강북구 송천동  \n35          경남 밀양시 내이동  \n36          서울 성북구 석관동  \n37     경기도 안산시 단원구 중앙동  \n38        인천 미추홀구 주안5동  \n39        서울 구로구 오류제1동  \n40          서울 은평구 녹번동  \n41      서울 종로구 종로5.6가동  \n42          서울 관악구 신사동  \n43          서울 성동구 용답동  \n44           울산 남구 신정동  \n45         경기도 화성시 진안동  \n46      충남 천안시 동남구 구성동  \n47         경기도 하남시 초일동  \n48       서울 동대문구 휘경제1동  ",
      "text/html": "<div>\n<style scoped>\n    .dataframe tbody tr th:only-of-type {\n        vertical-align: middle;\n    }\n\n    .dataframe tbody tr th {\n        vertical-align: top;\n    }\n\n    .dataframe thead th {\n        text-align: right;\n    }\n</style>\n<table border=\"1\" class=\"dataframe\">\n  <thead>\n    <tr style=\"text-align: right;\">\n      <th></th>\n      <th>title</th>\n      <th>price</th>\n      <th>region</th>\n    </tr>\n  </thead>\n  <tbody>\n    <tr>\n      <th>0</th>\n      <td>(새상품)아이폰13케이스/아이폰13프로pro케이스/아이폰12케이스/아이폰12프로pr...</td>\n      <td>4,000원</td>\n      <td>서울 관악구 신사동</td>\n    </tr>\n    <tr>\n      <th>1</th>\n      <td>아이폰 11 아이폰12 아이폰12프로맥스 투명케이스 (새제품) 끈포함</td>\n      <td>2,000원</td>\n      <td>서울 마포구 대흥동</td>\n    </tr>\n    <tr>\n      <th>2</th>\n      <td>아이폰 12 미니 256기가 화이트 아이폰12 아이폰미니</td>\n      <td>500,000원</td>\n      <td>경남 김해시 장유3동</td>\n    </tr>\n    <tr>\n      <th>3</th>\n      <td>아이폰 12 12gb 레드 ( iPhone 12 )</td>\n      <td>500,000원</td>\n      <td>서울 성동구 행당제1동</td>\n    </tr>\n    <tr>\n      <th>4</th>\n      <td>(새제품)아이폰 12프로 케이스/아이폰케이스/아이폰12프로/아이폰</td>\n      <td>8,000원</td>\n      <td>서울 서대문구 남가좌동</td>\n    </tr>\n    <tr>\n      <th>5</th>\n      <td>아이폰 12 / 프로 케이스 iphone 12 pro case</td>\n      <td>NaN</td>\n      <td>대구 수성구 수성1가동</td>\n    </tr>\n    <tr>\n      <th>6</th>\n      <td>아이폰12 미니 128g iphone12 mini 블랙 판매합니다(화면 보호필름입니다)</td>\n      <td>400,000원</td>\n      <td>서울 강서구 화곡본동</td>\n    </tr>\n    <tr>\n      <th>7</th>\n      <td>아이폰12pro 128G 아이폰12프로</td>\n      <td>720,000원</td>\n      <td>광주 광산구 첨단1동</td>\n    </tr>\n    <tr>\n      <th>8</th>\n      <td>아이폰 12프로 그라파이트 128g 자급제--&gt;아이폰 12프로 맥스 그라파이트 + ...</td>\n      <td>NaN</td>\n      <td>서울 성동구 성수2가제1동</td>\n    </tr>\n    <tr>\n      <th>9</th>\n      <td>아이폰12프로/아이폰12 정품 실리콘케이스</td>\n      <td>45,000원</td>\n      <td>서울 서대문구 홍은동</td>\n    </tr>\n    <tr>\n      <th>10</th>\n      <td>아이폰12/아이폰12프로 케이스</td>\n      <td>5,000원</td>\n      <td>인천 미추홀구 주안4동</td>\n    </tr>\n    <tr>\n      <th>11</th>\n      <td>잉크 아이폰12프로맥스케이스 / iphone 12 pro max case</td>\n      <td>25,000원</td>\n      <td>경기도 안양시 동안구 평안동</td>\n    </tr>\n    <tr>\n      <th>12</th>\n      <td>아이폰12 프로 아이폰12프로 맥스</td>\n      <td>3,000원</td>\n      <td>서울 서대문구 대현동</td>\n    </tr>\n    <tr>\n      <th>13</th>\n      <td>아이폰12————-&gt;아이폰12이상 모델</td>\n      <td>212,121원</td>\n      <td>전남 여수시 시전동</td>\n    </tr>\n    <tr>\n      <th>14</th>\n      <td>(새상품)아이폰13케이스/아이폰13프로pro케이스/아이폰12케이스/아이폰12프로pr...</td>\n      <td>4,000원</td>\n      <td>서울 관악구 신사동</td>\n    </tr>\n    <tr>\n      <th>15</th>\n      <td>아이폰12프로128 애케플으로 아이폰13구해요</td>\n      <td>NaN</td>\n      <td>경기도 동두천시 중앙동</td>\n    </tr>\n    <tr>\n      <th>16</th>\n      <td>아이폰12 아이폰12프로 Pelican 케이스</td>\n      <td>16,000원</td>\n      <td>서울 서초구 방배동</td>\n    </tr>\n    <tr>\n      <th>17</th>\n      <td>아이폰12 미니 화이트 아이폰 미니 12 iphone</td>\n      <td>450,000원</td>\n      <td>서울 서초구 서초2동</td>\n    </tr>\n    <tr>\n      <th>18</th>\n      <td>아이폰12 미니 화이트 아이폰 미니 12 iphone</td>\n      <td>450,000원</td>\n      <td>서울 강남구 대치동</td>\n    </tr>\n    <tr>\n      <th>19</th>\n      <td>아이폰 12 미니 화이트 &gt;&gt; 아이폰 12 이상 교환</td>\n      <td>121,212원</td>\n      <td>충남 아산시 배방읍</td>\n    </tr>\n    <tr>\n      <th>20</th>\n      <td>아이폰12 프로 아이폰12 pro 256gb 실버</td>\n      <td>780,000원</td>\n      <td>서울 도봉구 방학제3동</td>\n    </tr>\n    <tr>\n      <th>21</th>\n      <td>아이폰11프로256이랑 아이폰 12or12pro 13 13pro 교환하실 분!!</td>\n      <td>10,000원</td>\n      <td>경기도 광명시 하안3동</td>\n    </tr>\n    <tr>\n      <th>22</th>\n      <td>새상품 ) 아이폰 12 케이스 iphone 12</td>\n      <td>2,500원</td>\n      <td>대구 달서구 상인동</td>\n    </tr>\n    <tr>\n      <th>23</th>\n      <td>(새상품)아이폰12 / 아이폰12프로 맥세이프 케이스</td>\n      <td>16,000원</td>\n      <td>세종시 집현동</td>\n    </tr>\n    <tr>\n      <th>24</th>\n      <td>미개봉 아이폰12 / 아이폰12 프로 에어 가드 젤리케이스</td>\n      <td>2,000원</td>\n      <td>경기도 수원시 영통구 영통1동</td>\n    </tr>\n    <tr>\n      <th>25</th>\n      <td>아이폰12프맥 &gt; 아이폰12프로, 아이폰12</td>\n      <td>1원</td>\n      <td>경기도 부천시 춘의동</td>\n    </tr>\n    <tr>\n      <th>26</th>\n      <td>아이폰12/아이폰12pro 하트 케이스 + 그립톡 같이</td>\n      <td>10,000원</td>\n      <td>서울 관악구 봉천동</td>\n    </tr>\n    <tr>\n      <th>27</th>\n      <td>아이폰12프로맥스케이스 / 폰케이스 / 아이폰12프로 / 아이폰12프로맥스 / 아이...</td>\n      <td>2,000원</td>\n      <td>경기도 남양주시 다산2동</td>\n    </tr>\n    <tr>\n      <th>28</th>\n      <td>아이폰12/아이폰12프로 겸용 케이스</td>\n      <td>5,000원</td>\n      <td>서울 금천구 시흥제2동</td>\n    </tr>\n    <tr>\n      <th>29</th>\n      <td>아이폰 12 미니 256 을 아이폰 12 128교환</td>\n      <td>NaN</td>\n      <td>광주 북구 일곡동</td>\n    </tr>\n    <tr>\n      <th>30</th>\n      <td>[급매 S급] iPhone 12 mini 128G / 아이폰 12 미니</td>\n      <td>380,000원</td>\n      <td>서울 서대문구 남가좌동</td>\n    </tr>\n    <tr>\n      <th>31</th>\n      <td>아이폰 12 케이스 일괄 판매 (12프로 , 12)</td>\n      <td>15,000원</td>\n      <td>서울 강동구 상일동</td>\n    </tr>\n    <tr>\n      <th>32</th>\n      <td>아이폰12 / 아이폰12프로 케이스 투명 범퍼</td>\n      <td>1,500원</td>\n      <td>인천 남동구 구월동</td>\n    </tr>\n    <tr>\n      <th>33</th>\n      <td>아이폰12 아이폰12프로 벨킨 울트라글라스 강화유리</td>\n      <td>20,000원</td>\n      <td>충북 청주시 흥덕구 봉명2.송정동</td>\n    </tr>\n    <tr>\n      <th>34</th>\n      <td>아이폰12미니 128 , iPhone12 mini 128</td>\n      <td>600,000원</td>\n      <td>서울 강북구 송천동</td>\n    </tr>\n    <tr>\n      <th>35</th>\n      <td>아이폰12 / 아이폰12pro 강화유리필름 2개</td>\n      <td>10,000원</td>\n      <td>경남 밀양시 내이동</td>\n    </tr>\n    <tr>\n      <th>36</th>\n      <td>망그러진 곰 아이폰12프로/아이폰12 그립톡 부착된 케이스 팝니다❤️‍🔥</td>\n      <td>13,500원</td>\n      <td>서울 성북구 석관동</td>\n    </tr>\n    <tr>\n      <th>37</th>\n      <td>아이폰 se3 아이폰12미니나 12 교신 원해요 추물 에어팟 2세대</td>\n      <td>NaN</td>\n      <td>경기도 안산시 단원구 중앙동</td>\n    </tr>\n    <tr>\n      <th>38</th>\n      <td>아이폰12맥세이프케이스 아이폰12프로맥세이프케이스팝니다</td>\n      <td>8,000원</td>\n      <td>인천 미추홀구 주안5동</td>\n    </tr>\n    <tr>\n      <th>39</th>\n      <td>iPhone 12 pro max / 아이폰 12 프로맥스 128GB 판매합니다.</td>\n      <td>850,000원</td>\n      <td>서울 구로구 오류제1동</td>\n    </tr>\n    <tr>\n      <th>40</th>\n      <td>아이폰12프로 아이폰12pro 512 골드 팝니다</td>\n      <td>855,000원</td>\n      <td>서울 은평구 녹번동</td>\n    </tr>\n    <tr>\n      <th>41</th>\n      <td>아이폰12미니 블랙 128GB 자급제 48만원 (아이폰12 mini)</td>\n      <td>480,000원</td>\n      <td>서울 종로구 종로5.6가동</td>\n    </tr>\n    <tr>\n      <th>42</th>\n      <td>(새상품)아이폰13케이스/아이폰13프로pro케이스/아이폰12케이스/아이폰12프로pr...</td>\n      <td>4,000원</td>\n      <td>서울 관악구 신사동</td>\n    </tr>\n    <tr>\n      <th>43</th>\n      <td>아이폰 아이폰11 아이폰 12 아이폰13 아이폰xr 아이폰xs 아이폰x 아이폰전기종...</td>\n      <td>999만 9999원</td>\n      <td>서울 성동구 용답동</td>\n    </tr>\n    <tr>\n      <th>44</th>\n      <td>아이폰12 아이폰13 애플로고 케이스 아이폰케이스</td>\n      <td>9,000원</td>\n      <td>울산 남구 신정동</td>\n    </tr>\n    <tr>\n      <th>45</th>\n      <td>아이폰 케이스 아이폰 12 프로, 아이폰 12 용 앵키하우스 무쪼 MUJJO 가죽 ...</td>\n      <td>30,000원</td>\n      <td>경기도 화성시 진안동</td>\n    </tr>\n    <tr>\n      <th>46</th>\n      <td>파손 아이폰7플러스 이상 삽니다. 아이폰x 아이폰11.12</td>\n      <td>100,000원</td>\n      <td>충남 천안시 동남구 구성동</td>\n    </tr>\n    <tr>\n      <th>47</th>\n      <td>파손 아이폰7플러스 이상 삽니다. 아이폰x 아이폰11.12</td>\n      <td>100,000원</td>\n      <td>경기도 하남시 초일동</td>\n    </tr>\n    <tr>\n      <th>48</th>\n      <td>파손 아이폰7플러스 이상 삽니다. 아이폰x 아이폰11.12</td>\n      <td>100,000원</td>\n      <td>서울 동대문구 휘경제1동</td>\n    </tr>\n  </tbody>\n</table>\n</div>"
     },
     "execution_count": 1452,
     "metadata": {},
     "output_type": "execute_result"
    }
   ],
   "source": [
    "carrot"
   ],
   "metadata": {
    "collapsed": false,
    "pycharm": {
     "name": "#%%\n"
    }
   }
  },
  {
   "cell_type": "code",
   "execution_count": 1453,
   "outputs": [
    {
     "name": "stdout",
     "output_type": "stream",
     "text": [
      "<class 'pandas.core.frame.DataFrame'>\n",
      "Int64Index: 49 entries, 0 to 48\n",
      "Data columns (total 3 columns):\n",
      " #   Column  Non-Null Count  Dtype \n",
      "---  ------  --------------  ----- \n",
      " 0   title   49 non-null     object\n",
      " 1   price   44 non-null     object\n",
      " 2   region  49 non-null     object\n",
      "dtypes: object(3)\n",
      "memory usage: 1.5+ KB\n"
     ]
    }
   ],
   "source": [
    "carrot.info()"
   ],
   "metadata": {
    "collapsed": false,
    "pycharm": {
     "name": "#%%\n"
    }
   }
  },
  {
   "cell_type": "code",
   "execution_count": 1454,
   "outputs": [
    {
     "name": "stdout",
     "output_type": "stream",
     "text": [
      "<class 'pandas.core.frame.DataFrame'>\n",
      "Int64Index: 44 entries, 0 to 48\n",
      "Data columns (total 3 columns):\n",
      " #   Column  Non-Null Count  Dtype \n",
      "---  ------  --------------  ----- \n",
      " 0   title   44 non-null     object\n",
      " 1   price   44 non-null     object\n",
      " 2   region  44 non-null     object\n",
      "dtypes: object(3)\n",
      "memory usage: 1.4+ KB\n"
     ]
    }
   ],
   "source": [
    "carrot = carrot.dropna(axis=0)\n",
    "carrot.info()"
   ],
   "metadata": {
    "collapsed": false,
    "pycharm": {
     "name": "#%%\n"
    }
   }
  },
  {
   "cell_type": "code",
   "execution_count": 1455,
   "outputs": [
    {
     "data": {
      "text/plain": "서울 관악구 신사동            3\n서울 서대문구 남가좌동          2\n인천 미추홀구 주안5동          1\n경기도 남양주시 다산2동         1\n서울 금천구 시흥제2동          1\n서울 강동구 상일동            1\n인천 남동구 구월동            1\n충북 청주시 흥덕구 봉명2.송정동    1\n서울 강북구 송천동            1\n경남 밀양시 내이동            1\n서울 성북구 석관동            1\n서울 구로구 오류제1동          1\n경기도 부천시 춘의동           1\n서울 은평구 녹번동            1\n서울 종로구 종로5.6가동        1\n서울 성동구 용답동            1\n울산 남구 신정동             1\n경기도 화성시 진안동           1\n충남 천안시 동남구 구성동        1\n경기도 하남시 초일동           1\n서울 관악구 봉천동            1\n경기도 수원시 영통구 영통1동      1\n서울 마포구 대흥동            1\n서울 서대문구 대현동           1\n경남 김해시 장유3동           1\n서울 성동구 행당제1동          1\n서울 강서구 화곡본동           1\n광주 광산구 첨단1동           1\n서울 서대문구 홍은동           1\n인천 미추홀구 주안4동          1\n경기도 안양시 동안구 평안동       1\n전남 여수시 시전동            1\n세종시 집현동               1\n서울 서초구 방배동            1\n서울 서초구 서초2동           1\n서울 강남구 대치동            1\n충남 아산시 배방읍            1\n서울 도봉구 방학제3동          1\n경기도 광명시 하안3동          1\n대구 달서구 상인동            1\n서울 동대문구 휘경제1동         1\nName: region, dtype: int64"
     },
     "execution_count": 1455,
     "metadata": {},
     "output_type": "execute_result"
    }
   ],
   "source": [
    "carrot['region'].value_counts()"
   ],
   "metadata": {
    "collapsed": false,
    "pycharm": {
     "name": "#%%\n"
    }
   }
  },
  {
   "cell_type": "code",
   "execution_count": 1456,
   "outputs": [],
   "source": [
    "region = pd.DataFrame(columns=['region','regioncode'])"
   ],
   "metadata": {
    "collapsed": false,
    "pycharm": {
     "name": "#%%\n"
    }
   }
  },
  {
   "cell_type": "code",
   "execution_count": 1457,
   "outputs": [
    {
     "data": {
      "text/plain": "Empty DataFrame\nColumns: [region, regioncode]\nIndex: []",
      "text/html": "<div>\n<style scoped>\n    .dataframe tbody tr th:only-of-type {\n        vertical-align: middle;\n    }\n\n    .dataframe tbody tr th {\n        vertical-align: top;\n    }\n\n    .dataframe thead th {\n        text-align: right;\n    }\n</style>\n<table border=\"1\" class=\"dataframe\">\n  <thead>\n    <tr style=\"text-align: right;\">\n      <th></th>\n      <th>region</th>\n      <th>regioncode</th>\n    </tr>\n  </thead>\n  <tbody>\n  </tbody>\n</table>\n</div>"
     },
     "execution_count": 1457,
     "metadata": {},
     "output_type": "execute_result"
    }
   ],
   "source": [
    "region"
   ],
   "metadata": {
    "collapsed": false,
    "pycharm": {
     "name": "#%%\n"
    }
   }
  },
  {
   "cell_type": "code",
   "execution_count": 1458,
   "outputs": [
    {
     "name": "stderr",
     "output_type": "stream",
     "text": [
      "C:\\Users\\ljg98\\AppData\\Local\\Temp\\ipykernel_23756\\3186507496.py:9: FutureWarning: The frame.append method is deprecated and will be removed from pandas in a future version. Use pandas.concat instead.\n",
      "  region = region.append(new_data, ignore_index=True)\n",
      "C:\\Users\\ljg98\\AppData\\Local\\Temp\\ipykernel_23756\\3186507496.py:9: FutureWarning: The frame.append method is deprecated and will be removed from pandas in a future version. Use pandas.concat instead.\n",
      "  region = region.append(new_data, ignore_index=True)\n",
      "C:\\Users\\ljg98\\AppData\\Local\\Temp\\ipykernel_23756\\3186507496.py:9: FutureWarning: The frame.append method is deprecated and will be removed from pandas in a future version. Use pandas.concat instead.\n",
      "  region = region.append(new_data, ignore_index=True)\n",
      "C:\\Users\\ljg98\\AppData\\Local\\Temp\\ipykernel_23756\\3186507496.py:9: FutureWarning: The frame.append method is deprecated and will be removed from pandas in a future version. Use pandas.concat instead.\n",
      "  region = region.append(new_data, ignore_index=True)\n",
      "C:\\Users\\ljg98\\AppData\\Local\\Temp\\ipykernel_23756\\3186507496.py:9: FutureWarning: The frame.append method is deprecated and will be removed from pandas in a future version. Use pandas.concat instead.\n",
      "  region = region.append(new_data, ignore_index=True)\n",
      "C:\\Users\\ljg98\\AppData\\Local\\Temp\\ipykernel_23756\\3186507496.py:9: FutureWarning: The frame.append method is deprecated and will be removed from pandas in a future version. Use pandas.concat instead.\n",
      "  region = region.append(new_data, ignore_index=True)\n",
      "C:\\Users\\ljg98\\AppData\\Local\\Temp\\ipykernel_23756\\3186507496.py:9: FutureWarning: The frame.append method is deprecated and will be removed from pandas in a future version. Use pandas.concat instead.\n",
      "  region = region.append(new_data, ignore_index=True)\n",
      "C:\\Users\\ljg98\\AppData\\Local\\Temp\\ipykernel_23756\\3186507496.py:9: FutureWarning: The frame.append method is deprecated and will be removed from pandas in a future version. Use pandas.concat instead.\n",
      "  region = region.append(new_data, ignore_index=True)\n",
      "C:\\Users\\ljg98\\AppData\\Local\\Temp\\ipykernel_23756\\3186507496.py:9: FutureWarning: The frame.append method is deprecated and will be removed from pandas in a future version. Use pandas.concat instead.\n",
      "  region = region.append(new_data, ignore_index=True)\n",
      "C:\\Users\\ljg98\\AppData\\Local\\Temp\\ipykernel_23756\\3186507496.py:9: FutureWarning: The frame.append method is deprecated and will be removed from pandas in a future version. Use pandas.concat instead.\n",
      "  region = region.append(new_data, ignore_index=True)\n",
      "C:\\Users\\ljg98\\AppData\\Local\\Temp\\ipykernel_23756\\3186507496.py:9: FutureWarning: The frame.append method is deprecated and will be removed from pandas in a future version. Use pandas.concat instead.\n",
      "  region = region.append(new_data, ignore_index=True)\n",
      "C:\\Users\\ljg98\\AppData\\Local\\Temp\\ipykernel_23756\\3186507496.py:9: FutureWarning: The frame.append method is deprecated and will be removed from pandas in a future version. Use pandas.concat instead.\n",
      "  region = region.append(new_data, ignore_index=True)\n",
      "C:\\Users\\ljg98\\AppData\\Local\\Temp\\ipykernel_23756\\3186507496.py:9: FutureWarning: The frame.append method is deprecated and will be removed from pandas in a future version. Use pandas.concat instead.\n",
      "  region = region.append(new_data, ignore_index=True)\n",
      "C:\\Users\\ljg98\\AppData\\Local\\Temp\\ipykernel_23756\\3186507496.py:9: FutureWarning: The frame.append method is deprecated and will be removed from pandas in a future version. Use pandas.concat instead.\n",
      "  region = region.append(new_data, ignore_index=True)\n",
      "C:\\Users\\ljg98\\AppData\\Local\\Temp\\ipykernel_23756\\3186507496.py:9: FutureWarning: The frame.append method is deprecated and will be removed from pandas in a future version. Use pandas.concat instead.\n",
      "  region = region.append(new_data, ignore_index=True)\n",
      "C:\\Users\\ljg98\\AppData\\Local\\Temp\\ipykernel_23756\\3186507496.py:9: FutureWarning: The frame.append method is deprecated and will be removed from pandas in a future version. Use pandas.concat instead.\n",
      "  region = region.append(new_data, ignore_index=True)\n",
      "C:\\Users\\ljg98\\AppData\\Local\\Temp\\ipykernel_23756\\3186507496.py:9: FutureWarning: The frame.append method is deprecated and will be removed from pandas in a future version. Use pandas.concat instead.\n",
      "  region = region.append(new_data, ignore_index=True)\n",
      "C:\\Users\\ljg98\\AppData\\Local\\Temp\\ipykernel_23756\\3186507496.py:9: FutureWarning: The frame.append method is deprecated and will be removed from pandas in a future version. Use pandas.concat instead.\n",
      "  region = region.append(new_data, ignore_index=True)\n",
      "C:\\Users\\ljg98\\AppData\\Local\\Temp\\ipykernel_23756\\3186507496.py:9: FutureWarning: The frame.append method is deprecated and will be removed from pandas in a future version. Use pandas.concat instead.\n",
      "  region = region.append(new_data, ignore_index=True)\n",
      "C:\\Users\\ljg98\\AppData\\Local\\Temp\\ipykernel_23756\\3186507496.py:9: FutureWarning: The frame.append method is deprecated and will be removed from pandas in a future version. Use pandas.concat instead.\n",
      "  region = region.append(new_data, ignore_index=True)\n",
      "C:\\Users\\ljg98\\AppData\\Local\\Temp\\ipykernel_23756\\3186507496.py:9: FutureWarning: The frame.append method is deprecated and will be removed from pandas in a future version. Use pandas.concat instead.\n",
      "  region = region.append(new_data, ignore_index=True)\n",
      "C:\\Users\\ljg98\\AppData\\Local\\Temp\\ipykernel_23756\\3186507496.py:9: FutureWarning: The frame.append method is deprecated and will be removed from pandas in a future version. Use pandas.concat instead.\n",
      "  region = region.append(new_data, ignore_index=True)\n",
      "C:\\Users\\ljg98\\AppData\\Local\\Temp\\ipykernel_23756\\3186507496.py:9: FutureWarning: The frame.append method is deprecated and will be removed from pandas in a future version. Use pandas.concat instead.\n",
      "  region = region.append(new_data, ignore_index=True)\n",
      "C:\\Users\\ljg98\\AppData\\Local\\Temp\\ipykernel_23756\\3186507496.py:9: FutureWarning: The frame.append method is deprecated and will be removed from pandas in a future version. Use pandas.concat instead.\n",
      "  region = region.append(new_data, ignore_index=True)\n",
      "C:\\Users\\ljg98\\AppData\\Local\\Temp\\ipykernel_23756\\3186507496.py:9: FutureWarning: The frame.append method is deprecated and will be removed from pandas in a future version. Use pandas.concat instead.\n",
      "  region = region.append(new_data, ignore_index=True)\n",
      "C:\\Users\\ljg98\\AppData\\Local\\Temp\\ipykernel_23756\\3186507496.py:9: FutureWarning: The frame.append method is deprecated and will be removed from pandas in a future version. Use pandas.concat instead.\n",
      "  region = region.append(new_data, ignore_index=True)\n",
      "C:\\Users\\ljg98\\AppData\\Local\\Temp\\ipykernel_23756\\3186507496.py:9: FutureWarning: The frame.append method is deprecated and will be removed from pandas in a future version. Use pandas.concat instead.\n",
      "  region = region.append(new_data, ignore_index=True)\n",
      "C:\\Users\\ljg98\\AppData\\Local\\Temp\\ipykernel_23756\\3186507496.py:9: FutureWarning: The frame.append method is deprecated and will be removed from pandas in a future version. Use pandas.concat instead.\n",
      "  region = region.append(new_data, ignore_index=True)\n",
      "C:\\Users\\ljg98\\AppData\\Local\\Temp\\ipykernel_23756\\3186507496.py:9: FutureWarning: The frame.append method is deprecated and will be removed from pandas in a future version. Use pandas.concat instead.\n",
      "  region = region.append(new_data, ignore_index=True)\n",
      "C:\\Users\\ljg98\\AppData\\Local\\Temp\\ipykernel_23756\\3186507496.py:9: FutureWarning: The frame.append method is deprecated and will be removed from pandas in a future version. Use pandas.concat instead.\n",
      "  region = region.append(new_data, ignore_index=True)\n",
      "C:\\Users\\ljg98\\AppData\\Local\\Temp\\ipykernel_23756\\3186507496.py:9: FutureWarning: The frame.append method is deprecated and will be removed from pandas in a future version. Use pandas.concat instead.\n",
      "  region = region.append(new_data, ignore_index=True)\n",
      "C:\\Users\\ljg98\\AppData\\Local\\Temp\\ipykernel_23756\\3186507496.py:9: FutureWarning: The frame.append method is deprecated and will be removed from pandas in a future version. Use pandas.concat instead.\n",
      "  region = region.append(new_data, ignore_index=True)\n",
      "C:\\Users\\ljg98\\AppData\\Local\\Temp\\ipykernel_23756\\3186507496.py:9: FutureWarning: The frame.append method is deprecated and will be removed from pandas in a future version. Use pandas.concat instead.\n",
      "  region = region.append(new_data, ignore_index=True)\n",
      "C:\\Users\\ljg98\\AppData\\Local\\Temp\\ipykernel_23756\\3186507496.py:9: FutureWarning: The frame.append method is deprecated and will be removed from pandas in a future version. Use pandas.concat instead.\n",
      "  region = region.append(new_data, ignore_index=True)\n",
      "C:\\Users\\ljg98\\AppData\\Local\\Temp\\ipykernel_23756\\3186507496.py:9: FutureWarning: The frame.append method is deprecated and will be removed from pandas in a future version. Use pandas.concat instead.\n",
      "  region = region.append(new_data, ignore_index=True)\n",
      "C:\\Users\\ljg98\\AppData\\Local\\Temp\\ipykernel_23756\\3186507496.py:9: FutureWarning: The frame.append method is deprecated and will be removed from pandas in a future version. Use pandas.concat instead.\n",
      "  region = region.append(new_data, ignore_index=True)\n",
      "C:\\Users\\ljg98\\AppData\\Local\\Temp\\ipykernel_23756\\3186507496.py:9: FutureWarning: The frame.append method is deprecated and will be removed from pandas in a future version. Use pandas.concat instead.\n",
      "  region = region.append(new_data, ignore_index=True)\n",
      "C:\\Users\\ljg98\\AppData\\Local\\Temp\\ipykernel_23756\\3186507496.py:9: FutureWarning: The frame.append method is deprecated and will be removed from pandas in a future version. Use pandas.concat instead.\n",
      "  region = region.append(new_data, ignore_index=True)\n",
      "C:\\Users\\ljg98\\AppData\\Local\\Temp\\ipykernel_23756\\3186507496.py:9: FutureWarning: The frame.append method is deprecated and will be removed from pandas in a future version. Use pandas.concat instead.\n",
      "  region = region.append(new_data, ignore_index=True)\n",
      "C:\\Users\\ljg98\\AppData\\Local\\Temp\\ipykernel_23756\\3186507496.py:9: FutureWarning: The frame.append method is deprecated and will be removed from pandas in a future version. Use pandas.concat instead.\n",
      "  region = region.append(new_data, ignore_index=True)\n",
      "C:\\Users\\ljg98\\AppData\\Local\\Temp\\ipykernel_23756\\3186507496.py:9: FutureWarning: The frame.append method is deprecated and will be removed from pandas in a future version. Use pandas.concat instead.\n",
      "  region = region.append(new_data, ignore_index=True)\n"
     ]
    }
   ],
   "source": [
    "i = 0\n",
    "for ori in carrot['region']:\n",
    "    checkNum = (region['region'].str.contains(ori)).sum()\n",
    "    if checkNum ==0:\n",
    "        new_data = {\n",
    "            'region' : ori,\n",
    "            'regioncode' : i\n",
    "        }\n",
    "        region = region.append(new_data, ignore_index=True)\n",
    "        i = i+1\n"
   ],
   "metadata": {
    "collapsed": false,
    "pycharm": {
     "name": "#%%\n"
    }
   }
  },
  {
   "cell_type": "code",
   "execution_count": 1459,
   "outputs": [
    {
     "data": {
      "text/plain": "                region regioncode\n0           서울 관악구 신사동          0\n1           서울 마포구 대흥동          1\n2          경남 김해시 장유3동          2\n3         서울 성동구 행당제1동          3\n4         서울 서대문구 남가좌동          4\n5          서울 강서구 화곡본동          5\n6          광주 광산구 첨단1동          6\n7          서울 서대문구 홍은동          7\n8         인천 미추홀구 주안4동          8\n9      경기도 안양시 동안구 평안동          9\n10         서울 서대문구 대현동         10\n11          전남 여수시 시전동         11\n12          서울 서초구 방배동         12\n13         서울 서초구 서초2동         13\n14          서울 강남구 대치동         14\n15          충남 아산시 배방읍         15\n16        서울 도봉구 방학제3동         16\n17        경기도 광명시 하안3동         17\n18          대구 달서구 상인동         18\n19             세종시 집현동         19\n20    경기도 수원시 영통구 영통1동         20\n21         경기도 부천시 춘의동         21\n22          서울 관악구 봉천동         22\n23       경기도 남양주시 다산2동         23\n24        서울 금천구 시흥제2동         24\n25          서울 강동구 상일동         25\n26          인천 남동구 구월동         26\n27  충북 청주시 흥덕구 봉명2.송정동         27\n28          서울 강북구 송천동         28\n29          경남 밀양시 내이동         29\n30          서울 성북구 석관동         30\n31        인천 미추홀구 주안5동         31\n32        서울 구로구 오류제1동         32\n33          서울 은평구 녹번동         33\n34      서울 종로구 종로5.6가동         34\n35          서울 성동구 용답동         35\n36           울산 남구 신정동         36\n37         경기도 화성시 진안동         37\n38      충남 천안시 동남구 구성동         38\n39         경기도 하남시 초일동         39\n40       서울 동대문구 휘경제1동         40",
      "text/html": "<div>\n<style scoped>\n    .dataframe tbody tr th:only-of-type {\n        vertical-align: middle;\n    }\n\n    .dataframe tbody tr th {\n        vertical-align: top;\n    }\n\n    .dataframe thead th {\n        text-align: right;\n    }\n</style>\n<table border=\"1\" class=\"dataframe\">\n  <thead>\n    <tr style=\"text-align: right;\">\n      <th></th>\n      <th>region</th>\n      <th>regioncode</th>\n    </tr>\n  </thead>\n  <tbody>\n    <tr>\n      <th>0</th>\n      <td>서울 관악구 신사동</td>\n      <td>0</td>\n    </tr>\n    <tr>\n      <th>1</th>\n      <td>서울 마포구 대흥동</td>\n      <td>1</td>\n    </tr>\n    <tr>\n      <th>2</th>\n      <td>경남 김해시 장유3동</td>\n      <td>2</td>\n    </tr>\n    <tr>\n      <th>3</th>\n      <td>서울 성동구 행당제1동</td>\n      <td>3</td>\n    </tr>\n    <tr>\n      <th>4</th>\n      <td>서울 서대문구 남가좌동</td>\n      <td>4</td>\n    </tr>\n    <tr>\n      <th>5</th>\n      <td>서울 강서구 화곡본동</td>\n      <td>5</td>\n    </tr>\n    <tr>\n      <th>6</th>\n      <td>광주 광산구 첨단1동</td>\n      <td>6</td>\n    </tr>\n    <tr>\n      <th>7</th>\n      <td>서울 서대문구 홍은동</td>\n      <td>7</td>\n    </tr>\n    <tr>\n      <th>8</th>\n      <td>인천 미추홀구 주안4동</td>\n      <td>8</td>\n    </tr>\n    <tr>\n      <th>9</th>\n      <td>경기도 안양시 동안구 평안동</td>\n      <td>9</td>\n    </tr>\n    <tr>\n      <th>10</th>\n      <td>서울 서대문구 대현동</td>\n      <td>10</td>\n    </tr>\n    <tr>\n      <th>11</th>\n      <td>전남 여수시 시전동</td>\n      <td>11</td>\n    </tr>\n    <tr>\n      <th>12</th>\n      <td>서울 서초구 방배동</td>\n      <td>12</td>\n    </tr>\n    <tr>\n      <th>13</th>\n      <td>서울 서초구 서초2동</td>\n      <td>13</td>\n    </tr>\n    <tr>\n      <th>14</th>\n      <td>서울 강남구 대치동</td>\n      <td>14</td>\n    </tr>\n    <tr>\n      <th>15</th>\n      <td>충남 아산시 배방읍</td>\n      <td>15</td>\n    </tr>\n    <tr>\n      <th>16</th>\n      <td>서울 도봉구 방학제3동</td>\n      <td>16</td>\n    </tr>\n    <tr>\n      <th>17</th>\n      <td>경기도 광명시 하안3동</td>\n      <td>17</td>\n    </tr>\n    <tr>\n      <th>18</th>\n      <td>대구 달서구 상인동</td>\n      <td>18</td>\n    </tr>\n    <tr>\n      <th>19</th>\n      <td>세종시 집현동</td>\n      <td>19</td>\n    </tr>\n    <tr>\n      <th>20</th>\n      <td>경기도 수원시 영통구 영통1동</td>\n      <td>20</td>\n    </tr>\n    <tr>\n      <th>21</th>\n      <td>경기도 부천시 춘의동</td>\n      <td>21</td>\n    </tr>\n    <tr>\n      <th>22</th>\n      <td>서울 관악구 봉천동</td>\n      <td>22</td>\n    </tr>\n    <tr>\n      <th>23</th>\n      <td>경기도 남양주시 다산2동</td>\n      <td>23</td>\n    </tr>\n    <tr>\n      <th>24</th>\n      <td>서울 금천구 시흥제2동</td>\n      <td>24</td>\n    </tr>\n    <tr>\n      <th>25</th>\n      <td>서울 강동구 상일동</td>\n      <td>25</td>\n    </tr>\n    <tr>\n      <th>26</th>\n      <td>인천 남동구 구월동</td>\n      <td>26</td>\n    </tr>\n    <tr>\n      <th>27</th>\n      <td>충북 청주시 흥덕구 봉명2.송정동</td>\n      <td>27</td>\n    </tr>\n    <tr>\n      <th>28</th>\n      <td>서울 강북구 송천동</td>\n      <td>28</td>\n    </tr>\n    <tr>\n      <th>29</th>\n      <td>경남 밀양시 내이동</td>\n      <td>29</td>\n    </tr>\n    <tr>\n      <th>30</th>\n      <td>서울 성북구 석관동</td>\n      <td>30</td>\n    </tr>\n    <tr>\n      <th>31</th>\n      <td>인천 미추홀구 주안5동</td>\n      <td>31</td>\n    </tr>\n    <tr>\n      <th>32</th>\n      <td>서울 구로구 오류제1동</td>\n      <td>32</td>\n    </tr>\n    <tr>\n      <th>33</th>\n      <td>서울 은평구 녹번동</td>\n      <td>33</td>\n    </tr>\n    <tr>\n      <th>34</th>\n      <td>서울 종로구 종로5.6가동</td>\n      <td>34</td>\n    </tr>\n    <tr>\n      <th>35</th>\n      <td>서울 성동구 용답동</td>\n      <td>35</td>\n    </tr>\n    <tr>\n      <th>36</th>\n      <td>울산 남구 신정동</td>\n      <td>36</td>\n    </tr>\n    <tr>\n      <th>37</th>\n      <td>경기도 화성시 진안동</td>\n      <td>37</td>\n    </tr>\n    <tr>\n      <th>38</th>\n      <td>충남 천안시 동남구 구성동</td>\n      <td>38</td>\n    </tr>\n    <tr>\n      <th>39</th>\n      <td>경기도 하남시 초일동</td>\n      <td>39</td>\n    </tr>\n    <tr>\n      <th>40</th>\n      <td>서울 동대문구 휘경제1동</td>\n      <td>40</td>\n    </tr>\n  </tbody>\n</table>\n</div>"
     },
     "execution_count": 1459,
     "metadata": {},
     "output_type": "execute_result"
    }
   ],
   "source": [
    "\n",
    "region"
   ],
   "metadata": {
    "collapsed": false,
    "pycharm": {
     "name": "#%%\n"
    }
   }
  },
  {
   "cell_type": "code",
   "execution_count": 1459,
   "outputs": [],
   "source": [],
   "metadata": {
    "collapsed": false,
    "pycharm": {
     "name": "#%%\n"
    }
   }
  },
  {
   "cell_type": "code",
   "execution_count": 1460,
   "outputs": [
    {
     "data": {
      "text/plain": "                                                title       price  \\\n0   (새상품)아이폰13케이스/아이폰13프로pro케이스/아이폰12케이스/아이폰12프로pr...      4,000원   \n1   (새상품)아이폰13케이스/아이폰13프로pro케이스/아이폰12케이스/아이폰12프로pr...      4,000원   \n2   (새상품)아이폰13케이스/아이폰13프로pro케이스/아이폰12케이스/아이폰12프로pr...      4,000원   \n3              아이폰 11 아이폰12 아이폰12프로맥스 투명케이스 (새제품) 끈포함      2,000원   \n4                     아이폰 12 미니 256기가 화이트 아이폰12 아이폰미니    500,000원   \n5                        아이폰 12 12gb 레드 ( iPhone 12 )    500,000원   \n6                (새제품)아이폰 12프로 케이스/아이폰케이스/아이폰12프로/아이폰      8,000원   \n7             [급매 S급] iPhone 12 mini 128G / 아이폰 12 미니    380,000원   \n8    아이폰12 미니 128g iphone12 mini 블랙 판매합니다(화면 보호필름입니다)    400,000원   \n9                               아이폰12pro 128G 아이폰12프로    720,000원   \n10                            아이폰12프로/아이폰12 정품 실리콘케이스     45,000원   \n11                                  아이폰12/아이폰12프로 케이스      5,000원   \n12           잉크 아이폰12프로맥스케이스 / iphone 12 pro max case     25,000원   \n13                                아이폰12 프로 아이폰12프로 맥스      3,000원   \n14                              아이폰12————->아이폰12이상 모델    212,121원   \n15                          아이폰12 아이폰12프로 Pelican 케이스     16,000원   \n16                      아이폰12 미니 화이트 아이폰 미니 12 iphone    450,000원   \n17                      아이폰12 미니 화이트 아이폰 미니 12 iphone    450,000원   \n18                      아이폰 12 미니 화이트 >> 아이폰 12 이상 교환    121,212원   \n19                        아이폰12 프로 아이폰12 pro 256gb 실버    780,000원   \n20       아이폰11프로256이랑 아이폰 12or12pro 13 13pro 교환하실 분!!     10,000원   \n21                         새상품 ) 아이폰 12 케이스 iphone 12      2,500원   \n22                      (새상품)아이폰12 / 아이폰12프로 맥세이프 케이스     16,000원   \n23                   미개봉 아이폰12 / 아이폰12 프로 에어 가드 젤리케이스      2,000원   \n24                           아이폰12프맥 > 아이폰12프로, 아이폰12          1원   \n25                     아이폰12/아이폰12pro 하트 케이스 + 그립톡 같이     10,000원   \n26  아이폰12프로맥스케이스 / 폰케이스 / 아이폰12프로 / 아이폰12프로맥스 / 아이...      2,000원   \n27                               아이폰12/아이폰12프로 겸용 케이스      5,000원   \n28                       아이폰 12 케이스 일괄 판매 (12프로 , 12)     15,000원   \n29                          아이폰12 / 아이폰12프로 케이스 투명 범퍼      1,500원   \n30                       아이폰12 아이폰12프로 벨킨 울트라글라스 강화유리     20,000원   \n31                    아이폰12미니 128 , iPhone12 mini 128    600,000원   \n32                         아이폰12 / 아이폰12pro 강화유리필름 2개     10,000원   \n33           망그러진 곰 아이폰12프로/아이폰12 그립톡 부착된 케이스 팝니다❤️‍🔥     13,500원   \n34                     아이폰12맥세이프케이스 아이폰12프로맥세이프케이스팝니다      8,000원   \n35       iPhone 12 pro max / 아이폰 12 프로맥스 128GB 판매합니다.    850,000원   \n36                        아이폰12프로 아이폰12pro 512 골드 팝니다    855,000원   \n37             아이폰12미니 블랙 128GB 자급제 48만원 (아이폰12 mini)    480,000원   \n38  아이폰 아이폰11 아이폰 12 아이폰13 아이폰xr 아이폰xs 아이폰x 아이폰전기종...  999만 9999원   \n39                        아이폰12 아이폰13 애플로고 케이스 아이폰케이스      9,000원   \n40  아이폰 케이스 아이폰 12 프로, 아이폰 12 용 앵키하우스 무쪼 MUJJO 가죽 ...     30,000원   \n41                   파손 아이폰7플러스 이상 삽니다. 아이폰x 아이폰11.12    100,000원   \n42                   파손 아이폰7플러스 이상 삽니다. 아이폰x 아이폰11.12    100,000원   \n43                   파손 아이폰7플러스 이상 삽니다. 아이폰x 아이폰11.12    100,000원   \n\n                region regioncode  \n0           서울 관악구 신사동          0  \n1           서울 관악구 신사동          0  \n2           서울 관악구 신사동          0  \n3           서울 마포구 대흥동          1  \n4          경남 김해시 장유3동          2  \n5         서울 성동구 행당제1동          3  \n6         서울 서대문구 남가좌동          4  \n7         서울 서대문구 남가좌동          4  \n8          서울 강서구 화곡본동          5  \n9          광주 광산구 첨단1동          6  \n10         서울 서대문구 홍은동          7  \n11        인천 미추홀구 주안4동          8  \n12     경기도 안양시 동안구 평안동          9  \n13         서울 서대문구 대현동         10  \n14          전남 여수시 시전동         11  \n15          서울 서초구 방배동         12  \n16         서울 서초구 서초2동         13  \n17          서울 강남구 대치동         14  \n18          충남 아산시 배방읍         15  \n19        서울 도봉구 방학제3동         16  \n20        경기도 광명시 하안3동         17  \n21          대구 달서구 상인동         18  \n22             세종시 집현동         19  \n23    경기도 수원시 영통구 영통1동         20  \n24         경기도 부천시 춘의동         21  \n25          서울 관악구 봉천동         22  \n26       경기도 남양주시 다산2동         23  \n27        서울 금천구 시흥제2동         24  \n28          서울 강동구 상일동         25  \n29          인천 남동구 구월동         26  \n30  충북 청주시 흥덕구 봉명2.송정동         27  \n31          서울 강북구 송천동         28  \n32          경남 밀양시 내이동         29  \n33          서울 성북구 석관동         30  \n34        인천 미추홀구 주안5동         31  \n35        서울 구로구 오류제1동         32  \n36          서울 은평구 녹번동         33  \n37      서울 종로구 종로5.6가동         34  \n38          서울 성동구 용답동         35  \n39           울산 남구 신정동         36  \n40         경기도 화성시 진안동         37  \n41      충남 천안시 동남구 구성동         38  \n42         경기도 하남시 초일동         39  \n43       서울 동대문구 휘경제1동         40  ",
      "text/html": "<div>\n<style scoped>\n    .dataframe tbody tr th:only-of-type {\n        vertical-align: middle;\n    }\n\n    .dataframe tbody tr th {\n        vertical-align: top;\n    }\n\n    .dataframe thead th {\n        text-align: right;\n    }\n</style>\n<table border=\"1\" class=\"dataframe\">\n  <thead>\n    <tr style=\"text-align: right;\">\n      <th></th>\n      <th>title</th>\n      <th>price</th>\n      <th>region</th>\n      <th>regioncode</th>\n    </tr>\n  </thead>\n  <tbody>\n    <tr>\n      <th>0</th>\n      <td>(새상품)아이폰13케이스/아이폰13프로pro케이스/아이폰12케이스/아이폰12프로pr...</td>\n      <td>4,000원</td>\n      <td>서울 관악구 신사동</td>\n      <td>0</td>\n    </tr>\n    <tr>\n      <th>1</th>\n      <td>(새상품)아이폰13케이스/아이폰13프로pro케이스/아이폰12케이스/아이폰12프로pr...</td>\n      <td>4,000원</td>\n      <td>서울 관악구 신사동</td>\n      <td>0</td>\n    </tr>\n    <tr>\n      <th>2</th>\n      <td>(새상품)아이폰13케이스/아이폰13프로pro케이스/아이폰12케이스/아이폰12프로pr...</td>\n      <td>4,000원</td>\n      <td>서울 관악구 신사동</td>\n      <td>0</td>\n    </tr>\n    <tr>\n      <th>3</th>\n      <td>아이폰 11 아이폰12 아이폰12프로맥스 투명케이스 (새제품) 끈포함</td>\n      <td>2,000원</td>\n      <td>서울 마포구 대흥동</td>\n      <td>1</td>\n    </tr>\n    <tr>\n      <th>4</th>\n      <td>아이폰 12 미니 256기가 화이트 아이폰12 아이폰미니</td>\n      <td>500,000원</td>\n      <td>경남 김해시 장유3동</td>\n      <td>2</td>\n    </tr>\n    <tr>\n      <th>5</th>\n      <td>아이폰 12 12gb 레드 ( iPhone 12 )</td>\n      <td>500,000원</td>\n      <td>서울 성동구 행당제1동</td>\n      <td>3</td>\n    </tr>\n    <tr>\n      <th>6</th>\n      <td>(새제품)아이폰 12프로 케이스/아이폰케이스/아이폰12프로/아이폰</td>\n      <td>8,000원</td>\n      <td>서울 서대문구 남가좌동</td>\n      <td>4</td>\n    </tr>\n    <tr>\n      <th>7</th>\n      <td>[급매 S급] iPhone 12 mini 128G / 아이폰 12 미니</td>\n      <td>380,000원</td>\n      <td>서울 서대문구 남가좌동</td>\n      <td>4</td>\n    </tr>\n    <tr>\n      <th>8</th>\n      <td>아이폰12 미니 128g iphone12 mini 블랙 판매합니다(화면 보호필름입니다)</td>\n      <td>400,000원</td>\n      <td>서울 강서구 화곡본동</td>\n      <td>5</td>\n    </tr>\n    <tr>\n      <th>9</th>\n      <td>아이폰12pro 128G 아이폰12프로</td>\n      <td>720,000원</td>\n      <td>광주 광산구 첨단1동</td>\n      <td>6</td>\n    </tr>\n    <tr>\n      <th>10</th>\n      <td>아이폰12프로/아이폰12 정품 실리콘케이스</td>\n      <td>45,000원</td>\n      <td>서울 서대문구 홍은동</td>\n      <td>7</td>\n    </tr>\n    <tr>\n      <th>11</th>\n      <td>아이폰12/아이폰12프로 케이스</td>\n      <td>5,000원</td>\n      <td>인천 미추홀구 주안4동</td>\n      <td>8</td>\n    </tr>\n    <tr>\n      <th>12</th>\n      <td>잉크 아이폰12프로맥스케이스 / iphone 12 pro max case</td>\n      <td>25,000원</td>\n      <td>경기도 안양시 동안구 평안동</td>\n      <td>9</td>\n    </tr>\n    <tr>\n      <th>13</th>\n      <td>아이폰12 프로 아이폰12프로 맥스</td>\n      <td>3,000원</td>\n      <td>서울 서대문구 대현동</td>\n      <td>10</td>\n    </tr>\n    <tr>\n      <th>14</th>\n      <td>아이폰12————-&gt;아이폰12이상 모델</td>\n      <td>212,121원</td>\n      <td>전남 여수시 시전동</td>\n      <td>11</td>\n    </tr>\n    <tr>\n      <th>15</th>\n      <td>아이폰12 아이폰12프로 Pelican 케이스</td>\n      <td>16,000원</td>\n      <td>서울 서초구 방배동</td>\n      <td>12</td>\n    </tr>\n    <tr>\n      <th>16</th>\n      <td>아이폰12 미니 화이트 아이폰 미니 12 iphone</td>\n      <td>450,000원</td>\n      <td>서울 서초구 서초2동</td>\n      <td>13</td>\n    </tr>\n    <tr>\n      <th>17</th>\n      <td>아이폰12 미니 화이트 아이폰 미니 12 iphone</td>\n      <td>450,000원</td>\n      <td>서울 강남구 대치동</td>\n      <td>14</td>\n    </tr>\n    <tr>\n      <th>18</th>\n      <td>아이폰 12 미니 화이트 &gt;&gt; 아이폰 12 이상 교환</td>\n      <td>121,212원</td>\n      <td>충남 아산시 배방읍</td>\n      <td>15</td>\n    </tr>\n    <tr>\n      <th>19</th>\n      <td>아이폰12 프로 아이폰12 pro 256gb 실버</td>\n      <td>780,000원</td>\n      <td>서울 도봉구 방학제3동</td>\n      <td>16</td>\n    </tr>\n    <tr>\n      <th>20</th>\n      <td>아이폰11프로256이랑 아이폰 12or12pro 13 13pro 교환하실 분!!</td>\n      <td>10,000원</td>\n      <td>경기도 광명시 하안3동</td>\n      <td>17</td>\n    </tr>\n    <tr>\n      <th>21</th>\n      <td>새상품 ) 아이폰 12 케이스 iphone 12</td>\n      <td>2,500원</td>\n      <td>대구 달서구 상인동</td>\n      <td>18</td>\n    </tr>\n    <tr>\n      <th>22</th>\n      <td>(새상품)아이폰12 / 아이폰12프로 맥세이프 케이스</td>\n      <td>16,000원</td>\n      <td>세종시 집현동</td>\n      <td>19</td>\n    </tr>\n    <tr>\n      <th>23</th>\n      <td>미개봉 아이폰12 / 아이폰12 프로 에어 가드 젤리케이스</td>\n      <td>2,000원</td>\n      <td>경기도 수원시 영통구 영통1동</td>\n      <td>20</td>\n    </tr>\n    <tr>\n      <th>24</th>\n      <td>아이폰12프맥 &gt; 아이폰12프로, 아이폰12</td>\n      <td>1원</td>\n      <td>경기도 부천시 춘의동</td>\n      <td>21</td>\n    </tr>\n    <tr>\n      <th>25</th>\n      <td>아이폰12/아이폰12pro 하트 케이스 + 그립톡 같이</td>\n      <td>10,000원</td>\n      <td>서울 관악구 봉천동</td>\n      <td>22</td>\n    </tr>\n    <tr>\n      <th>26</th>\n      <td>아이폰12프로맥스케이스 / 폰케이스 / 아이폰12프로 / 아이폰12프로맥스 / 아이...</td>\n      <td>2,000원</td>\n      <td>경기도 남양주시 다산2동</td>\n      <td>23</td>\n    </tr>\n    <tr>\n      <th>27</th>\n      <td>아이폰12/아이폰12프로 겸용 케이스</td>\n      <td>5,000원</td>\n      <td>서울 금천구 시흥제2동</td>\n      <td>24</td>\n    </tr>\n    <tr>\n      <th>28</th>\n      <td>아이폰 12 케이스 일괄 판매 (12프로 , 12)</td>\n      <td>15,000원</td>\n      <td>서울 강동구 상일동</td>\n      <td>25</td>\n    </tr>\n    <tr>\n      <th>29</th>\n      <td>아이폰12 / 아이폰12프로 케이스 투명 범퍼</td>\n      <td>1,500원</td>\n      <td>인천 남동구 구월동</td>\n      <td>26</td>\n    </tr>\n    <tr>\n      <th>30</th>\n      <td>아이폰12 아이폰12프로 벨킨 울트라글라스 강화유리</td>\n      <td>20,000원</td>\n      <td>충북 청주시 흥덕구 봉명2.송정동</td>\n      <td>27</td>\n    </tr>\n    <tr>\n      <th>31</th>\n      <td>아이폰12미니 128 , iPhone12 mini 128</td>\n      <td>600,000원</td>\n      <td>서울 강북구 송천동</td>\n      <td>28</td>\n    </tr>\n    <tr>\n      <th>32</th>\n      <td>아이폰12 / 아이폰12pro 강화유리필름 2개</td>\n      <td>10,000원</td>\n      <td>경남 밀양시 내이동</td>\n      <td>29</td>\n    </tr>\n    <tr>\n      <th>33</th>\n      <td>망그러진 곰 아이폰12프로/아이폰12 그립톡 부착된 케이스 팝니다❤️‍🔥</td>\n      <td>13,500원</td>\n      <td>서울 성북구 석관동</td>\n      <td>30</td>\n    </tr>\n    <tr>\n      <th>34</th>\n      <td>아이폰12맥세이프케이스 아이폰12프로맥세이프케이스팝니다</td>\n      <td>8,000원</td>\n      <td>인천 미추홀구 주안5동</td>\n      <td>31</td>\n    </tr>\n    <tr>\n      <th>35</th>\n      <td>iPhone 12 pro max / 아이폰 12 프로맥스 128GB 판매합니다.</td>\n      <td>850,000원</td>\n      <td>서울 구로구 오류제1동</td>\n      <td>32</td>\n    </tr>\n    <tr>\n      <th>36</th>\n      <td>아이폰12프로 아이폰12pro 512 골드 팝니다</td>\n      <td>855,000원</td>\n      <td>서울 은평구 녹번동</td>\n      <td>33</td>\n    </tr>\n    <tr>\n      <th>37</th>\n      <td>아이폰12미니 블랙 128GB 자급제 48만원 (아이폰12 mini)</td>\n      <td>480,000원</td>\n      <td>서울 종로구 종로5.6가동</td>\n      <td>34</td>\n    </tr>\n    <tr>\n      <th>38</th>\n      <td>아이폰 아이폰11 아이폰 12 아이폰13 아이폰xr 아이폰xs 아이폰x 아이폰전기종...</td>\n      <td>999만 9999원</td>\n      <td>서울 성동구 용답동</td>\n      <td>35</td>\n    </tr>\n    <tr>\n      <th>39</th>\n      <td>아이폰12 아이폰13 애플로고 케이스 아이폰케이스</td>\n      <td>9,000원</td>\n      <td>울산 남구 신정동</td>\n      <td>36</td>\n    </tr>\n    <tr>\n      <th>40</th>\n      <td>아이폰 케이스 아이폰 12 프로, 아이폰 12 용 앵키하우스 무쪼 MUJJO 가죽 ...</td>\n      <td>30,000원</td>\n      <td>경기도 화성시 진안동</td>\n      <td>37</td>\n    </tr>\n    <tr>\n      <th>41</th>\n      <td>파손 아이폰7플러스 이상 삽니다. 아이폰x 아이폰11.12</td>\n      <td>100,000원</td>\n      <td>충남 천안시 동남구 구성동</td>\n      <td>38</td>\n    </tr>\n    <tr>\n      <th>42</th>\n      <td>파손 아이폰7플러스 이상 삽니다. 아이폰x 아이폰11.12</td>\n      <td>100,000원</td>\n      <td>경기도 하남시 초일동</td>\n      <td>39</td>\n    </tr>\n    <tr>\n      <th>43</th>\n      <td>파손 아이폰7플러스 이상 삽니다. 아이폰x 아이폰11.12</td>\n      <td>100,000원</td>\n      <td>서울 동대문구 휘경제1동</td>\n      <td>40</td>\n    </tr>\n  </tbody>\n</table>\n</div>"
     },
     "execution_count": 1460,
     "metadata": {},
     "output_type": "execute_result"
    }
   ],
   "source": [
    "carrot = pd.merge(carrot, region, left_on='region', right_on='region', how='inner')\n",
    "carrot"
   ],
   "metadata": {
    "collapsed": false,
    "pycharm": {
     "name": "#%%\n"
    }
   }
  },
  {
   "cell_type": "code",
   "execution_count": 1461,
   "outputs": [],
   "source": [
    "from carrot.DBmethod import *"
   ],
   "metadata": {
    "collapsed": false,
    "pycharm": {
     "name": "#%%\n"
    }
   }
  },
  {
   "cell_type": "code",
   "execution_count": 1462,
   "outputs": [],
   "source": [
    "#region.to_csv('testfile/region.csv', mode='w')"
   ],
   "metadata": {
    "collapsed": false,
    "pycharm": {
     "name": "#%%\n"
    }
   }
  },
  {
   "cell_type": "code",
   "execution_count": 1463,
   "outputs": [],
   "source": [
    "#carrot['price'] = carrot['price'].astype('string')"
   ],
   "metadata": {
    "collapsed": false,
    "pycharm": {
     "name": "#%%\n"
    }
   }
  },
  {
   "cell_type": "code",
   "execution_count": 1464,
   "outputs": [
    {
     "name": "stdout",
     "output_type": "stream",
     "text": [
      "<class 'pandas.core.frame.DataFrame'>\n",
      "Int64Index: 44 entries, 0 to 43\n",
      "Data columns (total 4 columns):\n",
      " #   Column      Non-Null Count  Dtype \n",
      "---  ------      --------------  ----- \n",
      " 0   title       44 non-null     object\n",
      " 1   price       44 non-null     object\n",
      " 2   region      44 non-null     object\n",
      " 3   regioncode  44 non-null     object\n",
      "dtypes: object(4)\n",
      "memory usage: 1.7+ KB\n"
     ]
    }
   ],
   "source": [
    "carrot.info()"
   ],
   "metadata": {
    "collapsed": false,
    "pycharm": {
     "name": "#%%\n"
    }
   }
  },
  {
   "cell_type": "code",
   "execution_count": 1465,
   "outputs": [
    {
     "data": {
      "text/plain": "0       4000\n1       4000\n2       4000\n3       2000\n4     500000\n5     500000\n6       8000\n7     380000\n8     400000\n9     720000\n10     45000\n11      5000\n12     25000\n13      3000\n14    212121\n15     16000\n16    450000\n17    450000\n18    121212\n19    780000\n20     10000\n21      2500\n22     16000\n23      2000\n24         1\n25     10000\n26      2000\n27      5000\n28     15000\n29      1500\n30     20000\n31    600000\n32     10000\n33     13500\n34      8000\n35    850000\n36    855000\n37    480000\n38         1\n39      9000\n40     30000\n41    100000\n42    100000\n43    100000\nName: price, dtype: object"
     },
     "execution_count": 1465,
     "metadata": {},
     "output_type": "execute_result"
    }
   ],
   "source": [
    "j = 0\n",
    "for oldd in carrot['price']:\n",
    "    newd = oldd.replace(',','')\n",
    "    newd = newd.replace('만','0000')\n",
    "    newd = newd.replace('원','')\n",
    "    try:\n",
    "        carrot['price'].iloc[j] = int(newd)\n",
    "    except ValueError:\n",
    "        carrot['price'].iloc[j] = 1\n",
    "\n",
    "\n",
    "    j = j+1\n",
    "carrot['price']"
   ],
   "metadata": {
    "collapsed": false,
    "pycharm": {
     "name": "#%%\n"
    }
   }
  },
  {
   "cell_type": "code",
   "execution_count": 1466,
   "outputs": [
    {
     "data": {
      "text/plain": "                                                title   price  \\\n0   (새상품)아이폰13케이스/아이폰13프로pro케이스/아이폰12케이스/아이폰12프로pr...    4000   \n1   (새상품)아이폰13케이스/아이폰13프로pro케이스/아이폰12케이스/아이폰12프로pr...    4000   \n2   (새상품)아이폰13케이스/아이폰13프로pro케이스/아이폰12케이스/아이폰12프로pr...    4000   \n3              아이폰 11 아이폰12 아이폰12프로맥스 투명케이스 (새제품) 끈포함    2000   \n4                     아이폰 12 미니 256기가 화이트 아이폰12 아이폰미니  500000   \n5                        아이폰 12 12gb 레드 ( iPhone 12 )  500000   \n6                (새제품)아이폰 12프로 케이스/아이폰케이스/아이폰12프로/아이폰    8000   \n7             [급매 S급] iPhone 12 mini 128G / 아이폰 12 미니  380000   \n8    아이폰12 미니 128g iphone12 mini 블랙 판매합니다(화면 보호필름입니다)  400000   \n9                               아이폰12pro 128G 아이폰12프로  720000   \n10                            아이폰12프로/아이폰12 정품 실리콘케이스   45000   \n11                                  아이폰12/아이폰12프로 케이스    5000   \n12           잉크 아이폰12프로맥스케이스 / iphone 12 pro max case   25000   \n13                                아이폰12 프로 아이폰12프로 맥스    3000   \n14                              아이폰12————->아이폰12이상 모델  212121   \n15                          아이폰12 아이폰12프로 Pelican 케이스   16000   \n16                      아이폰12 미니 화이트 아이폰 미니 12 iphone  450000   \n17                      아이폰12 미니 화이트 아이폰 미니 12 iphone  450000   \n18                      아이폰 12 미니 화이트 >> 아이폰 12 이상 교환  121212   \n19                        아이폰12 프로 아이폰12 pro 256gb 실버  780000   \n20       아이폰11프로256이랑 아이폰 12or12pro 13 13pro 교환하실 분!!   10000   \n21                         새상품 ) 아이폰 12 케이스 iphone 12    2500   \n22                      (새상품)아이폰12 / 아이폰12프로 맥세이프 케이스   16000   \n23                   미개봉 아이폰12 / 아이폰12 프로 에어 가드 젤리케이스    2000   \n24                           아이폰12프맥 > 아이폰12프로, 아이폰12       1   \n25                     아이폰12/아이폰12pro 하트 케이스 + 그립톡 같이   10000   \n26  아이폰12프로맥스케이스 / 폰케이스 / 아이폰12프로 / 아이폰12프로맥스 / 아이...    2000   \n27                               아이폰12/아이폰12프로 겸용 케이스    5000   \n28                       아이폰 12 케이스 일괄 판매 (12프로 , 12)   15000   \n29                          아이폰12 / 아이폰12프로 케이스 투명 범퍼    1500   \n30                       아이폰12 아이폰12프로 벨킨 울트라글라스 강화유리   20000   \n31                    아이폰12미니 128 , iPhone12 mini 128  600000   \n32                         아이폰12 / 아이폰12pro 강화유리필름 2개   10000   \n33           망그러진 곰 아이폰12프로/아이폰12 그립톡 부착된 케이스 팝니다❤️‍🔥   13500   \n34                     아이폰12맥세이프케이스 아이폰12프로맥세이프케이스팝니다    8000   \n35       iPhone 12 pro max / 아이폰 12 프로맥스 128GB 판매합니다.  850000   \n36                        아이폰12프로 아이폰12pro 512 골드 팝니다  855000   \n37             아이폰12미니 블랙 128GB 자급제 48만원 (아이폰12 mini)  480000   \n38  아이폰 아이폰11 아이폰 12 아이폰13 아이폰xr 아이폰xs 아이폰x 아이폰전기종...       1   \n39                        아이폰12 아이폰13 애플로고 케이스 아이폰케이스    9000   \n40  아이폰 케이스 아이폰 12 프로, 아이폰 12 용 앵키하우스 무쪼 MUJJO 가죽 ...   30000   \n41                   파손 아이폰7플러스 이상 삽니다. 아이폰x 아이폰11.12  100000   \n42                   파손 아이폰7플러스 이상 삽니다. 아이폰x 아이폰11.12  100000   \n43                   파손 아이폰7플러스 이상 삽니다. 아이폰x 아이폰11.12  100000   \n\n                region regioncode  \n0           서울 관악구 신사동          0  \n1           서울 관악구 신사동          0  \n2           서울 관악구 신사동          0  \n3           서울 마포구 대흥동          1  \n4          경남 김해시 장유3동          2  \n5         서울 성동구 행당제1동          3  \n6         서울 서대문구 남가좌동          4  \n7         서울 서대문구 남가좌동          4  \n8          서울 강서구 화곡본동          5  \n9          광주 광산구 첨단1동          6  \n10         서울 서대문구 홍은동          7  \n11        인천 미추홀구 주안4동          8  \n12     경기도 안양시 동안구 평안동          9  \n13         서울 서대문구 대현동         10  \n14          전남 여수시 시전동         11  \n15          서울 서초구 방배동         12  \n16         서울 서초구 서초2동         13  \n17          서울 강남구 대치동         14  \n18          충남 아산시 배방읍         15  \n19        서울 도봉구 방학제3동         16  \n20        경기도 광명시 하안3동         17  \n21          대구 달서구 상인동         18  \n22             세종시 집현동         19  \n23    경기도 수원시 영통구 영통1동         20  \n24         경기도 부천시 춘의동         21  \n25          서울 관악구 봉천동         22  \n26       경기도 남양주시 다산2동         23  \n27        서울 금천구 시흥제2동         24  \n28          서울 강동구 상일동         25  \n29          인천 남동구 구월동         26  \n30  충북 청주시 흥덕구 봉명2.송정동         27  \n31          서울 강북구 송천동         28  \n32          경남 밀양시 내이동         29  \n33          서울 성북구 석관동         30  \n34        인천 미추홀구 주안5동         31  \n35        서울 구로구 오류제1동         32  \n36          서울 은평구 녹번동         33  \n37      서울 종로구 종로5.6가동         34  \n38          서울 성동구 용답동         35  \n39           울산 남구 신정동         36  \n40         경기도 화성시 진안동         37  \n41      충남 천안시 동남구 구성동         38  \n42         경기도 하남시 초일동         39  \n43       서울 동대문구 휘경제1동         40  ",
      "text/html": "<div>\n<style scoped>\n    .dataframe tbody tr th:only-of-type {\n        vertical-align: middle;\n    }\n\n    .dataframe tbody tr th {\n        vertical-align: top;\n    }\n\n    .dataframe thead th {\n        text-align: right;\n    }\n</style>\n<table border=\"1\" class=\"dataframe\">\n  <thead>\n    <tr style=\"text-align: right;\">\n      <th></th>\n      <th>title</th>\n      <th>price</th>\n      <th>region</th>\n      <th>regioncode</th>\n    </tr>\n  </thead>\n  <tbody>\n    <tr>\n      <th>0</th>\n      <td>(새상품)아이폰13케이스/아이폰13프로pro케이스/아이폰12케이스/아이폰12프로pr...</td>\n      <td>4000</td>\n      <td>서울 관악구 신사동</td>\n      <td>0</td>\n    </tr>\n    <tr>\n      <th>1</th>\n      <td>(새상품)아이폰13케이스/아이폰13프로pro케이스/아이폰12케이스/아이폰12프로pr...</td>\n      <td>4000</td>\n      <td>서울 관악구 신사동</td>\n      <td>0</td>\n    </tr>\n    <tr>\n      <th>2</th>\n      <td>(새상품)아이폰13케이스/아이폰13프로pro케이스/아이폰12케이스/아이폰12프로pr...</td>\n      <td>4000</td>\n      <td>서울 관악구 신사동</td>\n      <td>0</td>\n    </tr>\n    <tr>\n      <th>3</th>\n      <td>아이폰 11 아이폰12 아이폰12프로맥스 투명케이스 (새제품) 끈포함</td>\n      <td>2000</td>\n      <td>서울 마포구 대흥동</td>\n      <td>1</td>\n    </tr>\n    <tr>\n      <th>4</th>\n      <td>아이폰 12 미니 256기가 화이트 아이폰12 아이폰미니</td>\n      <td>500000</td>\n      <td>경남 김해시 장유3동</td>\n      <td>2</td>\n    </tr>\n    <tr>\n      <th>5</th>\n      <td>아이폰 12 12gb 레드 ( iPhone 12 )</td>\n      <td>500000</td>\n      <td>서울 성동구 행당제1동</td>\n      <td>3</td>\n    </tr>\n    <tr>\n      <th>6</th>\n      <td>(새제품)아이폰 12프로 케이스/아이폰케이스/아이폰12프로/아이폰</td>\n      <td>8000</td>\n      <td>서울 서대문구 남가좌동</td>\n      <td>4</td>\n    </tr>\n    <tr>\n      <th>7</th>\n      <td>[급매 S급] iPhone 12 mini 128G / 아이폰 12 미니</td>\n      <td>380000</td>\n      <td>서울 서대문구 남가좌동</td>\n      <td>4</td>\n    </tr>\n    <tr>\n      <th>8</th>\n      <td>아이폰12 미니 128g iphone12 mini 블랙 판매합니다(화면 보호필름입니다)</td>\n      <td>400000</td>\n      <td>서울 강서구 화곡본동</td>\n      <td>5</td>\n    </tr>\n    <tr>\n      <th>9</th>\n      <td>아이폰12pro 128G 아이폰12프로</td>\n      <td>720000</td>\n      <td>광주 광산구 첨단1동</td>\n      <td>6</td>\n    </tr>\n    <tr>\n      <th>10</th>\n      <td>아이폰12프로/아이폰12 정품 실리콘케이스</td>\n      <td>45000</td>\n      <td>서울 서대문구 홍은동</td>\n      <td>7</td>\n    </tr>\n    <tr>\n      <th>11</th>\n      <td>아이폰12/아이폰12프로 케이스</td>\n      <td>5000</td>\n      <td>인천 미추홀구 주안4동</td>\n      <td>8</td>\n    </tr>\n    <tr>\n      <th>12</th>\n      <td>잉크 아이폰12프로맥스케이스 / iphone 12 pro max case</td>\n      <td>25000</td>\n      <td>경기도 안양시 동안구 평안동</td>\n      <td>9</td>\n    </tr>\n    <tr>\n      <th>13</th>\n      <td>아이폰12 프로 아이폰12프로 맥스</td>\n      <td>3000</td>\n      <td>서울 서대문구 대현동</td>\n      <td>10</td>\n    </tr>\n    <tr>\n      <th>14</th>\n      <td>아이폰12————-&gt;아이폰12이상 모델</td>\n      <td>212121</td>\n      <td>전남 여수시 시전동</td>\n      <td>11</td>\n    </tr>\n    <tr>\n      <th>15</th>\n      <td>아이폰12 아이폰12프로 Pelican 케이스</td>\n      <td>16000</td>\n      <td>서울 서초구 방배동</td>\n      <td>12</td>\n    </tr>\n    <tr>\n      <th>16</th>\n      <td>아이폰12 미니 화이트 아이폰 미니 12 iphone</td>\n      <td>450000</td>\n      <td>서울 서초구 서초2동</td>\n      <td>13</td>\n    </tr>\n    <tr>\n      <th>17</th>\n      <td>아이폰12 미니 화이트 아이폰 미니 12 iphone</td>\n      <td>450000</td>\n      <td>서울 강남구 대치동</td>\n      <td>14</td>\n    </tr>\n    <tr>\n      <th>18</th>\n      <td>아이폰 12 미니 화이트 &gt;&gt; 아이폰 12 이상 교환</td>\n      <td>121212</td>\n      <td>충남 아산시 배방읍</td>\n      <td>15</td>\n    </tr>\n    <tr>\n      <th>19</th>\n      <td>아이폰12 프로 아이폰12 pro 256gb 실버</td>\n      <td>780000</td>\n      <td>서울 도봉구 방학제3동</td>\n      <td>16</td>\n    </tr>\n    <tr>\n      <th>20</th>\n      <td>아이폰11프로256이랑 아이폰 12or12pro 13 13pro 교환하실 분!!</td>\n      <td>10000</td>\n      <td>경기도 광명시 하안3동</td>\n      <td>17</td>\n    </tr>\n    <tr>\n      <th>21</th>\n      <td>새상품 ) 아이폰 12 케이스 iphone 12</td>\n      <td>2500</td>\n      <td>대구 달서구 상인동</td>\n      <td>18</td>\n    </tr>\n    <tr>\n      <th>22</th>\n      <td>(새상품)아이폰12 / 아이폰12프로 맥세이프 케이스</td>\n      <td>16000</td>\n      <td>세종시 집현동</td>\n      <td>19</td>\n    </tr>\n    <tr>\n      <th>23</th>\n      <td>미개봉 아이폰12 / 아이폰12 프로 에어 가드 젤리케이스</td>\n      <td>2000</td>\n      <td>경기도 수원시 영통구 영통1동</td>\n      <td>20</td>\n    </tr>\n    <tr>\n      <th>24</th>\n      <td>아이폰12프맥 &gt; 아이폰12프로, 아이폰12</td>\n      <td>1</td>\n      <td>경기도 부천시 춘의동</td>\n      <td>21</td>\n    </tr>\n    <tr>\n      <th>25</th>\n      <td>아이폰12/아이폰12pro 하트 케이스 + 그립톡 같이</td>\n      <td>10000</td>\n      <td>서울 관악구 봉천동</td>\n      <td>22</td>\n    </tr>\n    <tr>\n      <th>26</th>\n      <td>아이폰12프로맥스케이스 / 폰케이스 / 아이폰12프로 / 아이폰12프로맥스 / 아이...</td>\n      <td>2000</td>\n      <td>경기도 남양주시 다산2동</td>\n      <td>23</td>\n    </tr>\n    <tr>\n      <th>27</th>\n      <td>아이폰12/아이폰12프로 겸용 케이스</td>\n      <td>5000</td>\n      <td>서울 금천구 시흥제2동</td>\n      <td>24</td>\n    </tr>\n    <tr>\n      <th>28</th>\n      <td>아이폰 12 케이스 일괄 판매 (12프로 , 12)</td>\n      <td>15000</td>\n      <td>서울 강동구 상일동</td>\n      <td>25</td>\n    </tr>\n    <tr>\n      <th>29</th>\n      <td>아이폰12 / 아이폰12프로 케이스 투명 범퍼</td>\n      <td>1500</td>\n      <td>인천 남동구 구월동</td>\n      <td>26</td>\n    </tr>\n    <tr>\n      <th>30</th>\n      <td>아이폰12 아이폰12프로 벨킨 울트라글라스 강화유리</td>\n      <td>20000</td>\n      <td>충북 청주시 흥덕구 봉명2.송정동</td>\n      <td>27</td>\n    </tr>\n    <tr>\n      <th>31</th>\n      <td>아이폰12미니 128 , iPhone12 mini 128</td>\n      <td>600000</td>\n      <td>서울 강북구 송천동</td>\n      <td>28</td>\n    </tr>\n    <tr>\n      <th>32</th>\n      <td>아이폰12 / 아이폰12pro 강화유리필름 2개</td>\n      <td>10000</td>\n      <td>경남 밀양시 내이동</td>\n      <td>29</td>\n    </tr>\n    <tr>\n      <th>33</th>\n      <td>망그러진 곰 아이폰12프로/아이폰12 그립톡 부착된 케이스 팝니다❤️‍🔥</td>\n      <td>13500</td>\n      <td>서울 성북구 석관동</td>\n      <td>30</td>\n    </tr>\n    <tr>\n      <th>34</th>\n      <td>아이폰12맥세이프케이스 아이폰12프로맥세이프케이스팝니다</td>\n      <td>8000</td>\n      <td>인천 미추홀구 주안5동</td>\n      <td>31</td>\n    </tr>\n    <tr>\n      <th>35</th>\n      <td>iPhone 12 pro max / 아이폰 12 프로맥스 128GB 판매합니다.</td>\n      <td>850000</td>\n      <td>서울 구로구 오류제1동</td>\n      <td>32</td>\n    </tr>\n    <tr>\n      <th>36</th>\n      <td>아이폰12프로 아이폰12pro 512 골드 팝니다</td>\n      <td>855000</td>\n      <td>서울 은평구 녹번동</td>\n      <td>33</td>\n    </tr>\n    <tr>\n      <th>37</th>\n      <td>아이폰12미니 블랙 128GB 자급제 48만원 (아이폰12 mini)</td>\n      <td>480000</td>\n      <td>서울 종로구 종로5.6가동</td>\n      <td>34</td>\n    </tr>\n    <tr>\n      <th>38</th>\n      <td>아이폰 아이폰11 아이폰 12 아이폰13 아이폰xr 아이폰xs 아이폰x 아이폰전기종...</td>\n      <td>1</td>\n      <td>서울 성동구 용답동</td>\n      <td>35</td>\n    </tr>\n    <tr>\n      <th>39</th>\n      <td>아이폰12 아이폰13 애플로고 케이스 아이폰케이스</td>\n      <td>9000</td>\n      <td>울산 남구 신정동</td>\n      <td>36</td>\n    </tr>\n    <tr>\n      <th>40</th>\n      <td>아이폰 케이스 아이폰 12 프로, 아이폰 12 용 앵키하우스 무쪼 MUJJO 가죽 ...</td>\n      <td>30000</td>\n      <td>경기도 화성시 진안동</td>\n      <td>37</td>\n    </tr>\n    <tr>\n      <th>41</th>\n      <td>파손 아이폰7플러스 이상 삽니다. 아이폰x 아이폰11.12</td>\n      <td>100000</td>\n      <td>충남 천안시 동남구 구성동</td>\n      <td>38</td>\n    </tr>\n    <tr>\n      <th>42</th>\n      <td>파손 아이폰7플러스 이상 삽니다. 아이폰x 아이폰11.12</td>\n      <td>100000</td>\n      <td>경기도 하남시 초일동</td>\n      <td>39</td>\n    </tr>\n    <tr>\n      <th>43</th>\n      <td>파손 아이폰7플러스 이상 삽니다. 아이폰x 아이폰11.12</td>\n      <td>100000</td>\n      <td>서울 동대문구 휘경제1동</td>\n      <td>40</td>\n    </tr>\n  </tbody>\n</table>\n</div>"
     },
     "execution_count": 1466,
     "metadata": {},
     "output_type": "execute_result"
    }
   ],
   "source": [
    "carrot"
   ],
   "metadata": {
    "collapsed": false,
    "pycharm": {
     "name": "#%%\n"
    }
   }
  },
  {
   "cell_type": "code",
   "execution_count": 1467,
   "outputs": [
    {
     "name": "stdout",
     "output_type": "stream",
     "text": [
      "<class 'pandas.core.frame.DataFrame'>\n",
      "Int64Index: 44 entries, 0 to 43\n",
      "Data columns (total 4 columns):\n",
      " #   Column      Non-Null Count  Dtype \n",
      "---  ------      --------------  ----- \n",
      " 0   title       44 non-null     object\n",
      " 1   price       44 non-null     object\n",
      " 2   region      44 non-null     object\n",
      " 3   regioncode  44 non-null     object\n",
      "dtypes: object(4)\n",
      "memory usage: 1.7+ KB\n"
     ]
    }
   ],
   "source": [
    "carrot.info()"
   ],
   "metadata": {
    "collapsed": false,
    "pycharm": {
     "name": "#%%\n"
    }
   }
  },
  {
   "cell_type": "code",
   "execution_count": 1468,
   "outputs": [
    {
     "name": "stdout",
     "output_type": "stream",
     "text": [
      "<class 'pandas.core.frame.DataFrame'>\n",
      "Int64Index: 44 entries, 0 to 43\n",
      "Data columns (total 4 columns):\n",
      " #   Column      Non-Null Count  Dtype \n",
      "---  ------      --------------  ----- \n",
      " 0   title       44 non-null     object\n",
      " 1   price       44 non-null     int64 \n",
      " 2   region      44 non-null     object\n",
      " 3   regioncode  44 non-null     object\n",
      "dtypes: int64(1), object(3)\n",
      "memory usage: 1.7+ KB\n"
     ]
    }
   ],
   "source": [
    "carrot['price'] = carrot['price'].astype('int64')\n",
    "carrot.info()\n"
   ],
   "metadata": {
    "collapsed": false,
    "pycharm": {
     "name": "#%%\n"
    }
   }
  },
  {
   "cell_type": "code",
   "execution_count": 1469,
   "outputs": [],
   "source": [
    "carrot = carrot.drop('region', axis=1)"
   ],
   "metadata": {
    "collapsed": false,
    "pycharm": {
     "name": "#%%\n"
    }
   }
  },
  {
   "cell_type": "code",
   "execution_count": 1470,
   "outputs": [
    {
     "name": "stderr",
     "output_type": "stream",
     "text": [
      "C:\\Users\\ljg98\\AppData\\Local\\Temp\\ipykernel_23756\\94432016.py:3: SettingWithCopyWarning: \n",
      "A value is trying to be set on a copy of a slice from a DataFrame.\n",
      "Try using .loc[row_indexer,col_indexer] = value instead\n",
      "\n",
      "See the caveats in the documentation: https://pandas.pydata.org/pandas-docs/stable/user_guide/indexing.html#returning-a-view-versus-a-copy\n",
      "  isCase['Case'] = 1\n"
     ]
    }
   ],
   "source": [
    "target_string = ['케이스']\n",
    "isCase = carrot[carrot['title'].map(lambda x: any(string in x for string in target_string))]\n",
    "isCase['Case'] = 1\n",
    "isCase = isCase.drop(['title','price', 'regioncode'], axis=1)"
   ],
   "metadata": {
    "collapsed": false,
    "pycharm": {
     "name": "#%%\n"
    }
   }
  },
  {
   "cell_type": "code",
   "execution_count": 1471,
   "outputs": [
    {
     "data": {
      "text/plain": "    Case\n0      1\n1      1\n2      1\n3      1\n6      1\n10     1\n11     1\n12     1\n15     1\n21     1\n22     1\n23     1\n25     1\n26     1\n27     1\n28     1\n29     1\n33     1\n34     1\n39     1\n40     1",
      "text/html": "<div>\n<style scoped>\n    .dataframe tbody tr th:only-of-type {\n        vertical-align: middle;\n    }\n\n    .dataframe tbody tr th {\n        vertical-align: top;\n    }\n\n    .dataframe thead th {\n        text-align: right;\n    }\n</style>\n<table border=\"1\" class=\"dataframe\">\n  <thead>\n    <tr style=\"text-align: right;\">\n      <th></th>\n      <th>Case</th>\n    </tr>\n  </thead>\n  <tbody>\n    <tr>\n      <th>0</th>\n      <td>1</td>\n    </tr>\n    <tr>\n      <th>1</th>\n      <td>1</td>\n    </tr>\n    <tr>\n      <th>2</th>\n      <td>1</td>\n    </tr>\n    <tr>\n      <th>3</th>\n      <td>1</td>\n    </tr>\n    <tr>\n      <th>6</th>\n      <td>1</td>\n    </tr>\n    <tr>\n      <th>10</th>\n      <td>1</td>\n    </tr>\n    <tr>\n      <th>11</th>\n      <td>1</td>\n    </tr>\n    <tr>\n      <th>12</th>\n      <td>1</td>\n    </tr>\n    <tr>\n      <th>15</th>\n      <td>1</td>\n    </tr>\n    <tr>\n      <th>21</th>\n      <td>1</td>\n    </tr>\n    <tr>\n      <th>22</th>\n      <td>1</td>\n    </tr>\n    <tr>\n      <th>23</th>\n      <td>1</td>\n    </tr>\n    <tr>\n      <th>25</th>\n      <td>1</td>\n    </tr>\n    <tr>\n      <th>26</th>\n      <td>1</td>\n    </tr>\n    <tr>\n      <th>27</th>\n      <td>1</td>\n    </tr>\n    <tr>\n      <th>28</th>\n      <td>1</td>\n    </tr>\n    <tr>\n      <th>29</th>\n      <td>1</td>\n    </tr>\n    <tr>\n      <th>33</th>\n      <td>1</td>\n    </tr>\n    <tr>\n      <th>34</th>\n      <td>1</td>\n    </tr>\n    <tr>\n      <th>39</th>\n      <td>1</td>\n    </tr>\n    <tr>\n      <th>40</th>\n      <td>1</td>\n    </tr>\n  </tbody>\n</table>\n</div>"
     },
     "execution_count": 1471,
     "metadata": {},
     "output_type": "execute_result"
    }
   ],
   "source": [
    "isCase"
   ],
   "metadata": {
    "collapsed": false,
    "pycharm": {
     "name": "#%%\n"
    }
   }
  },
  {
   "cell_type": "code",
   "execution_count": 1472,
   "outputs": [
    {
     "name": "stdout",
     "output_type": "stream",
     "text": [
      "Int64Index([0, 1, 2, 3, 6, 10, 11, 12, 15, 21, 22, 23, 25, 26, 27, 28, 29, 33,\n",
      "            34, 39, 40],\n",
      "           dtype='int64')\n"
     ]
    },
    {
     "data": {
      "text/plain": "                                                title   price regioncode\n0                     아이폰 12 미니 256기가 화이트 아이폰12 아이폰미니  500000          2\n1                        아이폰 12 12gb 레드 ( iPhone 12 )  500000          3\n2             [급매 S급] iPhone 12 mini 128G / 아이폰 12 미니  380000          4\n3    아이폰12 미니 128g iphone12 mini 블랙 판매합니다(화면 보호필름입니다)  400000          5\n4                               아이폰12pro 128G 아이폰12프로  720000          6\n5                                 아이폰12 프로 아이폰12프로 맥스    3000         10\n6                               아이폰12————->아이폰12이상 모델  212121         11\n7                       아이폰12 미니 화이트 아이폰 미니 12 iphone  450000         13\n8                       아이폰12 미니 화이트 아이폰 미니 12 iphone  450000         14\n9                       아이폰 12 미니 화이트 >> 아이폰 12 이상 교환  121212         15\n10                        아이폰12 프로 아이폰12 pro 256gb 실버  780000         16\n11       아이폰11프로256이랑 아이폰 12or12pro 13 13pro 교환하실 분!!   10000         17\n12                           아이폰12프맥 > 아이폰12프로, 아이폰12       1         21\n13                       아이폰12 아이폰12프로 벨킨 울트라글라스 강화유리   20000         27\n14                    아이폰12미니 128 , iPhone12 mini 128  600000         28\n15                         아이폰12 / 아이폰12pro 강화유리필름 2개   10000         29\n16       iPhone 12 pro max / 아이폰 12 프로맥스 128GB 판매합니다.  850000         32\n17                        아이폰12프로 아이폰12pro 512 골드 팝니다  855000         33\n18             아이폰12미니 블랙 128GB 자급제 48만원 (아이폰12 mini)  480000         34\n19  아이폰 아이폰11 아이폰 12 아이폰13 아이폰xr 아이폰xs 아이폰x 아이폰전기종...       1         35\n20                   파손 아이폰7플러스 이상 삽니다. 아이폰x 아이폰11.12  100000         38\n21                   파손 아이폰7플러스 이상 삽니다. 아이폰x 아이폰11.12  100000         39\n22                   파손 아이폰7플러스 이상 삽니다. 아이폰x 아이폰11.12  100000         40",
      "text/html": "<div>\n<style scoped>\n    .dataframe tbody tr th:only-of-type {\n        vertical-align: middle;\n    }\n\n    .dataframe tbody tr th {\n        vertical-align: top;\n    }\n\n    .dataframe thead th {\n        text-align: right;\n    }\n</style>\n<table border=\"1\" class=\"dataframe\">\n  <thead>\n    <tr style=\"text-align: right;\">\n      <th></th>\n      <th>title</th>\n      <th>price</th>\n      <th>regioncode</th>\n    </tr>\n  </thead>\n  <tbody>\n    <tr>\n      <th>0</th>\n      <td>아이폰 12 미니 256기가 화이트 아이폰12 아이폰미니</td>\n      <td>500000</td>\n      <td>2</td>\n    </tr>\n    <tr>\n      <th>1</th>\n      <td>아이폰 12 12gb 레드 ( iPhone 12 )</td>\n      <td>500000</td>\n      <td>3</td>\n    </tr>\n    <tr>\n      <th>2</th>\n      <td>[급매 S급] iPhone 12 mini 128G / 아이폰 12 미니</td>\n      <td>380000</td>\n      <td>4</td>\n    </tr>\n    <tr>\n      <th>3</th>\n      <td>아이폰12 미니 128g iphone12 mini 블랙 판매합니다(화면 보호필름입니다)</td>\n      <td>400000</td>\n      <td>5</td>\n    </tr>\n    <tr>\n      <th>4</th>\n      <td>아이폰12pro 128G 아이폰12프로</td>\n      <td>720000</td>\n      <td>6</td>\n    </tr>\n    <tr>\n      <th>5</th>\n      <td>아이폰12 프로 아이폰12프로 맥스</td>\n      <td>3000</td>\n      <td>10</td>\n    </tr>\n    <tr>\n      <th>6</th>\n      <td>아이폰12————-&gt;아이폰12이상 모델</td>\n      <td>212121</td>\n      <td>11</td>\n    </tr>\n    <tr>\n      <th>7</th>\n      <td>아이폰12 미니 화이트 아이폰 미니 12 iphone</td>\n      <td>450000</td>\n      <td>13</td>\n    </tr>\n    <tr>\n      <th>8</th>\n      <td>아이폰12 미니 화이트 아이폰 미니 12 iphone</td>\n      <td>450000</td>\n      <td>14</td>\n    </tr>\n    <tr>\n      <th>9</th>\n      <td>아이폰 12 미니 화이트 &gt;&gt; 아이폰 12 이상 교환</td>\n      <td>121212</td>\n      <td>15</td>\n    </tr>\n    <tr>\n      <th>10</th>\n      <td>아이폰12 프로 아이폰12 pro 256gb 실버</td>\n      <td>780000</td>\n      <td>16</td>\n    </tr>\n    <tr>\n      <th>11</th>\n      <td>아이폰11프로256이랑 아이폰 12or12pro 13 13pro 교환하실 분!!</td>\n      <td>10000</td>\n      <td>17</td>\n    </tr>\n    <tr>\n      <th>12</th>\n      <td>아이폰12프맥 &gt; 아이폰12프로, 아이폰12</td>\n      <td>1</td>\n      <td>21</td>\n    </tr>\n    <tr>\n      <th>13</th>\n      <td>아이폰12 아이폰12프로 벨킨 울트라글라스 강화유리</td>\n      <td>20000</td>\n      <td>27</td>\n    </tr>\n    <tr>\n      <th>14</th>\n      <td>아이폰12미니 128 , iPhone12 mini 128</td>\n      <td>600000</td>\n      <td>28</td>\n    </tr>\n    <tr>\n      <th>15</th>\n      <td>아이폰12 / 아이폰12pro 강화유리필름 2개</td>\n      <td>10000</td>\n      <td>29</td>\n    </tr>\n    <tr>\n      <th>16</th>\n      <td>iPhone 12 pro max / 아이폰 12 프로맥스 128GB 판매합니다.</td>\n      <td>850000</td>\n      <td>32</td>\n    </tr>\n    <tr>\n      <th>17</th>\n      <td>아이폰12프로 아이폰12pro 512 골드 팝니다</td>\n      <td>855000</td>\n      <td>33</td>\n    </tr>\n    <tr>\n      <th>18</th>\n      <td>아이폰12미니 블랙 128GB 자급제 48만원 (아이폰12 mini)</td>\n      <td>480000</td>\n      <td>34</td>\n    </tr>\n    <tr>\n      <th>19</th>\n      <td>아이폰 아이폰11 아이폰 12 아이폰13 아이폰xr 아이폰xs 아이폰x 아이폰전기종...</td>\n      <td>1</td>\n      <td>35</td>\n    </tr>\n    <tr>\n      <th>20</th>\n      <td>파손 아이폰7플러스 이상 삽니다. 아이폰x 아이폰11.12</td>\n      <td>100000</td>\n      <td>38</td>\n    </tr>\n    <tr>\n      <th>21</th>\n      <td>파손 아이폰7플러스 이상 삽니다. 아이폰x 아이폰11.12</td>\n      <td>100000</td>\n      <td>39</td>\n    </tr>\n    <tr>\n      <th>22</th>\n      <td>파손 아이폰7플러스 이상 삽니다. 아이폰x 아이폰11.12</td>\n      <td>100000</td>\n      <td>40</td>\n    </tr>\n  </tbody>\n</table>\n</div>"
     },
     "execution_count": 1472,
     "metadata": {},
     "output_type": "execute_result"
    }
   ],
   "source": [
    "case = carrot[carrot['title'].str.contains('케이스')].index\n",
    "print(case)\n",
    "carrot.drop(case,inplace=True)\n",
    "carrot = carrot.reset_index()\n",
    "carrot = carrot.drop('index',axis=1)\n",
    "carrot"
   ],
   "metadata": {
    "collapsed": false,
    "pycharm": {
     "name": "#%%\n"
    }
   }
  },
  {
   "cell_type": "code",
   "execution_count": 1473,
   "outputs": [],
   "source": [
    "carrot.to_csv('testfile/carrotshop.csv', mode='w')"
   ],
   "metadata": {
    "collapsed": false,
    "pycharm": {
     "name": "#%%\n"
    }
   }
  }
 ],
 "metadata": {
  "kernelspec": {
   "display_name": "Python 3",
   "language": "python",
   "name": "python3"
  },
  "language_info": {
   "codemirror_mode": {
    "name": "ipython",
    "version": 2
   },
   "file_extension": ".py",
   "mimetype": "text/x-python",
   "name": "python",
   "nbconvert_exporter": "python",
   "pygments_lexer": "ipython2",
   "version": "2.7.6"
  }
 },
 "nbformat": 4,
 "nbformat_minor": 0
}