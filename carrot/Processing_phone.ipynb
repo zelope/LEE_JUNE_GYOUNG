{
 "cells": [
  {
   "cell_type": "code",
   "execution_count": 32,
   "metadata": {
    "collapsed": true,
    "pycharm": {
     "name": "#%%\n"
    }
   },
   "outputs": [],
   "source": [
    "import pandas as pd\n",
    "carrotIphone= pd.read_csv(\"testfile/carrotIphoneProto.csv\",index_col = 0)\n",
    "carrotGal= pd.read_csv(\"testfile/carrotGalProto.csv\",index_col = 0)"
   ]
  },
  {
   "cell_type": "code",
   "execution_count": 33,
   "outputs": [
    {
     "name": "stdout",
     "output_type": "stream",
     "text": [
      "<class 'pandas.core.frame.DataFrame'>\n",
      "Int64Index: 7886 entries, 0 to 7885\n",
      "Data columns (total 3 columns):\n",
      " #   Column  Non-Null Count  Dtype \n",
      "---  ------  --------------  ----- \n",
      " 0   title   7886 non-null   object\n",
      " 1   price   7886 non-null   object\n",
      " 2   region  7886 non-null   object\n",
      "dtypes: object(3)\n",
      "memory usage: 246.4+ KB\n"
     ]
    }
   ],
   "source": [
    "carrotIphone.info()"
   ],
   "metadata": {
    "collapsed": false,
    "pycharm": {
     "name": "#%%\n"
    }
   }
  },
  {
   "cell_type": "code",
   "execution_count": 34,
   "outputs": [
    {
     "name": "stderr",
     "output_type": "stream",
     "text": [
      "C:\\Users\\ljg98\\AppData\\Local\\Temp\\ipykernel_1908\\3197724326.py:16: FutureWarning: The default value of regex will change from True to False in a future version. In addition, single character regular expressions will *not* be treated as literal strings when regex=True.\n",
      "  carrotIphone.title = carrotIphone['title'].str.replace('+','plus')\n"
     ]
    },
    {
     "data": {
      "text/plain": "                                                  title     price  \\\n0     아이폰12mini아이폰mini12아이폰12아이폰mini12mini128기가128GB128  430,000원   \n1                     아이폰se2128gbred박스드림/아이폰se3아이폰8아이폰7  190,000원   \n2                     아이폰se2128gbred박스드림/아이폰se3아이폰8아이폰7  190,000원   \n3                     아이폰se2128gbred박스드림/아이폰se3아이폰8아이폰7  190,000원   \n4                     아이폰se2128기가red박스포함/아이폰se3아이폰8아이폰7  175,000원   \n...                                                 ...       ...   \n7881                        아이폰11pro256( 아이폰11pro256)골드  475,000원   \n7882                                        아이폰xr64GB블랙  230,000원   \n7883                            아이폰13mini256단순개봉풀박스팝니다.  830,000원   \n7884                                           아이폰xs팝니다  295,000원   \n7885                                         아이폰케이블선팔아요   12,000원   \n\n                region  \n0          경기도 화성시 영천동  \n1           경남 거제시 문동동  \n2       경남 창원시 성산구 성주동  \n3     경남 창원시 마산회원구 회원동  \n4           경남 김해시 주촌면  \n...                ...  \n7881   경기도 성남시 분당구 백현동  \n7882       경기도 포천시 창수면  \n7883       서울 송파구 잠실본동  \n7884        충북 제천시 화산동  \n7885       서울 종로구 명륜1가  \n\n[7886 rows x 3 columns]",
      "text/html": "<div>\n<style scoped>\n    .dataframe tbody tr th:only-of-type {\n        vertical-align: middle;\n    }\n\n    .dataframe tbody tr th {\n        vertical-align: top;\n    }\n\n    .dataframe thead th {\n        text-align: right;\n    }\n</style>\n<table border=\"1\" class=\"dataframe\">\n  <thead>\n    <tr style=\"text-align: right;\">\n      <th></th>\n      <th>title</th>\n      <th>price</th>\n      <th>region</th>\n    </tr>\n  </thead>\n  <tbody>\n    <tr>\n      <th>0</th>\n      <td>아이폰12mini아이폰mini12아이폰12아이폰mini12mini128기가128GB128</td>\n      <td>430,000원</td>\n      <td>경기도 화성시 영천동</td>\n    </tr>\n    <tr>\n      <th>1</th>\n      <td>아이폰se2128gbred박스드림/아이폰se3아이폰8아이폰7</td>\n      <td>190,000원</td>\n      <td>경남 거제시 문동동</td>\n    </tr>\n    <tr>\n      <th>2</th>\n      <td>아이폰se2128gbred박스드림/아이폰se3아이폰8아이폰7</td>\n      <td>190,000원</td>\n      <td>경남 창원시 성산구 성주동</td>\n    </tr>\n    <tr>\n      <th>3</th>\n      <td>아이폰se2128gbred박스드림/아이폰se3아이폰8아이폰7</td>\n      <td>190,000원</td>\n      <td>경남 창원시 마산회원구 회원동</td>\n    </tr>\n    <tr>\n      <th>4</th>\n      <td>아이폰se2128기가red박스포함/아이폰se3아이폰8아이폰7</td>\n      <td>175,000원</td>\n      <td>경남 김해시 주촌면</td>\n    </tr>\n    <tr>\n      <th>...</th>\n      <td>...</td>\n      <td>...</td>\n      <td>...</td>\n    </tr>\n    <tr>\n      <th>7881</th>\n      <td>아이폰11pro256( 아이폰11pro256)골드</td>\n      <td>475,000원</td>\n      <td>경기도 성남시 분당구 백현동</td>\n    </tr>\n    <tr>\n      <th>7882</th>\n      <td>아이폰xr64GB블랙</td>\n      <td>230,000원</td>\n      <td>경기도 포천시 창수면</td>\n    </tr>\n    <tr>\n      <th>7883</th>\n      <td>아이폰13mini256단순개봉풀박스팝니다.</td>\n      <td>830,000원</td>\n      <td>서울 송파구 잠실본동</td>\n    </tr>\n    <tr>\n      <th>7884</th>\n      <td>아이폰xs팝니다</td>\n      <td>295,000원</td>\n      <td>충북 제천시 화산동</td>\n    </tr>\n    <tr>\n      <th>7885</th>\n      <td>아이폰케이블선팔아요</td>\n      <td>12,000원</td>\n      <td>서울 종로구 명륜1가</td>\n    </tr>\n  </tbody>\n</table>\n<p>7886 rows × 3 columns</p>\n</div>"
     },
     "execution_count": 34,
     "metadata": {},
     "output_type": "execute_result"
    }
   ],
   "source": [
    "#iphone전처리\n",
    "carrotIphone.title = carrotIphone['title'].str.replace(' ','')\n",
    "\n",
    "carrotIphone.title = carrotIphone['title'].str.replace('Iphone',' 아이폰')\n",
    "carrotIphone.title = carrotIphone['title'].str.replace('iPhone',' 아이폰')\n",
    "carrotIphone.title = carrotIphone['title'].str.replace('iphone',' 아이폰')\n",
    "carrotIphone.title = carrotIphone['title'].str.replace('IPhone',' 아이폰')\n",
    "\n",
    "carrotIphone.title = carrotIphone['title'].str.replace('S','s')\n",
    "carrotIphone.title = carrotIphone['title'].str.replace('X','x')\n",
    "carrotIphone.title = carrotIphone['title'].str.replace('E','e')\n",
    "carrotIphone.title = carrotIphone['title'].str.replace('R','r')\n",
    "\n",
    "carrotIphone.title = carrotIphone['title'].str.replace('se1','se')\n",
    "carrotIphone.title = carrotIphone['title'].str.replace('플러스','plus')\n",
    "carrotIphone.title = carrotIphone['title'].str.replace('+','plus')\n",
    "carrotIphone.title = carrotIphone['title'].str.replace('Plus','plus')\n",
    "carrotIphone.title = carrotIphone['title'].str.replace('PLUS','plus')\n",
    "carrotIphone.title = carrotIphone['title'].str.replace('프로','pro')\n",
    "carrotIphone.title = carrotIphone['title'].str.replace('Pro','pro')\n",
    "carrotIphone.title = carrotIphone['title'].str.replace('PRO','pro')\n",
    "carrotIphone.title = carrotIphone['title'].str.replace('미니','mini')\n",
    "carrotIphone.title = carrotIphone['title'].str.replace('Mini','mini')\n",
    "carrotIphone.title = carrotIphone['title'].str.replace('MINI','mini')\n",
    "\n",
    "carrotIphone.title = carrotIphone['title'].str.replace('맥스','max')\n",
    "carrotIphone.title = carrotIphone['title'].str.replace('MAX','max')\n",
    "carrotIphone.title = carrotIphone['title'].str.replace('Max','max')\n",
    "carrotIphone.title = carrotIphone['title'].str.replace('멕스','max')\n",
    "\n",
    "\n",
    "\n",
    "carrotIphone"
   ],
   "metadata": {
    "collapsed": false,
    "pycharm": {
     "name": "#%%\n"
    }
   }
  },
  {
   "cell_type": "code",
   "execution_count": 35,
   "outputs": [],
   "source": [
    "def priceS2I(data,cName):\n",
    "    copyd = data.copy()\n",
    "    j = 0\n",
    "    for oldd in copyd[cName]:\n",
    "        newd = oldd.replace(',','')\n",
    "        newd = newd.replace(' ','')\n",
    "        newd = newd.replace('만','0000')\n",
    "        newd = newd.replace('원','')\n",
    "        try:\n",
    "            copyd[cName].iloc[j] = int(newd)\n",
    "        except ValueError:\n",
    "            copyd[cName].iloc[j] = 1\n",
    "        j = j+1\n",
    "    return copyd[cName]\n"
   ],
   "metadata": {
    "collapsed": false,
    "pycharm": {
     "name": "#%%\n"
    }
   }
  },
  {
   "cell_type": "code",
   "execution_count": 36,
   "outputs": [
    {
     "data": {
      "text/plain": "                                                  title   price  \\\n0     아이폰12mini아이폰mini12아이폰12아이폰mini12mini128기가128GB128  430000   \n1                     아이폰se2128gbred박스드림/아이폰se3아이폰8아이폰7  190000   \n2                     아이폰se2128gbred박스드림/아이폰se3아이폰8아이폰7  190000   \n3                     아이폰se2128gbred박스드림/아이폰se3아이폰8아이폰7  190000   \n4                     아이폰se2128기가red박스포함/아이폰se3아이폰8아이폰7  175000   \n...                                                 ...     ...   \n7881                        아이폰11pro256( 아이폰11pro256)골드  475000   \n7882                                        아이폰xr64GB블랙  230000   \n7883                            아이폰13mini256단순개봉풀박스팝니다.  830000   \n7884                                           아이폰xs팝니다  295000   \n7885                                         아이폰케이블선팔아요   12000   \n\n                region  \n0          경기도 화성시 영천동  \n1           경남 거제시 문동동  \n2       경남 창원시 성산구 성주동  \n3     경남 창원시 마산회원구 회원동  \n4           경남 김해시 주촌면  \n...                ...  \n7881   경기도 성남시 분당구 백현동  \n7882       경기도 포천시 창수면  \n7883       서울 송파구 잠실본동  \n7884        충북 제천시 화산동  \n7885       서울 종로구 명륜1가  \n\n[7886 rows x 3 columns]",
      "text/html": "<div>\n<style scoped>\n    .dataframe tbody tr th:only-of-type {\n        vertical-align: middle;\n    }\n\n    .dataframe tbody tr th {\n        vertical-align: top;\n    }\n\n    .dataframe thead th {\n        text-align: right;\n    }\n</style>\n<table border=\"1\" class=\"dataframe\">\n  <thead>\n    <tr style=\"text-align: right;\">\n      <th></th>\n      <th>title</th>\n      <th>price</th>\n      <th>region</th>\n    </tr>\n  </thead>\n  <tbody>\n    <tr>\n      <th>0</th>\n      <td>아이폰12mini아이폰mini12아이폰12아이폰mini12mini128기가128GB128</td>\n      <td>430000</td>\n      <td>경기도 화성시 영천동</td>\n    </tr>\n    <tr>\n      <th>1</th>\n      <td>아이폰se2128gbred박스드림/아이폰se3아이폰8아이폰7</td>\n      <td>190000</td>\n      <td>경남 거제시 문동동</td>\n    </tr>\n    <tr>\n      <th>2</th>\n      <td>아이폰se2128gbred박스드림/아이폰se3아이폰8아이폰7</td>\n      <td>190000</td>\n      <td>경남 창원시 성산구 성주동</td>\n    </tr>\n    <tr>\n      <th>3</th>\n      <td>아이폰se2128gbred박스드림/아이폰se3아이폰8아이폰7</td>\n      <td>190000</td>\n      <td>경남 창원시 마산회원구 회원동</td>\n    </tr>\n    <tr>\n      <th>4</th>\n      <td>아이폰se2128기가red박스포함/아이폰se3아이폰8아이폰7</td>\n      <td>175000</td>\n      <td>경남 김해시 주촌면</td>\n    </tr>\n    <tr>\n      <th>...</th>\n      <td>...</td>\n      <td>...</td>\n      <td>...</td>\n    </tr>\n    <tr>\n      <th>7881</th>\n      <td>아이폰11pro256( 아이폰11pro256)골드</td>\n      <td>475000</td>\n      <td>경기도 성남시 분당구 백현동</td>\n    </tr>\n    <tr>\n      <th>7882</th>\n      <td>아이폰xr64GB블랙</td>\n      <td>230000</td>\n      <td>경기도 포천시 창수면</td>\n    </tr>\n    <tr>\n      <th>7883</th>\n      <td>아이폰13mini256단순개봉풀박스팝니다.</td>\n      <td>830000</td>\n      <td>서울 송파구 잠실본동</td>\n    </tr>\n    <tr>\n      <th>7884</th>\n      <td>아이폰xs팝니다</td>\n      <td>295000</td>\n      <td>충북 제천시 화산동</td>\n    </tr>\n    <tr>\n      <th>7885</th>\n      <td>아이폰케이블선팔아요</td>\n      <td>12000</td>\n      <td>서울 종로구 명륜1가</td>\n    </tr>\n  </tbody>\n</table>\n<p>7886 rows × 3 columns</p>\n</div>"
     },
     "execution_count": 36,
     "metadata": {},
     "output_type": "execute_result"
    }
   ],
   "source": [
    "carrotIphone.price=priceS2I(carrotIphone,'price')\n",
    "carrotIphone"
   ],
   "metadata": {
    "collapsed": false,
    "pycharm": {
     "name": "#%%\n"
    }
   }
  },
  {
   "cell_type": "code",
   "execution_count": 37,
   "outputs": [
    {
     "data": {
      "text/plain": "                                                  title   price  \\\n0     아이폰12mini아이폰mini12아이폰12아이폰mini12mini128기가128GB128  430000   \n1                     아이폰se2128gbred박스드림/아이폰se3아이폰8아이폰7  190000   \n2                     아이폰se2128gbred박스드림/아이폰se3아이폰8아이폰7  190000   \n3                     아이폰se2128gbred박스드림/아이폰se3아이폰8아이폰7  190000   \n4                     아이폰se2128기가red박스포함/아이폰se3아이폰8아이폰7  175000   \n...                                                 ...     ...   \n7349                                       아이폰11pro팝니다.  280000   \n7350                        아이폰11pro256( 아이폰11pro256)골드  475000   \n7351                                        아이폰xr64GB블랙  230000   \n7352                            아이폰13mini256단순개봉풀박스팝니다.  830000   \n7353                                           아이폰xs팝니다  295000   \n\n                region  \n0          경기도 화성시 영천동  \n1           경남 거제시 문동동  \n2       경남 창원시 성산구 성주동  \n3     경남 창원시 마산회원구 회원동  \n4           경남 김해시 주촌면  \n...                ...  \n7349        인천 남동구 만수동  \n7350   경기도 성남시 분당구 백현동  \n7351       경기도 포천시 창수면  \n7352       서울 송파구 잠실본동  \n7353        충북 제천시 화산동  \n\n[7354 rows x 3 columns]",
      "text/html": "<div>\n<style scoped>\n    .dataframe tbody tr th:only-of-type {\n        vertical-align: middle;\n    }\n\n    .dataframe tbody tr th {\n        vertical-align: top;\n    }\n\n    .dataframe thead th {\n        text-align: right;\n    }\n</style>\n<table border=\"1\" class=\"dataframe\">\n  <thead>\n    <tr style=\"text-align: right;\">\n      <th></th>\n      <th>title</th>\n      <th>price</th>\n      <th>region</th>\n    </tr>\n  </thead>\n  <tbody>\n    <tr>\n      <th>0</th>\n      <td>아이폰12mini아이폰mini12아이폰12아이폰mini12mini128기가128GB128</td>\n      <td>430000</td>\n      <td>경기도 화성시 영천동</td>\n    </tr>\n    <tr>\n      <th>1</th>\n      <td>아이폰se2128gbred박스드림/아이폰se3아이폰8아이폰7</td>\n      <td>190000</td>\n      <td>경남 거제시 문동동</td>\n    </tr>\n    <tr>\n      <th>2</th>\n      <td>아이폰se2128gbred박스드림/아이폰se3아이폰8아이폰7</td>\n      <td>190000</td>\n      <td>경남 창원시 성산구 성주동</td>\n    </tr>\n    <tr>\n      <th>3</th>\n      <td>아이폰se2128gbred박스드림/아이폰se3아이폰8아이폰7</td>\n      <td>190000</td>\n      <td>경남 창원시 마산회원구 회원동</td>\n    </tr>\n    <tr>\n      <th>4</th>\n      <td>아이폰se2128기가red박스포함/아이폰se3아이폰8아이폰7</td>\n      <td>175000</td>\n      <td>경남 김해시 주촌면</td>\n    </tr>\n    <tr>\n      <th>...</th>\n      <td>...</td>\n      <td>...</td>\n      <td>...</td>\n    </tr>\n    <tr>\n      <th>7349</th>\n      <td>아이폰11pro팝니다.</td>\n      <td>280000</td>\n      <td>인천 남동구 만수동</td>\n    </tr>\n    <tr>\n      <th>7350</th>\n      <td>아이폰11pro256( 아이폰11pro256)골드</td>\n      <td>475000</td>\n      <td>경기도 성남시 분당구 백현동</td>\n    </tr>\n    <tr>\n      <th>7351</th>\n      <td>아이폰xr64GB블랙</td>\n      <td>230000</td>\n      <td>경기도 포천시 창수면</td>\n    </tr>\n    <tr>\n      <th>7352</th>\n      <td>아이폰13mini256단순개봉풀박스팝니다.</td>\n      <td>830000</td>\n      <td>서울 송파구 잠실본동</td>\n    </tr>\n    <tr>\n      <th>7353</th>\n      <td>아이폰xs팝니다</td>\n      <td>295000</td>\n      <td>충북 제천시 화산동</td>\n    </tr>\n  </tbody>\n</table>\n<p>7354 rows × 3 columns</p>\n</div>"
     },
     "execution_count": 37,
     "metadata": {},
     "output_type": "execute_result"
    }
   ],
   "source": [
    "errorPriceI = carrotIphone[carrotIphone.price < 40000].index\n",
    "carrotIphone.drop(errorPriceI,inplace=True)\n",
    "carrotIphone = carrotIphone.reset_index()\n",
    "carrotIphone = carrotIphone.drop('index',axis=1)\n",
    "carrotIphone"
   ],
   "metadata": {
    "collapsed": false,
    "pycharm": {
     "name": "#%%\n"
    }
   }
  },
  {
   "cell_type": "code",
   "execution_count": 38,
   "outputs": [
    {
     "name": "stdout",
     "output_type": "stream",
     "text": [
      "<class 'pandas.core.frame.DataFrame'>\n",
      "RangeIndex: 7354 entries, 0 to 7353\n",
      "Data columns (total 3 columns):\n",
      " #   Column  Non-Null Count  Dtype \n",
      "---  ------  --------------  ----- \n",
      " 0   title   7354 non-null   object\n",
      " 1   price   7354 non-null   object\n",
      " 2   region  7354 non-null   object\n",
      "dtypes: object(3)\n",
      "memory usage: 172.5+ KB\n"
     ]
    }
   ],
   "source": [
    "carrotIphone.info()"
   ],
   "metadata": {
    "collapsed": false,
    "pycharm": {
     "name": "#%%\n"
    }
   }
  },
  {
   "cell_type": "code",
   "execution_count": 39,
   "outputs": [],
   "source": [
    "def changeTitle(target, p_List):\n",
    "    for product in p_List:\n",
    "        case = target[target['title'].str.contains(product)].index\n",
    "        target['title'].iloc[case] = product.upper()\n",
    "    return target"
   ],
   "metadata": {
    "collapsed": false,
    "pycharm": {
     "name": "#%%\n"
    }
   }
  },
  {
   "cell_type": "code",
   "execution_count": 40,
   "outputs": [],
   "source": [
    "productlistI = ['아이폰14promax', '아이폰14pro', '아이폰14+', '아이폰14', '아이폰se3','아이폰13promax', '아이폰13pro', '아이폰13mini', '아이폰13','아이폰12promax', '아이폰12pro', '아이폰12mini', '아이폰12', '아이폰se2', '아이폰11promax', '아이폰11pro', '아이폰11', '아이폰xsmax', '아이폰xs', '아이폰xr', '아이폰x', '아이폰8plus', '아이폰8', '아이폰7plus', '아이폰7', '아이폰se', '아이폰6splus', '아이폰6s', '아이폰6plus', '아이폰6', '아이폰5s', '아이폰4s', '아이폰4']\n",
    "newproductlistI=[]\n",
    "countI = []\n",
    "i=1\n",
    "for pi in productlistI:\n",
    "    countI.append(i)\n",
    "    newproductlistI.append(pi.upper())\n",
    "    i=i+1\n"
   ],
   "metadata": {
    "collapsed": false,
    "pycharm": {
     "name": "#%%\n"
    }
   }
  },
  {
   "cell_type": "code",
   "execution_count": 41,
   "outputs": [
    {
     "data": {
      "text/plain": "       title   price            region\n0      아이폰12  430000       경기도 화성시 영천동\n1     아이폰SE3  190000        경남 거제시 문동동\n2     아이폰SE3  190000    경남 창원시 성산구 성주동\n3     아이폰SE3  190000  경남 창원시 마산회원구 회원동\n4     아이폰SE3  175000        경남 김해시 주촌면\n...      ...     ...               ...\n7349   아이폰11  280000        인천 남동구 만수동\n7350   아이폰11  475000   경기도 성남시 분당구 백현동\n7351   아이폰XR  230000       경기도 포천시 창수면\n7352   아이폰13  830000       서울 송파구 잠실본동\n7353   아이폰XS  295000        충북 제천시 화산동\n\n[7354 rows x 3 columns]",
      "text/html": "<div>\n<style scoped>\n    .dataframe tbody tr th:only-of-type {\n        vertical-align: middle;\n    }\n\n    .dataframe tbody tr th {\n        vertical-align: top;\n    }\n\n    .dataframe thead th {\n        text-align: right;\n    }\n</style>\n<table border=\"1\" class=\"dataframe\">\n  <thead>\n    <tr style=\"text-align: right;\">\n      <th></th>\n      <th>title</th>\n      <th>price</th>\n      <th>region</th>\n    </tr>\n  </thead>\n  <tbody>\n    <tr>\n      <th>0</th>\n      <td>아이폰12</td>\n      <td>430000</td>\n      <td>경기도 화성시 영천동</td>\n    </tr>\n    <tr>\n      <th>1</th>\n      <td>아이폰SE3</td>\n      <td>190000</td>\n      <td>경남 거제시 문동동</td>\n    </tr>\n    <tr>\n      <th>2</th>\n      <td>아이폰SE3</td>\n      <td>190000</td>\n      <td>경남 창원시 성산구 성주동</td>\n    </tr>\n    <tr>\n      <th>3</th>\n      <td>아이폰SE3</td>\n      <td>190000</td>\n      <td>경남 창원시 마산회원구 회원동</td>\n    </tr>\n    <tr>\n      <th>4</th>\n      <td>아이폰SE3</td>\n      <td>175000</td>\n      <td>경남 김해시 주촌면</td>\n    </tr>\n    <tr>\n      <th>...</th>\n      <td>...</td>\n      <td>...</td>\n      <td>...</td>\n    </tr>\n    <tr>\n      <th>7349</th>\n      <td>아이폰11</td>\n      <td>280000</td>\n      <td>인천 남동구 만수동</td>\n    </tr>\n    <tr>\n      <th>7350</th>\n      <td>아이폰11</td>\n      <td>475000</td>\n      <td>경기도 성남시 분당구 백현동</td>\n    </tr>\n    <tr>\n      <th>7351</th>\n      <td>아이폰XR</td>\n      <td>230000</td>\n      <td>경기도 포천시 창수면</td>\n    </tr>\n    <tr>\n      <th>7352</th>\n      <td>아이폰13</td>\n      <td>830000</td>\n      <td>서울 송파구 잠실본동</td>\n    </tr>\n    <tr>\n      <th>7353</th>\n      <td>아이폰XS</td>\n      <td>295000</td>\n      <td>충북 제천시 화산동</td>\n    </tr>\n  </tbody>\n</table>\n<p>7354 rows × 3 columns</p>\n</div>"
     },
     "execution_count": 41,
     "metadata": {},
     "output_type": "execute_result"
    }
   ],
   "source": [
    "carrotIphone = changeTitle(carrotIphone,productlistI)\n",
    "iphoneList = pd.DataFrame([ x for x in zip(newproductlistI,countI)], columns=['pName', 'pNum'])\n",
    "carrotIphone"
   ],
   "metadata": {
    "collapsed": false,
    "pycharm": {
     "name": "#%%\n"
    }
   }
  },
  {
   "cell_type": "code",
   "execution_count": 42,
   "outputs": [
    {
     "data": {
      "text/plain": "      pNum   price   region\n0       13  430000  경기도 화성시\n1       13  700000    대전 서구\n2       13  410000  경기도 오산시\n3       13  500000  경기도 의왕시\n4       13  500000   서울 성동구\n...    ...     ...      ...\n7217    33  150000   서울 강서구\n7218    31   80000   서울 관악구\n7219    31  145000   부산 동래구\n7220    31  145000   부산 동래구\n7221    31  100000   부산 사하구\n\n[7222 rows x 3 columns]",
      "text/html": "<div>\n<style scoped>\n    .dataframe tbody tr th:only-of-type {\n        vertical-align: middle;\n    }\n\n    .dataframe tbody tr th {\n        vertical-align: top;\n    }\n\n    .dataframe thead th {\n        text-align: right;\n    }\n</style>\n<table border=\"1\" class=\"dataframe\">\n  <thead>\n    <tr style=\"text-align: right;\">\n      <th></th>\n      <th>pNum</th>\n      <th>price</th>\n      <th>region</th>\n    </tr>\n  </thead>\n  <tbody>\n    <tr>\n      <th>0</th>\n      <td>13</td>\n      <td>430000</td>\n      <td>경기도 화성시</td>\n    </tr>\n    <tr>\n      <th>1</th>\n      <td>13</td>\n      <td>700000</td>\n      <td>대전 서구</td>\n    </tr>\n    <tr>\n      <th>2</th>\n      <td>13</td>\n      <td>410000</td>\n      <td>경기도 오산시</td>\n    </tr>\n    <tr>\n      <th>3</th>\n      <td>13</td>\n      <td>500000</td>\n      <td>경기도 의왕시</td>\n    </tr>\n    <tr>\n      <th>4</th>\n      <td>13</td>\n      <td>500000</td>\n      <td>서울 성동구</td>\n    </tr>\n    <tr>\n      <th>...</th>\n      <td>...</td>\n      <td>...</td>\n      <td>...</td>\n    </tr>\n    <tr>\n      <th>7217</th>\n      <td>33</td>\n      <td>150000</td>\n      <td>서울 강서구</td>\n    </tr>\n    <tr>\n      <th>7218</th>\n      <td>31</td>\n      <td>80000</td>\n      <td>서울 관악구</td>\n    </tr>\n    <tr>\n      <th>7219</th>\n      <td>31</td>\n      <td>145000</td>\n      <td>부산 동래구</td>\n    </tr>\n    <tr>\n      <th>7220</th>\n      <td>31</td>\n      <td>145000</td>\n      <td>부산 동래구</td>\n    </tr>\n    <tr>\n      <th>7221</th>\n      <td>31</td>\n      <td>100000</td>\n      <td>부산 사하구</td>\n    </tr>\n  </tbody>\n</table>\n<p>7222 rows × 3 columns</p>\n</div>"
     },
     "execution_count": 42,
     "metadata": {},
     "output_type": "execute_result"
    }
   ],
   "source": [
    "carrotIphone = pd.merge(carrotIphone, iphoneList, left_on='title', right_on='pName', how='inner')\n",
    "carrotIphone = carrotIphone.drop(['title', 'pName'], axis=1)\n",
    "carrotIphone = carrotIphone[['pNum', 'price', 'region']]\n",
    "carrotIphone['regiontemp'] = carrotIphone['region'] + \" \" + carrotIphone['region']\n",
    "carrotIphone = carrotIphone.drop(['region'], axis=1)\n",
    "carrotIphone['region1'] = carrotIphone.regiontemp.str.split(' ').str[-3]\n",
    "carrotIphone['region2'] = carrotIphone.regiontemp.str.split(' ').str[-2]\n",
    "carrotIphone['region'] = carrotIphone['region1'] + \" \"+carrotIphone['region2']\n",
    "\n",
    "carrotIphone = carrotIphone.drop(['regiontemp','region1', 'region2'], axis=1)\n",
    "carrotIphone\n"
   ],
   "metadata": {
    "collapsed": false,
    "pycharm": {
     "name": "#%%\n"
    }
   }
  },
  {
   "cell_type": "code",
   "execution_count": 43,
   "outputs": [
    {
     "name": "stdout",
     "output_type": "stream",
     "text": [
      "<class 'pandas.core.frame.DataFrame'>\n",
      "Int64Index: 3416 entries, 0 to 3415\n",
      "Data columns (total 3 columns):\n",
      " #   Column  Non-Null Count  Dtype \n",
      "---  ------  --------------  ----- \n",
      " 0   title   3416 non-null   object\n",
      " 1   price   3416 non-null   object\n",
      " 2   region  3416 non-null   object\n",
      "dtypes: object(3)\n",
      "memory usage: 106.8+ KB\n"
     ]
    }
   ],
   "source": [
    "carrotGal.info()"
   ],
   "metadata": {
    "collapsed": false,
    "pycharm": {
     "name": "#%%\n"
    }
   }
  },
  {
   "cell_type": "code",
   "execution_count": 44,
   "outputs": [
    {
     "name": "stderr",
     "output_type": "stream",
     "text": [
      "C:\\Users\\ljg98\\AppData\\Local\\Temp\\ipykernel_1908\\597123328.py:22: UserWarning: Pandas doesn't allow columns to be created via a new attribute name - see https://pandas.pydata.org/pandas-docs/stable/indexing.html#attribute-access\n",
      "  carrotIphone.title = carrotGal['title'].str.replace('프로','pro')\n",
      "C:\\Users\\ljg98\\AppData\\Local\\Temp\\ipykernel_1908\\597123328.py:63: FutureWarning: The default value of regex will change from True to False in a future version. In addition, single character regular expressions will *not* be treated as literal strings when regex=True.\n",
      "  carrotGal.title = carrotGal['title'].str.replace('+','plus')\n"
     ]
    }
   ],
   "source": [
    "#Galaxy전처리\n",
    "carrotGal.title = carrotGal['title'].str.replace(' ','')\n",
    "carrotGal.title = carrotGal['title'].str.replace('-','')\n",
    "\n",
    "\n",
    "carrotGal.title = carrotGal['title'].str.replace('갤럭시','갤럭시s')\n",
    "carrotGal.title = carrotGal['title'].str.replace('겔럭시','갤럭시s')\n",
    "carrotGal.title = carrotGal['title'].str.replace('galaxy','갤럭시s')\n",
    "carrotGal.title = carrotGal['title'].str.replace('Galaxy','갤럭시s')\n",
    "carrotGal.title = carrotGal['title'].str.replace('GALAXY','갤럭시s')\n",
    "\n",
    "carrotGal.title = carrotGal['title'].str.replace('Z','z')\n",
    "carrotGal.title = carrotGal['title'].str.replace('A','a')\n",
    "carrotGal.title = carrotGal['title'].str.replace('S','s')\n",
    "carrotGal.title = carrotGal['title'].str.replace('X','x')\n",
    "carrotGal.title = carrotGal['title'].str.replace('엑스','x')\n",
    "carrotGal.title = carrotGal['title'].str.replace('F','f')\n",
    "carrotGal.title = carrotGal['title'].str.replace('E','e')\n",
    "carrotGal.title = carrotGal['title'].str.replace('J','j')\n",
    "carrotGal.title = carrotGal['title'].str.replace('M','m')\n",
    "\n",
    "carrotIphone.title = carrotGal['title'].str.replace('프로','pro')\n",
    "carrotIphone.title = carrotGal['title'].str.replace('Pro','pro')\n",
    "carrotIphone.title = carrotGal['title'].str.replace('PRO','pro')\n",
    "\n",
    "carrotGal.title = carrotGal['title'].str.replace('와이드','Wide')\n",
    "carrotGal.title = carrotGal['title'].str.replace('WIDE','Wide')\n",
    "carrotGal.title = carrotGal['title'].str.replace('WIDe','Wide')\n",
    "carrotGal.title = carrotGal['title'].str.replace('wide','Wide')\n",
    "\n",
    "\n",
    "carrotGal.title = carrotGal['title'].str.replace('폴드','fold')\n",
    "carrotGal.title = carrotGal['title'].str.replace('Fold','fold')\n",
    "carrotGal.title = carrotGal['title'].str.replace('FOLD','fold')\n",
    "carrotGal.title = carrotGal['title'].str.replace('폴더','fold')\n",
    "\n",
    "carrotGal.title = carrotGal['title'].str.replace('플립','flip')\n",
    "carrotGal.title = carrotGal['title'].str.replace('Flip','flip')\n",
    "carrotGal.title = carrotGal['title'].str.replace('FLIP','flip')\n",
    "\n",
    "carrotGal.title = carrotGal['title'].str.replace('Cover','cover')\n",
    "carrotGal.title = carrotGal['title'].str.replace('COVeR','cover')\n",
    "carrotGal.title = carrotGal['title'].str.replace('커버','cover')\n",
    "carrotGal.title = carrotGal['title'].str.replace('COVER','cover')\n",
    "\n",
    "carrotGal.title = carrotGal['title'].str.replace('그랜드','GrandMax')\n",
    "carrotGal.title = carrotGal['title'].str.replace('그렌드','GrandMax')\n",
    "\n",
    "carrotGal.title = carrotGal['title'].str.replace('울트라','GrandMax')\n",
    "\n",
    "\n",
    "\n",
    "carrotGal.title = carrotGal['title'].str.replace('퀀텀','Quantum')\n",
    "carrotGal.title = carrotGal['title'].str.replace('퀸텀','Quantum')\n",
    "carrotGal.title = carrotGal['title'].str.replace('버디','Buddy')\n",
    "carrotGal.title = carrotGal['title'].str.replace('점프','Jump')\n",
    "\n",
    "carrotGal.title = carrotGal['title'].str.replace('노트','Note')\n",
    "carrotGal.title = carrotGal['title'].str.replace('NOTE','Note')\n",
    "carrotGal.title = carrotGal['title'].str.replace('note','Note')\n",
    "\n",
    "carrotGal.title = carrotGal['title'].str.replace('플러스','plus')\n",
    "carrotGal.title = carrotGal['title'].str.replace('+','plus')\n",
    "carrotGal.title = carrotGal['title'].str.replace('Plus','plus')\n",
    "carrotGal.title = carrotGal['title'].str.replace('PLUS','plus')"
   ],
   "metadata": {
    "collapsed": false,
    "pycharm": {
     "name": "#%%\n"
    }
   }
  },
  {
   "cell_type": "code",
   "execution_count": 45,
   "outputs": [
    {
     "name": "stdout",
     "output_type": "stream",
     "text": [
      "<class 'pandas.core.frame.DataFrame'>\n",
      "RangeIndex: 1954 entries, 0 to 1953\n",
      "Data columns (total 3 columns):\n",
      " #   Column  Non-Null Count  Dtype \n",
      "---  ------  --------------  ----- \n",
      " 0   title   1954 non-null   object\n",
      " 1   price   1954 non-null   object\n",
      " 2   region  1954 non-null   object\n",
      "dtypes: object(3)\n",
      "memory usage: 45.9+ KB\n"
     ]
    }
   ],
   "source": [
    "NotPhone = carrotGal[carrotGal['title'].str.contains('Tab|와치|watch|Watch|기어|태블릿|테블릿|탭|텝|버즈|워치|북')].index\n",
    "carrotGal.drop(NotPhone,inplace=True)\n",
    "carrotGal = carrotGal.reset_index()\n",
    "carrotGal = carrotGal.drop('index',axis=1)\n",
    "carrotGal.info()"
   ],
   "metadata": {
    "collapsed": false,
    "pycharm": {
     "name": "#%%\n"
    }
   }
  },
  {
   "cell_type": "code",
   "execution_count": 45,
   "outputs": [],
   "source": [],
   "metadata": {
    "collapsed": false,
    "pycharm": {
     "name": "#%%\n"
    }
   }
  },
  {
   "cell_type": "code",
   "execution_count": 46,
   "outputs": [],
   "source": [
    "carrotGal.price=priceS2I(carrotGal,'price')\n"
   ],
   "metadata": {
    "collapsed": false,
    "pycharm": {
     "name": "#%%\n"
    }
   }
  },
  {
   "cell_type": "code",
   "execution_count": 47,
   "outputs": [
    {
     "data": {
      "text/plain": "                                                  title    price  \\\n0     갤럭시ss22GrandMax512GB화이트자급제판매해요.갤럭시ss22GrandMax...  1000000   \n1                                  갤럭시son7갤럭시sa9pro폰2대팜    60000   \n2                                 갤럭시sgtx9704g그래픽카드갤럭시s   100000   \n3                               갤럭시sa905G(갤럭시s)128GB팔아요   110000   \n4                           Kt갤럭시s21plus256G/갤럭시s21plus   450000   \n...                                                 ...      ...   \n1755                                       갤럭시sBuddya22   150000   \n1756                             갤럭시szflip3라벤더256G특가!!!   509000   \n1757                                 갤럭시ss22256기가올수리단말기   630000   \n1758                                갤럭시sfold3올수리s급판매합니다   980000   \n1759                                       갤럭시sQuantum2   250000   \n\n                region  \n0          경기도 파주시 목동동  \n1          강원도 속초시 조양동  \n2         부산 수영구 광안제1동  \n3     경기도 수원시 영통구 매탄2동  \n4          강원도 춘천시 근화동  \n...                ...  \n1755    충남 천안시 서북구 성정동  \n1756     서울 동대문구 휘경제1동  \n1757         대전 서구 도마동  \n1758     서울 동대문구 장안제1동  \n1759       대전 유성구 노은1동  \n\n[1760 rows x 3 columns]",
      "text/html": "<div>\n<style scoped>\n    .dataframe tbody tr th:only-of-type {\n        vertical-align: middle;\n    }\n\n    .dataframe tbody tr th {\n        vertical-align: top;\n    }\n\n    .dataframe thead th {\n        text-align: right;\n    }\n</style>\n<table border=\"1\" class=\"dataframe\">\n  <thead>\n    <tr style=\"text-align: right;\">\n      <th></th>\n      <th>title</th>\n      <th>price</th>\n      <th>region</th>\n    </tr>\n  </thead>\n  <tbody>\n    <tr>\n      <th>0</th>\n      <td>갤럭시ss22GrandMax512GB화이트자급제판매해요.갤럭시ss22GrandMax...</td>\n      <td>1000000</td>\n      <td>경기도 파주시 목동동</td>\n    </tr>\n    <tr>\n      <th>1</th>\n      <td>갤럭시son7갤럭시sa9pro폰2대팜</td>\n      <td>60000</td>\n      <td>강원도 속초시 조양동</td>\n    </tr>\n    <tr>\n      <th>2</th>\n      <td>갤럭시sgtx9704g그래픽카드갤럭시s</td>\n      <td>100000</td>\n      <td>부산 수영구 광안제1동</td>\n    </tr>\n    <tr>\n      <th>3</th>\n      <td>갤럭시sa905G(갤럭시s)128GB팔아요</td>\n      <td>110000</td>\n      <td>경기도 수원시 영통구 매탄2동</td>\n    </tr>\n    <tr>\n      <th>4</th>\n      <td>Kt갤럭시s21plus256G/갤럭시s21plus</td>\n      <td>450000</td>\n      <td>강원도 춘천시 근화동</td>\n    </tr>\n    <tr>\n      <th>...</th>\n      <td>...</td>\n      <td>...</td>\n      <td>...</td>\n    </tr>\n    <tr>\n      <th>1755</th>\n      <td>갤럭시sBuddya22</td>\n      <td>150000</td>\n      <td>충남 천안시 서북구 성정동</td>\n    </tr>\n    <tr>\n      <th>1756</th>\n      <td>갤럭시szflip3라벤더256G특가!!!</td>\n      <td>509000</td>\n      <td>서울 동대문구 휘경제1동</td>\n    </tr>\n    <tr>\n      <th>1757</th>\n      <td>갤럭시ss22256기가올수리단말기</td>\n      <td>630000</td>\n      <td>대전 서구 도마동</td>\n    </tr>\n    <tr>\n      <th>1758</th>\n      <td>갤럭시sfold3올수리s급판매합니다</td>\n      <td>980000</td>\n      <td>서울 동대문구 장안제1동</td>\n    </tr>\n    <tr>\n      <th>1759</th>\n      <td>갤럭시sQuantum2</td>\n      <td>250000</td>\n      <td>대전 유성구 노은1동</td>\n    </tr>\n  </tbody>\n</table>\n<p>1760 rows × 3 columns</p>\n</div>"
     },
     "execution_count": 47,
     "metadata": {},
     "output_type": "execute_result"
    }
   ],
   "source": [
    "errorPriceG = carrotGal[carrotGal.price < 30000].index\n",
    "carrotGal.drop(errorPriceG,inplace=True)\n",
    "carrotGal = carrotGal.reset_index()\n",
    "carrotGal = carrotGal.drop('index',axis=1)\n",
    "carrotGal"
   ],
   "metadata": {
    "collapsed": false,
    "pycharm": {
     "name": "#%%\n"
    }
   }
  },
  {
   "cell_type": "code",
   "execution_count": 48,
   "outputs": [],
   "source": [
    "productlistG = [ 'on7','GrandMax','m12','Wide4','Wide5','Wide3','Quantum3', 'Buddy2','Jump2','s22', 's21fe','s21', 's20fe','s20', 's10', 's9', 's8', 's7', 's6', 's5', 'a04', 'a13', 'a13|Wide6', 'a23', 'a33', 'a53', 'a73', 'a02', 'a12', 'a22|Buddy', 'a32|Jump', 'a42', 'a52', 'a72', 'a01', 'a11', 'a21', 'a31', 'a41', 'a51', 'a71|Quantum', 'xcover5|xcover','zfold4|fold4','zfold3|fold3','zfold2|fold2','fold', 'zflip4|flip4','zflip3|flip3','zflip|flip', 'j8', 'j7|Wide2', 'j6', 'j5', 'j4', 'j3', 'j2', 'a10', 'a20', 'a30', 'a40', 'a50', 'a60', 'a70', 'a80', 'a90', 'Note20', 'Note10', 'Note9', 'Note8', 'Note7', 'Notefe', 'Note5', 'Note4', 'Note3', 'Note2','a9pro|a8s', 'a9', 'a8', 'a7','a6', 'a5']"
   ],
   "metadata": {
    "collapsed": false,
    "pycharm": {
     "name": "#%%\n"
    }
   }
  },
  {
   "cell_type": "code",
   "execution_count": 49,
   "outputs": [
    {
     "name": "stdout",
     "output_type": "stream",
     "text": [
      "<class 'pandas.core.frame.DataFrame'>\n",
      "RangeIndex: 1760 entries, 0 to 1759\n",
      "Data columns (total 3 columns):\n",
      " #   Column  Non-Null Count  Dtype \n",
      "---  ------  --------------  ----- \n",
      " 0   title   1760 non-null   object\n",
      " 1   price   1760 non-null   object\n",
      " 2   region  1760 non-null   object\n",
      "dtypes: object(3)\n",
      "memory usage: 41.4+ KB\n"
     ]
    }
   ],
   "source": [
    "carrotGal.info()"
   ],
   "metadata": {
    "collapsed": false,
    "pycharm": {
     "name": "#%%\n"
    }
   }
  },
  {
   "cell_type": "code",
   "execution_count": 50,
   "outputs": [
    {
     "data": {
      "text/plain": "       pName\n0        on7\n1   GrandMax\n2        m12\n3      Wide4\n4      Wide5\n..       ...\n76        a9\n77        a8\n78        a7\n79        a6\n80        a5\n\n[81 rows x 1 columns]",
      "text/html": "<div>\n<style scoped>\n    .dataframe tbody tr th:only-of-type {\n        vertical-align: middle;\n    }\n\n    .dataframe tbody tr th {\n        vertical-align: top;\n    }\n\n    .dataframe thead th {\n        text-align: right;\n    }\n</style>\n<table border=\"1\" class=\"dataframe\">\n  <thead>\n    <tr style=\"text-align: right;\">\n      <th></th>\n      <th>pName</th>\n    </tr>\n  </thead>\n  <tbody>\n    <tr>\n      <th>0</th>\n      <td>on7</td>\n    </tr>\n    <tr>\n      <th>1</th>\n      <td>GrandMax</td>\n    </tr>\n    <tr>\n      <th>2</th>\n      <td>m12</td>\n    </tr>\n    <tr>\n      <th>3</th>\n      <td>Wide4</td>\n    </tr>\n    <tr>\n      <th>4</th>\n      <td>Wide5</td>\n    </tr>\n    <tr>\n      <th>...</th>\n      <td>...</td>\n    </tr>\n    <tr>\n      <th>76</th>\n      <td>a9</td>\n    </tr>\n    <tr>\n      <th>77</th>\n      <td>a8</td>\n    </tr>\n    <tr>\n      <th>78</th>\n      <td>a7</td>\n    </tr>\n    <tr>\n      <th>79</th>\n      <td>a6</td>\n    </tr>\n    <tr>\n      <th>80</th>\n      <td>a5</td>\n    </tr>\n  </tbody>\n</table>\n<p>81 rows × 1 columns</p>\n</div>"
     },
     "execution_count": 50,
     "metadata": {},
     "output_type": "execute_result"
    }
   ],
   "source": [
    "carrotGal = changeTitle(carrotGal,productlistG)\n",
    "galList = pd.DataFrame(productlistG, columns=['pName'])\n",
    "galList"
   ],
   "metadata": {
    "collapsed": false,
    "pycharm": {
     "name": "#%%\n"
    }
   }
  },
  {
   "cell_type": "code",
   "execution_count": 51,
   "outputs": [],
   "source": [
    "newproductlistG=[]\n",
    "countG = []\n",
    "g=1\n",
    "for pg in productlistG:\n",
    "    countG.append(g+i-1)\n",
    "    newproductlistG.append(pg.upper())\n",
    "    g=g+1\n"
   ],
   "metadata": {
    "collapsed": false,
    "pycharm": {
     "name": "#%%\n"
    }
   }
  },
  {
   "cell_type": "code",
   "execution_count": 52,
   "outputs": [
    {
     "name": "stdout",
     "output_type": "stream",
     "text": [
      "<class 'pandas.core.frame.DataFrame'>\n",
      "RangeIndex: 1760 entries, 0 to 1759\n",
      "Data columns (total 3 columns):\n",
      " #   Column  Non-Null Count  Dtype \n",
      "---  ------  --------------  ----- \n",
      " 0   title   1760 non-null   object\n",
      " 1   price   1760 non-null   object\n",
      " 2   region  1760 non-null   object\n",
      "dtypes: object(3)\n",
      "memory usage: 41.4+ KB\n"
     ]
    }
   ],
   "source": [
    "carrotGal = changeTitle(carrotGal,productlistG)\n",
    "GalList = pd.DataFrame([ x for x in zip(newproductlistG,countG)], columns=['pName', 'pNum'])\n",
    "carrotGal.info()"
   ],
   "metadata": {
    "collapsed": false,
    "pycharm": {
     "name": "#%%\n"
    }
   }
  },
  {
   "cell_type": "code",
   "execution_count": 53,
   "outputs": [
    {
     "data": {
      "text/plain": "           pName  pNum\n0    아이폰14PROMAX     1\n1       아이폰14PRO     2\n2         아이폰14+     3\n3          아이폰14     4\n4         아이폰SE3     5\n..           ...   ...\n109           A9   110\n110           A8   111\n111           A7   112\n112           A6   113\n113           A5   114\n\n[114 rows x 2 columns]",
      "text/html": "<div>\n<style scoped>\n    .dataframe tbody tr th:only-of-type {\n        vertical-align: middle;\n    }\n\n    .dataframe tbody tr th {\n        vertical-align: top;\n    }\n\n    .dataframe thead th {\n        text-align: right;\n    }\n</style>\n<table border=\"1\" class=\"dataframe\">\n  <thead>\n    <tr style=\"text-align: right;\">\n      <th></th>\n      <th>pName</th>\n      <th>pNum</th>\n    </tr>\n  </thead>\n  <tbody>\n    <tr>\n      <th>0</th>\n      <td>아이폰14PROMAX</td>\n      <td>1</td>\n    </tr>\n    <tr>\n      <th>1</th>\n      <td>아이폰14PRO</td>\n      <td>2</td>\n    </tr>\n    <tr>\n      <th>2</th>\n      <td>아이폰14+</td>\n      <td>3</td>\n    </tr>\n    <tr>\n      <th>3</th>\n      <td>아이폰14</td>\n      <td>4</td>\n    </tr>\n    <tr>\n      <th>4</th>\n      <td>아이폰SE3</td>\n      <td>5</td>\n    </tr>\n    <tr>\n      <th>...</th>\n      <td>...</td>\n      <td>...</td>\n    </tr>\n    <tr>\n      <th>109</th>\n      <td>A9</td>\n      <td>110</td>\n    </tr>\n    <tr>\n      <th>110</th>\n      <td>A8</td>\n      <td>111</td>\n    </tr>\n    <tr>\n      <th>111</th>\n      <td>A7</td>\n      <td>112</td>\n    </tr>\n    <tr>\n      <th>112</th>\n      <td>A6</td>\n      <td>113</td>\n    </tr>\n    <tr>\n      <th>113</th>\n      <td>A5</td>\n      <td>114</td>\n    </tr>\n  </tbody>\n</table>\n<p>114 rows × 2 columns</p>\n</div>"
     },
     "execution_count": 53,
     "metadata": {},
     "output_type": "execute_result"
    }
   ],
   "source": [
    "ProductList = pd.concat([iphoneList,GalList],axis=0, ignore_index=True)\n",
    "ProductList"
   ],
   "metadata": {
    "collapsed": false,
    "pycharm": {
     "name": "#%%\n"
    }
   }
  },
  {
   "cell_type": "code",
   "execution_count": 54,
   "outputs": [
    {
     "data": {
      "text/plain": "      pNum    price   region\n0       35  1000000  경기도 파주시\n1       35   390000   서울 마포구\n2       35   850000   서울 강남구\n3       35   440000  경기도 화성시\n4       35   650000  부산 해운대구\n...    ...      ...      ...\n1632    91   100000  경기도 화성시\n1633   114    50000  경기도 화성시\n1634   106    30000  창원시 진해구\n1635    90    70000   경북 구미시\n1636    90    70000   경북 구미시\n\n[1637 rows x 3 columns]",
      "text/html": "<div>\n<style scoped>\n    .dataframe tbody tr th:only-of-type {\n        vertical-align: middle;\n    }\n\n    .dataframe tbody tr th {\n        vertical-align: top;\n    }\n\n    .dataframe thead th {\n        text-align: right;\n    }\n</style>\n<table border=\"1\" class=\"dataframe\">\n  <thead>\n    <tr style=\"text-align: right;\">\n      <th></th>\n      <th>pNum</th>\n      <th>price</th>\n      <th>region</th>\n    </tr>\n  </thead>\n  <tbody>\n    <tr>\n      <th>0</th>\n      <td>35</td>\n      <td>1000000</td>\n      <td>경기도 파주시</td>\n    </tr>\n    <tr>\n      <th>1</th>\n      <td>35</td>\n      <td>390000</td>\n      <td>서울 마포구</td>\n    </tr>\n    <tr>\n      <th>2</th>\n      <td>35</td>\n      <td>850000</td>\n      <td>서울 강남구</td>\n    </tr>\n    <tr>\n      <th>3</th>\n      <td>35</td>\n      <td>440000</td>\n      <td>경기도 화성시</td>\n    </tr>\n    <tr>\n      <th>4</th>\n      <td>35</td>\n      <td>650000</td>\n      <td>부산 해운대구</td>\n    </tr>\n    <tr>\n      <th>...</th>\n      <td>...</td>\n      <td>...</td>\n      <td>...</td>\n    </tr>\n    <tr>\n      <th>1632</th>\n      <td>91</td>\n      <td>100000</td>\n      <td>경기도 화성시</td>\n    </tr>\n    <tr>\n      <th>1633</th>\n      <td>114</td>\n      <td>50000</td>\n      <td>경기도 화성시</td>\n    </tr>\n    <tr>\n      <th>1634</th>\n      <td>106</td>\n      <td>30000</td>\n      <td>창원시 진해구</td>\n    </tr>\n    <tr>\n      <th>1635</th>\n      <td>90</td>\n      <td>70000</td>\n      <td>경북 구미시</td>\n    </tr>\n    <tr>\n      <th>1636</th>\n      <td>90</td>\n      <td>70000</td>\n      <td>경북 구미시</td>\n    </tr>\n  </tbody>\n</table>\n<p>1637 rows × 3 columns</p>\n</div>"
     },
     "execution_count": 54,
     "metadata": {},
     "output_type": "execute_result"
    }
   ],
   "source": [
    "carrotGal = pd.merge(carrotGal, ProductList, left_on='title', right_on='pName', how='inner')\n",
    "carrotGal = carrotGal.drop(['title', 'pName'], axis=1)\n",
    "carrotGal = carrotGal[['pNum', 'price', 'region']]\n",
    "carrotGal['regiontemp'] = carrotGal['region'] + \" \" + carrotGal['region']\n",
    "carrotGal = carrotGal.drop(['region'], axis=1)\n",
    "carrotGal['region1'] = carrotGal.regiontemp.str.split(' ').str[-3]\n",
    "carrotGal['region2'] = carrotGal.regiontemp.str.split(' ').str[-2]\n",
    "carrotGal['region'] = carrotGal['region1'] + \" \"+carrotGal['region2']\n",
    "\n",
    "carrotGal = carrotGal.drop(['regiontemp','region1', 'region2'], axis=1)\n",
    "\n",
    "carrotGal"
   ],
   "metadata": {
    "collapsed": false,
    "pycharm": {
     "name": "#%%\n"
    }
   }
  },
  {
   "cell_type": "code",
   "execution_count": 55,
   "outputs": [
    {
     "name": "stdout",
     "output_type": "stream",
     "text": [
      "<class 'pandas.core.frame.DataFrame'>\n",
      "RangeIndex: 8859 entries, 0 to 8858\n",
      "Data columns (total 3 columns):\n",
      " #   Column  Non-Null Count  Dtype \n",
      "---  ------  --------------  ----- \n",
      " 0   pNum    8859 non-null   int64 \n",
      " 1   price   8859 non-null   object\n",
      " 2   region  8859 non-null   object\n",
      "dtypes: int64(1), object(2)\n",
      "memory usage: 207.8+ KB\n"
     ]
    }
   ],
   "source": [
    "carrot = pd.concat([carrotIphone,carrotGal],axis=0, ignore_index=True)\n",
    "carrot.info()"
   ],
   "metadata": {
    "collapsed": false,
    "pycharm": {
     "name": "#%%\n"
    }
   }
  },
  {
   "cell_type": "code",
   "execution_count": 56,
   "outputs": [],
   "source": [
    "region = pd.DataFrame(columns=['region'])"
   ],
   "metadata": {
    "collapsed": false,
    "pycharm": {
     "name": "#%%\n"
    }
   }
  },
  {
   "cell_type": "code",
   "execution_count": 57,
   "outputs": [
    {
     "name": "stderr",
     "output_type": "stream",
     "text": [
      "C:\\Users\\ljg98\\AppData\\Local\\Temp\\ipykernel_1908\\2884178923.py:8: FutureWarning: The frame.append method is deprecated and will be removed from pandas in a future version. Use pandas.concat instead.\n",
      "  region = region.append(new_data, ignore_index=True)\n",
      "C:\\Users\\ljg98\\AppData\\Local\\Temp\\ipykernel_1908\\2884178923.py:8: FutureWarning: The frame.append method is deprecated and will be removed from pandas in a future version. Use pandas.concat instead.\n",
      "  region = region.append(new_data, ignore_index=True)\n",
      "C:\\Users\\ljg98\\AppData\\Local\\Temp\\ipykernel_1908\\2884178923.py:8: FutureWarning: The frame.append method is deprecated and will be removed from pandas in a future version. Use pandas.concat instead.\n",
      "  region = region.append(new_data, ignore_index=True)\n",
      "C:\\Users\\ljg98\\AppData\\Local\\Temp\\ipykernel_1908\\2884178923.py:8: FutureWarning: The frame.append method is deprecated and will be removed from pandas in a future version. Use pandas.concat instead.\n",
      "  region = region.append(new_data, ignore_index=True)\n",
      "C:\\Users\\ljg98\\AppData\\Local\\Temp\\ipykernel_1908\\2884178923.py:8: FutureWarning: The frame.append method is deprecated and will be removed from pandas in a future version. Use pandas.concat instead.\n",
      "  region = region.append(new_data, ignore_index=True)\n",
      "C:\\Users\\ljg98\\AppData\\Local\\Temp\\ipykernel_1908\\2884178923.py:8: FutureWarning: The frame.append method is deprecated and will be removed from pandas in a future version. Use pandas.concat instead.\n",
      "  region = region.append(new_data, ignore_index=True)\n",
      "C:\\Users\\ljg98\\AppData\\Local\\Temp\\ipykernel_1908\\2884178923.py:8: FutureWarning: The frame.append method is deprecated and will be removed from pandas in a future version. Use pandas.concat instead.\n",
      "  region = region.append(new_data, ignore_index=True)\n",
      "C:\\Users\\ljg98\\AppData\\Local\\Temp\\ipykernel_1908\\2884178923.py:8: FutureWarning: The frame.append method is deprecated and will be removed from pandas in a future version. Use pandas.concat instead.\n",
      "  region = region.append(new_data, ignore_index=True)\n",
      "C:\\Users\\ljg98\\AppData\\Local\\Temp\\ipykernel_1908\\2884178923.py:8: FutureWarning: The frame.append method is deprecated and will be removed from pandas in a future version. Use pandas.concat instead.\n",
      "  region = region.append(new_data, ignore_index=True)\n",
      "C:\\Users\\ljg98\\AppData\\Local\\Temp\\ipykernel_1908\\2884178923.py:8: FutureWarning: The frame.append method is deprecated and will be removed from pandas in a future version. Use pandas.concat instead.\n",
      "  region = region.append(new_data, ignore_index=True)\n",
      "C:\\Users\\ljg98\\AppData\\Local\\Temp\\ipykernel_1908\\2884178923.py:8: FutureWarning: The frame.append method is deprecated and will be removed from pandas in a future version. Use pandas.concat instead.\n",
      "  region = region.append(new_data, ignore_index=True)\n",
      "C:\\Users\\ljg98\\AppData\\Local\\Temp\\ipykernel_1908\\2884178923.py:8: FutureWarning: The frame.append method is deprecated and will be removed from pandas in a future version. Use pandas.concat instead.\n",
      "  region = region.append(new_data, ignore_index=True)\n",
      "C:\\Users\\ljg98\\AppData\\Local\\Temp\\ipykernel_1908\\2884178923.py:8: FutureWarning: The frame.append method is deprecated and will be removed from pandas in a future version. Use pandas.concat instead.\n",
      "  region = region.append(new_data, ignore_index=True)\n",
      "C:\\Users\\ljg98\\AppData\\Local\\Temp\\ipykernel_1908\\2884178923.py:8: FutureWarning: The frame.append method is deprecated and will be removed from pandas in a future version. Use pandas.concat instead.\n",
      "  region = region.append(new_data, ignore_index=True)\n",
      "C:\\Users\\ljg98\\AppData\\Local\\Temp\\ipykernel_1908\\2884178923.py:8: FutureWarning: The frame.append method is deprecated and will be removed from pandas in a future version. Use pandas.concat instead.\n",
      "  region = region.append(new_data, ignore_index=True)\n",
      "C:\\Users\\ljg98\\AppData\\Local\\Temp\\ipykernel_1908\\2884178923.py:8: FutureWarning: The frame.append method is deprecated and will be removed from pandas in a future version. Use pandas.concat instead.\n",
      "  region = region.append(new_data, ignore_index=True)\n",
      "C:\\Users\\ljg98\\AppData\\Local\\Temp\\ipykernel_1908\\2884178923.py:8: FutureWarning: The frame.append method is deprecated and will be removed from pandas in a future version. Use pandas.concat instead.\n",
      "  region = region.append(new_data, ignore_index=True)\n",
      "C:\\Users\\ljg98\\AppData\\Local\\Temp\\ipykernel_1908\\2884178923.py:8: FutureWarning: The frame.append method is deprecated and will be removed from pandas in a future version. Use pandas.concat instead.\n",
      "  region = region.append(new_data, ignore_index=True)\n",
      "C:\\Users\\ljg98\\AppData\\Local\\Temp\\ipykernel_1908\\2884178923.py:8: FutureWarning: The frame.append method is deprecated and will be removed from pandas in a future version. Use pandas.concat instead.\n",
      "  region = region.append(new_data, ignore_index=True)\n",
      "C:\\Users\\ljg98\\AppData\\Local\\Temp\\ipykernel_1908\\2884178923.py:8: FutureWarning: The frame.append method is deprecated and will be removed from pandas in a future version. Use pandas.concat instead.\n",
      "  region = region.append(new_data, ignore_index=True)\n",
      "C:\\Users\\ljg98\\AppData\\Local\\Temp\\ipykernel_1908\\2884178923.py:8: FutureWarning: The frame.append method is deprecated and will be removed from pandas in a future version. Use pandas.concat instead.\n",
      "  region = region.append(new_data, ignore_index=True)\n",
      "C:\\Users\\ljg98\\AppData\\Local\\Temp\\ipykernel_1908\\2884178923.py:8: FutureWarning: The frame.append method is deprecated and will be removed from pandas in a future version. Use pandas.concat instead.\n",
      "  region = region.append(new_data, ignore_index=True)\n",
      "C:\\Users\\ljg98\\AppData\\Local\\Temp\\ipykernel_1908\\2884178923.py:8: FutureWarning: The frame.append method is deprecated and will be removed from pandas in a future version. Use pandas.concat instead.\n",
      "  region = region.append(new_data, ignore_index=True)\n",
      "C:\\Users\\ljg98\\AppData\\Local\\Temp\\ipykernel_1908\\2884178923.py:8: FutureWarning: The frame.append method is deprecated and will be removed from pandas in a future version. Use pandas.concat instead.\n",
      "  region = region.append(new_data, ignore_index=True)\n",
      "C:\\Users\\ljg98\\AppData\\Local\\Temp\\ipykernel_1908\\2884178923.py:8: FutureWarning: The frame.append method is deprecated and will be removed from pandas in a future version. Use pandas.concat instead.\n",
      "  region = region.append(new_data, ignore_index=True)\n",
      "C:\\Users\\ljg98\\AppData\\Local\\Temp\\ipykernel_1908\\2884178923.py:8: FutureWarning: The frame.append method is deprecated and will be removed from pandas in a future version. Use pandas.concat instead.\n",
      "  region = region.append(new_data, ignore_index=True)\n",
      "C:\\Users\\ljg98\\AppData\\Local\\Temp\\ipykernel_1908\\2884178923.py:8: FutureWarning: The frame.append method is deprecated and will be removed from pandas in a future version. Use pandas.concat instead.\n",
      "  region = region.append(new_data, ignore_index=True)\n",
      "C:\\Users\\ljg98\\AppData\\Local\\Temp\\ipykernel_1908\\2884178923.py:8: FutureWarning: The frame.append method is deprecated and will be removed from pandas in a future version. Use pandas.concat instead.\n",
      "  region = region.append(new_data, ignore_index=True)\n",
      "C:\\Users\\ljg98\\AppData\\Local\\Temp\\ipykernel_1908\\2884178923.py:8: FutureWarning: The frame.append method is deprecated and will be removed from pandas in a future version. Use pandas.concat instead.\n",
      "  region = region.append(new_data, ignore_index=True)\n",
      "C:\\Users\\ljg98\\AppData\\Local\\Temp\\ipykernel_1908\\2884178923.py:8: FutureWarning: The frame.append method is deprecated and will be removed from pandas in a future version. Use pandas.concat instead.\n",
      "  region = region.append(new_data, ignore_index=True)\n",
      "C:\\Users\\ljg98\\AppData\\Local\\Temp\\ipykernel_1908\\2884178923.py:8: FutureWarning: The frame.append method is deprecated and will be removed from pandas in a future version. Use pandas.concat instead.\n",
      "  region = region.append(new_data, ignore_index=True)\n",
      "C:\\Users\\ljg98\\AppData\\Local\\Temp\\ipykernel_1908\\2884178923.py:8: FutureWarning: The frame.append method is deprecated and will be removed from pandas in a future version. Use pandas.concat instead.\n",
      "  region = region.append(new_data, ignore_index=True)\n",
      "C:\\Users\\ljg98\\AppData\\Local\\Temp\\ipykernel_1908\\2884178923.py:8: FutureWarning: The frame.append method is deprecated and will be removed from pandas in a future version. Use pandas.concat instead.\n",
      "  region = region.append(new_data, ignore_index=True)\n",
      "C:\\Users\\ljg98\\AppData\\Local\\Temp\\ipykernel_1908\\2884178923.py:8: FutureWarning: The frame.append method is deprecated and will be removed from pandas in a future version. Use pandas.concat instead.\n",
      "  region = region.append(new_data, ignore_index=True)\n",
      "C:\\Users\\ljg98\\AppData\\Local\\Temp\\ipykernel_1908\\2884178923.py:8: FutureWarning: The frame.append method is deprecated and will be removed from pandas in a future version. Use pandas.concat instead.\n",
      "  region = region.append(new_data, ignore_index=True)\n",
      "C:\\Users\\ljg98\\AppData\\Local\\Temp\\ipykernel_1908\\2884178923.py:8: FutureWarning: The frame.append method is deprecated and will be removed from pandas in a future version. Use pandas.concat instead.\n",
      "  region = region.append(new_data, ignore_index=True)\n",
      "C:\\Users\\ljg98\\AppData\\Local\\Temp\\ipykernel_1908\\2884178923.py:8: FutureWarning: The frame.append method is deprecated and will be removed from pandas in a future version. Use pandas.concat instead.\n",
      "  region = region.append(new_data, ignore_index=True)\n",
      "C:\\Users\\ljg98\\AppData\\Local\\Temp\\ipykernel_1908\\2884178923.py:8: FutureWarning: The frame.append method is deprecated and will be removed from pandas in a future version. Use pandas.concat instead.\n",
      "  region = region.append(new_data, ignore_index=True)\n",
      "C:\\Users\\ljg98\\AppData\\Local\\Temp\\ipykernel_1908\\2884178923.py:8: FutureWarning: The frame.append method is deprecated and will be removed from pandas in a future version. Use pandas.concat instead.\n",
      "  region = region.append(new_data, ignore_index=True)\n",
      "C:\\Users\\ljg98\\AppData\\Local\\Temp\\ipykernel_1908\\2884178923.py:8: FutureWarning: The frame.append method is deprecated and will be removed from pandas in a future version. Use pandas.concat instead.\n",
      "  region = region.append(new_data, ignore_index=True)\n",
      "C:\\Users\\ljg98\\AppData\\Local\\Temp\\ipykernel_1908\\2884178923.py:8: FutureWarning: The frame.append method is deprecated and will be removed from pandas in a future version. Use pandas.concat instead.\n",
      "  region = region.append(new_data, ignore_index=True)\n",
      "C:\\Users\\ljg98\\AppData\\Local\\Temp\\ipykernel_1908\\2884178923.py:8: FutureWarning: The frame.append method is deprecated and will be removed from pandas in a future version. Use pandas.concat instead.\n",
      "  region = region.append(new_data, ignore_index=True)\n",
      "C:\\Users\\ljg98\\AppData\\Local\\Temp\\ipykernel_1908\\2884178923.py:8: FutureWarning: The frame.append method is deprecated and will be removed from pandas in a future version. Use pandas.concat instead.\n",
      "  region = region.append(new_data, ignore_index=True)\n",
      "C:\\Users\\ljg98\\AppData\\Local\\Temp\\ipykernel_1908\\2884178923.py:8: FutureWarning: The frame.append method is deprecated and will be removed from pandas in a future version. Use pandas.concat instead.\n",
      "  region = region.append(new_data, ignore_index=True)\n",
      "C:\\Users\\ljg98\\AppData\\Local\\Temp\\ipykernel_1908\\2884178923.py:8: FutureWarning: The frame.append method is deprecated and will be removed from pandas in a future version. Use pandas.concat instead.\n",
      "  region = region.append(new_data, ignore_index=True)\n",
      "C:\\Users\\ljg98\\AppData\\Local\\Temp\\ipykernel_1908\\2884178923.py:8: FutureWarning: The frame.append method is deprecated and will be removed from pandas in a future version. Use pandas.concat instead.\n",
      "  region = region.append(new_data, ignore_index=True)\n",
      "C:\\Users\\ljg98\\AppData\\Local\\Temp\\ipykernel_1908\\2884178923.py:8: FutureWarning: The frame.append method is deprecated and will be removed from pandas in a future version. Use pandas.concat instead.\n",
      "  region = region.append(new_data, ignore_index=True)\n",
      "C:\\Users\\ljg98\\AppData\\Local\\Temp\\ipykernel_1908\\2884178923.py:8: FutureWarning: The frame.append method is deprecated and will be removed from pandas in a future version. Use pandas.concat instead.\n",
      "  region = region.append(new_data, ignore_index=True)\n",
      "C:\\Users\\ljg98\\AppData\\Local\\Temp\\ipykernel_1908\\2884178923.py:8: FutureWarning: The frame.append method is deprecated and will be removed from pandas in a future version. Use pandas.concat instead.\n",
      "  region = region.append(new_data, ignore_index=True)\n",
      "C:\\Users\\ljg98\\AppData\\Local\\Temp\\ipykernel_1908\\2884178923.py:8: FutureWarning: The frame.append method is deprecated and will be removed from pandas in a future version. Use pandas.concat instead.\n",
      "  region = region.append(new_data, ignore_index=True)\n",
      "C:\\Users\\ljg98\\AppData\\Local\\Temp\\ipykernel_1908\\2884178923.py:8: FutureWarning: The frame.append method is deprecated and will be removed from pandas in a future version. Use pandas.concat instead.\n",
      "  region = region.append(new_data, ignore_index=True)\n",
      "C:\\Users\\ljg98\\AppData\\Local\\Temp\\ipykernel_1908\\2884178923.py:8: FutureWarning: The frame.append method is deprecated and will be removed from pandas in a future version. Use pandas.concat instead.\n",
      "  region = region.append(new_data, ignore_index=True)\n",
      "C:\\Users\\ljg98\\AppData\\Local\\Temp\\ipykernel_1908\\2884178923.py:8: FutureWarning: The frame.append method is deprecated and will be removed from pandas in a future version. Use pandas.concat instead.\n",
      "  region = region.append(new_data, ignore_index=True)\n",
      "C:\\Users\\ljg98\\AppData\\Local\\Temp\\ipykernel_1908\\2884178923.py:8: FutureWarning: The frame.append method is deprecated and will be removed from pandas in a future version. Use pandas.concat instead.\n",
      "  region = region.append(new_data, ignore_index=True)\n",
      "C:\\Users\\ljg98\\AppData\\Local\\Temp\\ipykernel_1908\\2884178923.py:8: FutureWarning: The frame.append method is deprecated and will be removed from pandas in a future version. Use pandas.concat instead.\n",
      "  region = region.append(new_data, ignore_index=True)\n",
      "C:\\Users\\ljg98\\AppData\\Local\\Temp\\ipykernel_1908\\2884178923.py:8: FutureWarning: The frame.append method is deprecated and will be removed from pandas in a future version. Use pandas.concat instead.\n",
      "  region = region.append(new_data, ignore_index=True)\n",
      "C:\\Users\\ljg98\\AppData\\Local\\Temp\\ipykernel_1908\\2884178923.py:8: FutureWarning: The frame.append method is deprecated and will be removed from pandas in a future version. Use pandas.concat instead.\n",
      "  region = region.append(new_data, ignore_index=True)\n",
      "C:\\Users\\ljg98\\AppData\\Local\\Temp\\ipykernel_1908\\2884178923.py:8: FutureWarning: The frame.append method is deprecated and will be removed from pandas in a future version. Use pandas.concat instead.\n",
      "  region = region.append(new_data, ignore_index=True)\n",
      "C:\\Users\\ljg98\\AppData\\Local\\Temp\\ipykernel_1908\\2884178923.py:8: FutureWarning: The frame.append method is deprecated and will be removed from pandas in a future version. Use pandas.concat instead.\n",
      "  region = region.append(new_data, ignore_index=True)\n",
      "C:\\Users\\ljg98\\AppData\\Local\\Temp\\ipykernel_1908\\2884178923.py:8: FutureWarning: The frame.append method is deprecated and will be removed from pandas in a future version. Use pandas.concat instead.\n",
      "  region = region.append(new_data, ignore_index=True)\n",
      "C:\\Users\\ljg98\\AppData\\Local\\Temp\\ipykernel_1908\\2884178923.py:8: FutureWarning: The frame.append method is deprecated and will be removed from pandas in a future version. Use pandas.concat instead.\n",
      "  region = region.append(new_data, ignore_index=True)\n",
      "C:\\Users\\ljg98\\AppData\\Local\\Temp\\ipykernel_1908\\2884178923.py:8: FutureWarning: The frame.append method is deprecated and will be removed from pandas in a future version. Use pandas.concat instead.\n",
      "  region = region.append(new_data, ignore_index=True)\n",
      "C:\\Users\\ljg98\\AppData\\Local\\Temp\\ipykernel_1908\\2884178923.py:8: FutureWarning: The frame.append method is deprecated and will be removed from pandas in a future version. Use pandas.concat instead.\n",
      "  region = region.append(new_data, ignore_index=True)\n",
      "C:\\Users\\ljg98\\AppData\\Local\\Temp\\ipykernel_1908\\2884178923.py:8: FutureWarning: The frame.append method is deprecated and will be removed from pandas in a future version. Use pandas.concat instead.\n",
      "  region = region.append(new_data, ignore_index=True)\n",
      "C:\\Users\\ljg98\\AppData\\Local\\Temp\\ipykernel_1908\\2884178923.py:8: FutureWarning: The frame.append method is deprecated and will be removed from pandas in a future version. Use pandas.concat instead.\n",
      "  region = region.append(new_data, ignore_index=True)\n",
      "C:\\Users\\ljg98\\AppData\\Local\\Temp\\ipykernel_1908\\2884178923.py:8: FutureWarning: The frame.append method is deprecated and will be removed from pandas in a future version. Use pandas.concat instead.\n",
      "  region = region.append(new_data, ignore_index=True)\n",
      "C:\\Users\\ljg98\\AppData\\Local\\Temp\\ipykernel_1908\\2884178923.py:8: FutureWarning: The frame.append method is deprecated and will be removed from pandas in a future version. Use pandas.concat instead.\n",
      "  region = region.append(new_data, ignore_index=True)\n",
      "C:\\Users\\ljg98\\AppData\\Local\\Temp\\ipykernel_1908\\2884178923.py:8: FutureWarning: The frame.append method is deprecated and will be removed from pandas in a future version. Use pandas.concat instead.\n",
      "  region = region.append(new_data, ignore_index=True)\n",
      "C:\\Users\\ljg98\\AppData\\Local\\Temp\\ipykernel_1908\\2884178923.py:8: FutureWarning: The frame.append method is deprecated and will be removed from pandas in a future version. Use pandas.concat instead.\n",
      "  region = region.append(new_data, ignore_index=True)\n",
      "C:\\Users\\ljg98\\AppData\\Local\\Temp\\ipykernel_1908\\2884178923.py:8: FutureWarning: The frame.append method is deprecated and will be removed from pandas in a future version. Use pandas.concat instead.\n",
      "  region = region.append(new_data, ignore_index=True)\n",
      "C:\\Users\\ljg98\\AppData\\Local\\Temp\\ipykernel_1908\\2884178923.py:8: FutureWarning: The frame.append method is deprecated and will be removed from pandas in a future version. Use pandas.concat instead.\n",
      "  region = region.append(new_data, ignore_index=True)\n",
      "C:\\Users\\ljg98\\AppData\\Local\\Temp\\ipykernel_1908\\2884178923.py:8: FutureWarning: The frame.append method is deprecated and will be removed from pandas in a future version. Use pandas.concat instead.\n",
      "  region = region.append(new_data, ignore_index=True)\n",
      "C:\\Users\\ljg98\\AppData\\Local\\Temp\\ipykernel_1908\\2884178923.py:8: FutureWarning: The frame.append method is deprecated and will be removed from pandas in a future version. Use pandas.concat instead.\n",
      "  region = region.append(new_data, ignore_index=True)\n",
      "C:\\Users\\ljg98\\AppData\\Local\\Temp\\ipykernel_1908\\2884178923.py:8: FutureWarning: The frame.append method is deprecated and will be removed from pandas in a future version. Use pandas.concat instead.\n",
      "  region = region.append(new_data, ignore_index=True)\n",
      "C:\\Users\\ljg98\\AppData\\Local\\Temp\\ipykernel_1908\\2884178923.py:8: FutureWarning: The frame.append method is deprecated and will be removed from pandas in a future version. Use pandas.concat instead.\n",
      "  region = region.append(new_data, ignore_index=True)\n",
      "C:\\Users\\ljg98\\AppData\\Local\\Temp\\ipykernel_1908\\2884178923.py:8: FutureWarning: The frame.append method is deprecated and will be removed from pandas in a future version. Use pandas.concat instead.\n",
      "  region = region.append(new_data, ignore_index=True)\n",
      "C:\\Users\\ljg98\\AppData\\Local\\Temp\\ipykernel_1908\\2884178923.py:8: FutureWarning: The frame.append method is deprecated and will be removed from pandas in a future version. Use pandas.concat instead.\n",
      "  region = region.append(new_data, ignore_index=True)\n",
      "C:\\Users\\ljg98\\AppData\\Local\\Temp\\ipykernel_1908\\2884178923.py:8: FutureWarning: The frame.append method is deprecated and will be removed from pandas in a future version. Use pandas.concat instead.\n",
      "  region = region.append(new_data, ignore_index=True)\n",
      "C:\\Users\\ljg98\\AppData\\Local\\Temp\\ipykernel_1908\\2884178923.py:8: FutureWarning: The frame.append method is deprecated and will be removed from pandas in a future version. Use pandas.concat instead.\n",
      "  region = region.append(new_data, ignore_index=True)\n",
      "C:\\Users\\ljg98\\AppData\\Local\\Temp\\ipykernel_1908\\2884178923.py:8: FutureWarning: The frame.append method is deprecated and will be removed from pandas in a future version. Use pandas.concat instead.\n",
      "  region = region.append(new_data, ignore_index=True)\n",
      "C:\\Users\\ljg98\\AppData\\Local\\Temp\\ipykernel_1908\\2884178923.py:8: FutureWarning: The frame.append method is deprecated and will be removed from pandas in a future version. Use pandas.concat instead.\n",
      "  region = region.append(new_data, ignore_index=True)\n",
      "C:\\Users\\ljg98\\AppData\\Local\\Temp\\ipykernel_1908\\2884178923.py:8: FutureWarning: The frame.append method is deprecated and will be removed from pandas in a future version. Use pandas.concat instead.\n",
      "  region = region.append(new_data, ignore_index=True)\n",
      "C:\\Users\\ljg98\\AppData\\Local\\Temp\\ipykernel_1908\\2884178923.py:8: FutureWarning: The frame.append method is deprecated and will be removed from pandas in a future version. Use pandas.concat instead.\n",
      "  region = region.append(new_data, ignore_index=True)\n",
      "C:\\Users\\ljg98\\AppData\\Local\\Temp\\ipykernel_1908\\2884178923.py:8: FutureWarning: The frame.append method is deprecated and will be removed from pandas in a future version. Use pandas.concat instead.\n",
      "  region = region.append(new_data, ignore_index=True)\n",
      "C:\\Users\\ljg98\\AppData\\Local\\Temp\\ipykernel_1908\\2884178923.py:8: FutureWarning: The frame.append method is deprecated and will be removed from pandas in a future version. Use pandas.concat instead.\n",
      "  region = region.append(new_data, ignore_index=True)\n",
      "C:\\Users\\ljg98\\AppData\\Local\\Temp\\ipykernel_1908\\2884178923.py:8: FutureWarning: The frame.append method is deprecated and will be removed from pandas in a future version. Use pandas.concat instead.\n",
      "  region = region.append(new_data, ignore_index=True)\n",
      "C:\\Users\\ljg98\\AppData\\Local\\Temp\\ipykernel_1908\\2884178923.py:8: FutureWarning: The frame.append method is deprecated and will be removed from pandas in a future version. Use pandas.concat instead.\n",
      "  region = region.append(new_data, ignore_index=True)\n",
      "C:\\Users\\ljg98\\AppData\\Local\\Temp\\ipykernel_1908\\2884178923.py:8: FutureWarning: The frame.append method is deprecated and will be removed from pandas in a future version. Use pandas.concat instead.\n",
      "  region = region.append(new_data, ignore_index=True)\n",
      "C:\\Users\\ljg98\\AppData\\Local\\Temp\\ipykernel_1908\\2884178923.py:8: FutureWarning: The frame.append method is deprecated and will be removed from pandas in a future version. Use pandas.concat instead.\n",
      "  region = region.append(new_data, ignore_index=True)\n",
      "C:\\Users\\ljg98\\AppData\\Local\\Temp\\ipykernel_1908\\2884178923.py:8: FutureWarning: The frame.append method is deprecated and will be removed from pandas in a future version. Use pandas.concat instead.\n",
      "  region = region.append(new_data, ignore_index=True)\n",
      "C:\\Users\\ljg98\\AppData\\Local\\Temp\\ipykernel_1908\\2884178923.py:8: FutureWarning: The frame.append method is deprecated and will be removed from pandas in a future version. Use pandas.concat instead.\n",
      "  region = region.append(new_data, ignore_index=True)\n",
      "C:\\Users\\ljg98\\AppData\\Local\\Temp\\ipykernel_1908\\2884178923.py:8: FutureWarning: The frame.append method is deprecated and will be removed from pandas in a future version. Use pandas.concat instead.\n",
      "  region = region.append(new_data, ignore_index=True)\n",
      "C:\\Users\\ljg98\\AppData\\Local\\Temp\\ipykernel_1908\\2884178923.py:8: FutureWarning: The frame.append method is deprecated and will be removed from pandas in a future version. Use pandas.concat instead.\n",
      "  region = region.append(new_data, ignore_index=True)\n",
      "C:\\Users\\ljg98\\AppData\\Local\\Temp\\ipykernel_1908\\2884178923.py:8: FutureWarning: The frame.append method is deprecated and will be removed from pandas in a future version. Use pandas.concat instead.\n",
      "  region = region.append(new_data, ignore_index=True)\n",
      "C:\\Users\\ljg98\\AppData\\Local\\Temp\\ipykernel_1908\\2884178923.py:8: FutureWarning: The frame.append method is deprecated and will be removed from pandas in a future version. Use pandas.concat instead.\n",
      "  region = region.append(new_data, ignore_index=True)\n",
      "C:\\Users\\ljg98\\AppData\\Local\\Temp\\ipykernel_1908\\2884178923.py:8: FutureWarning: The frame.append method is deprecated and will be removed from pandas in a future version. Use pandas.concat instead.\n",
      "  region = region.append(new_data, ignore_index=True)\n",
      "C:\\Users\\ljg98\\AppData\\Local\\Temp\\ipykernel_1908\\2884178923.py:8: FutureWarning: The frame.append method is deprecated and will be removed from pandas in a future version. Use pandas.concat instead.\n",
      "  region = region.append(new_data, ignore_index=True)\n",
      "C:\\Users\\ljg98\\AppData\\Local\\Temp\\ipykernel_1908\\2884178923.py:8: FutureWarning: The frame.append method is deprecated and will be removed from pandas in a future version. Use pandas.concat instead.\n",
      "  region = region.append(new_data, ignore_index=True)\n",
      "C:\\Users\\ljg98\\AppData\\Local\\Temp\\ipykernel_1908\\2884178923.py:8: FutureWarning: The frame.append method is deprecated and will be removed from pandas in a future version. Use pandas.concat instead.\n",
      "  region = region.append(new_data, ignore_index=True)\n",
      "C:\\Users\\ljg98\\AppData\\Local\\Temp\\ipykernel_1908\\2884178923.py:8: FutureWarning: The frame.append method is deprecated and will be removed from pandas in a future version. Use pandas.concat instead.\n",
      "  region = region.append(new_data, ignore_index=True)\n",
      "C:\\Users\\ljg98\\AppData\\Local\\Temp\\ipykernel_1908\\2884178923.py:8: FutureWarning: The frame.append method is deprecated and will be removed from pandas in a future version. Use pandas.concat instead.\n",
      "  region = region.append(new_data, ignore_index=True)\n",
      "C:\\Users\\ljg98\\AppData\\Local\\Temp\\ipykernel_1908\\2884178923.py:8: FutureWarning: The frame.append method is deprecated and will be removed from pandas in a future version. Use pandas.concat instead.\n",
      "  region = region.append(new_data, ignore_index=True)\n",
      "C:\\Users\\ljg98\\AppData\\Local\\Temp\\ipykernel_1908\\2884178923.py:8: FutureWarning: The frame.append method is deprecated and will be removed from pandas in a future version. Use pandas.concat instead.\n",
      "  region = region.append(new_data, ignore_index=True)\n",
      "C:\\Users\\ljg98\\AppData\\Local\\Temp\\ipykernel_1908\\2884178923.py:8: FutureWarning: The frame.append method is deprecated and will be removed from pandas in a future version. Use pandas.concat instead.\n",
      "  region = region.append(new_data, ignore_index=True)\n",
      "C:\\Users\\ljg98\\AppData\\Local\\Temp\\ipykernel_1908\\2884178923.py:8: FutureWarning: The frame.append method is deprecated and will be removed from pandas in a future version. Use pandas.concat instead.\n",
      "  region = region.append(new_data, ignore_index=True)\n",
      "C:\\Users\\ljg98\\AppData\\Local\\Temp\\ipykernel_1908\\2884178923.py:8: FutureWarning: The frame.append method is deprecated and will be removed from pandas in a future version. Use pandas.concat instead.\n",
      "  region = region.append(new_data, ignore_index=True)\n",
      "C:\\Users\\ljg98\\AppData\\Local\\Temp\\ipykernel_1908\\2884178923.py:8: FutureWarning: The frame.append method is deprecated and will be removed from pandas in a future version. Use pandas.concat instead.\n",
      "  region = region.append(new_data, ignore_index=True)\n",
      "C:\\Users\\ljg98\\AppData\\Local\\Temp\\ipykernel_1908\\2884178923.py:8: FutureWarning: The frame.append method is deprecated and will be removed from pandas in a future version. Use pandas.concat instead.\n",
      "  region = region.append(new_data, ignore_index=True)\n",
      "C:\\Users\\ljg98\\AppData\\Local\\Temp\\ipykernel_1908\\2884178923.py:8: FutureWarning: The frame.append method is deprecated and will be removed from pandas in a future version. Use pandas.concat instead.\n",
      "  region = region.append(new_data, ignore_index=True)\n",
      "C:\\Users\\ljg98\\AppData\\Local\\Temp\\ipykernel_1908\\2884178923.py:8: FutureWarning: The frame.append method is deprecated and will be removed from pandas in a future version. Use pandas.concat instead.\n",
      "  region = region.append(new_data, ignore_index=True)\n",
      "C:\\Users\\ljg98\\AppData\\Local\\Temp\\ipykernel_1908\\2884178923.py:8: FutureWarning: The frame.append method is deprecated and will be removed from pandas in a future version. Use pandas.concat instead.\n",
      "  region = region.append(new_data, ignore_index=True)\n",
      "C:\\Users\\ljg98\\AppData\\Local\\Temp\\ipykernel_1908\\2884178923.py:8: FutureWarning: The frame.append method is deprecated and will be removed from pandas in a future version. Use pandas.concat instead.\n",
      "  region = region.append(new_data, ignore_index=True)\n",
      "C:\\Users\\ljg98\\AppData\\Local\\Temp\\ipykernel_1908\\2884178923.py:8: FutureWarning: The frame.append method is deprecated and will be removed from pandas in a future version. Use pandas.concat instead.\n",
      "  region = region.append(new_data, ignore_index=True)\n",
      "C:\\Users\\ljg98\\AppData\\Local\\Temp\\ipykernel_1908\\2884178923.py:8: FutureWarning: The frame.append method is deprecated and will be removed from pandas in a future version. Use pandas.concat instead.\n",
      "  region = region.append(new_data, ignore_index=True)\n",
      "C:\\Users\\ljg98\\AppData\\Local\\Temp\\ipykernel_1908\\2884178923.py:8: FutureWarning: The frame.append method is deprecated and will be removed from pandas in a future version. Use pandas.concat instead.\n",
      "  region = region.append(new_data, ignore_index=True)\n",
      "C:\\Users\\ljg98\\AppData\\Local\\Temp\\ipykernel_1908\\2884178923.py:8: FutureWarning: The frame.append method is deprecated and will be removed from pandas in a future version. Use pandas.concat instead.\n",
      "  region = region.append(new_data, ignore_index=True)\n",
      "C:\\Users\\ljg98\\AppData\\Local\\Temp\\ipykernel_1908\\2884178923.py:8: FutureWarning: The frame.append method is deprecated and will be removed from pandas in a future version. Use pandas.concat instead.\n",
      "  region = region.append(new_data, ignore_index=True)\n",
      "C:\\Users\\ljg98\\AppData\\Local\\Temp\\ipykernel_1908\\2884178923.py:8: FutureWarning: The frame.append method is deprecated and will be removed from pandas in a future version. Use pandas.concat instead.\n",
      "  region = region.append(new_data, ignore_index=True)\n",
      "C:\\Users\\ljg98\\AppData\\Local\\Temp\\ipykernel_1908\\2884178923.py:8: FutureWarning: The frame.append method is deprecated and will be removed from pandas in a future version. Use pandas.concat instead.\n",
      "  region = region.append(new_data, ignore_index=True)\n",
      "C:\\Users\\ljg98\\AppData\\Local\\Temp\\ipykernel_1908\\2884178923.py:8: FutureWarning: The frame.append method is deprecated and will be removed from pandas in a future version. Use pandas.concat instead.\n",
      "  region = region.append(new_data, ignore_index=True)\n",
      "C:\\Users\\ljg98\\AppData\\Local\\Temp\\ipykernel_1908\\2884178923.py:8: FutureWarning: The frame.append method is deprecated and will be removed from pandas in a future version. Use pandas.concat instead.\n",
      "  region = region.append(new_data, ignore_index=True)\n",
      "C:\\Users\\ljg98\\AppData\\Local\\Temp\\ipykernel_1908\\2884178923.py:8: FutureWarning: The frame.append method is deprecated and will be removed from pandas in a future version. Use pandas.concat instead.\n",
      "  region = region.append(new_data, ignore_index=True)\n",
      "C:\\Users\\ljg98\\AppData\\Local\\Temp\\ipykernel_1908\\2884178923.py:8: FutureWarning: The frame.append method is deprecated and will be removed from pandas in a future version. Use pandas.concat instead.\n",
      "  region = region.append(new_data, ignore_index=True)\n",
      "C:\\Users\\ljg98\\AppData\\Local\\Temp\\ipykernel_1908\\2884178923.py:8: FutureWarning: The frame.append method is deprecated and will be removed from pandas in a future version. Use pandas.concat instead.\n",
      "  region = region.append(new_data, ignore_index=True)\n",
      "C:\\Users\\ljg98\\AppData\\Local\\Temp\\ipykernel_1908\\2884178923.py:8: FutureWarning: The frame.append method is deprecated and will be removed from pandas in a future version. Use pandas.concat instead.\n",
      "  region = region.append(new_data, ignore_index=True)\n",
      "C:\\Users\\ljg98\\AppData\\Local\\Temp\\ipykernel_1908\\2884178923.py:8: FutureWarning: The frame.append method is deprecated and will be removed from pandas in a future version. Use pandas.concat instead.\n",
      "  region = region.append(new_data, ignore_index=True)\n",
      "C:\\Users\\ljg98\\AppData\\Local\\Temp\\ipykernel_1908\\2884178923.py:8: FutureWarning: The frame.append method is deprecated and will be removed from pandas in a future version. Use pandas.concat instead.\n",
      "  region = region.append(new_data, ignore_index=True)\n",
      "C:\\Users\\ljg98\\AppData\\Local\\Temp\\ipykernel_1908\\2884178923.py:8: FutureWarning: The frame.append method is deprecated and will be removed from pandas in a future version. Use pandas.concat instead.\n",
      "  region = region.append(new_data, ignore_index=True)\n",
      "C:\\Users\\ljg98\\AppData\\Local\\Temp\\ipykernel_1908\\2884178923.py:8: FutureWarning: The frame.append method is deprecated and will be removed from pandas in a future version. Use pandas.concat instead.\n",
      "  region = region.append(new_data, ignore_index=True)\n",
      "C:\\Users\\ljg98\\AppData\\Local\\Temp\\ipykernel_1908\\2884178923.py:8: FutureWarning: The frame.append method is deprecated and will be removed from pandas in a future version. Use pandas.concat instead.\n",
      "  region = region.append(new_data, ignore_index=True)\n",
      "C:\\Users\\ljg98\\AppData\\Local\\Temp\\ipykernel_1908\\2884178923.py:8: FutureWarning: The frame.append method is deprecated and will be removed from pandas in a future version. Use pandas.concat instead.\n",
      "  region = region.append(new_data, ignore_index=True)\n",
      "C:\\Users\\ljg98\\AppData\\Local\\Temp\\ipykernel_1908\\2884178923.py:8: FutureWarning: The frame.append method is deprecated and will be removed from pandas in a future version. Use pandas.concat instead.\n",
      "  region = region.append(new_data, ignore_index=True)\n",
      "C:\\Users\\ljg98\\AppData\\Local\\Temp\\ipykernel_1908\\2884178923.py:8: FutureWarning: The frame.append method is deprecated and will be removed from pandas in a future version. Use pandas.concat instead.\n",
      "  region = region.append(new_data, ignore_index=True)\n",
      "C:\\Users\\ljg98\\AppData\\Local\\Temp\\ipykernel_1908\\2884178923.py:8: FutureWarning: The frame.append method is deprecated and will be removed from pandas in a future version. Use pandas.concat instead.\n",
      "  region = region.append(new_data, ignore_index=True)\n",
      "C:\\Users\\ljg98\\AppData\\Local\\Temp\\ipykernel_1908\\2884178923.py:8: FutureWarning: The frame.append method is deprecated and will be removed from pandas in a future version. Use pandas.concat instead.\n",
      "  region = region.append(new_data, ignore_index=True)\n",
      "C:\\Users\\ljg98\\AppData\\Local\\Temp\\ipykernel_1908\\2884178923.py:8: FutureWarning: The frame.append method is deprecated and will be removed from pandas in a future version. Use pandas.concat instead.\n",
      "  region = region.append(new_data, ignore_index=True)\n",
      "C:\\Users\\ljg98\\AppData\\Local\\Temp\\ipykernel_1908\\2884178923.py:8: FutureWarning: The frame.append method is deprecated and will be removed from pandas in a future version. Use pandas.concat instead.\n",
      "  region = region.append(new_data, ignore_index=True)\n",
      "C:\\Users\\ljg98\\AppData\\Local\\Temp\\ipykernel_1908\\2884178923.py:8: FutureWarning: The frame.append method is deprecated and will be removed from pandas in a future version. Use pandas.concat instead.\n",
      "  region = region.append(new_data, ignore_index=True)\n",
      "C:\\Users\\ljg98\\AppData\\Local\\Temp\\ipykernel_1908\\2884178923.py:8: FutureWarning: The frame.append method is deprecated and will be removed from pandas in a future version. Use pandas.concat instead.\n",
      "  region = region.append(new_data, ignore_index=True)\n",
      "C:\\Users\\ljg98\\AppData\\Local\\Temp\\ipykernel_1908\\2884178923.py:8: FutureWarning: The frame.append method is deprecated and will be removed from pandas in a future version. Use pandas.concat instead.\n",
      "  region = region.append(new_data, ignore_index=True)\n",
      "C:\\Users\\ljg98\\AppData\\Local\\Temp\\ipykernel_1908\\2884178923.py:8: FutureWarning: The frame.append method is deprecated and will be removed from pandas in a future version. Use pandas.concat instead.\n",
      "  region = region.append(new_data, ignore_index=True)\n",
      "C:\\Users\\ljg98\\AppData\\Local\\Temp\\ipykernel_1908\\2884178923.py:8: FutureWarning: The frame.append method is deprecated and will be removed from pandas in a future version. Use pandas.concat instead.\n",
      "  region = region.append(new_data, ignore_index=True)\n",
      "C:\\Users\\ljg98\\AppData\\Local\\Temp\\ipykernel_1908\\2884178923.py:8: FutureWarning: The frame.append method is deprecated and will be removed from pandas in a future version. Use pandas.concat instead.\n",
      "  region = region.append(new_data, ignore_index=True)\n",
      "C:\\Users\\ljg98\\AppData\\Local\\Temp\\ipykernel_1908\\2884178923.py:8: FutureWarning: The frame.append method is deprecated and will be removed from pandas in a future version. Use pandas.concat instead.\n",
      "  region = region.append(new_data, ignore_index=True)\n",
      "C:\\Users\\ljg98\\AppData\\Local\\Temp\\ipykernel_1908\\2884178923.py:8: FutureWarning: The frame.append method is deprecated and will be removed from pandas in a future version. Use pandas.concat instead.\n",
      "  region = region.append(new_data, ignore_index=True)\n",
      "C:\\Users\\ljg98\\AppData\\Local\\Temp\\ipykernel_1908\\2884178923.py:8: FutureWarning: The frame.append method is deprecated and will be removed from pandas in a future version. Use pandas.concat instead.\n",
      "  region = region.append(new_data, ignore_index=True)\n",
      "C:\\Users\\ljg98\\AppData\\Local\\Temp\\ipykernel_1908\\2884178923.py:8: FutureWarning: The frame.append method is deprecated and will be removed from pandas in a future version. Use pandas.concat instead.\n",
      "  region = region.append(new_data, ignore_index=True)\n",
      "C:\\Users\\ljg98\\AppData\\Local\\Temp\\ipykernel_1908\\2884178923.py:8: FutureWarning: The frame.append method is deprecated and will be removed from pandas in a future version. Use pandas.concat instead.\n",
      "  region = region.append(new_data, ignore_index=True)\n",
      "C:\\Users\\ljg98\\AppData\\Local\\Temp\\ipykernel_1908\\2884178923.py:8: FutureWarning: The frame.append method is deprecated and will be removed from pandas in a future version. Use pandas.concat instead.\n",
      "  region = region.append(new_data, ignore_index=True)\n",
      "C:\\Users\\ljg98\\AppData\\Local\\Temp\\ipykernel_1908\\2884178923.py:8: FutureWarning: The frame.append method is deprecated and will be removed from pandas in a future version. Use pandas.concat instead.\n",
      "  region = region.append(new_data, ignore_index=True)\n",
      "C:\\Users\\ljg98\\AppData\\Local\\Temp\\ipykernel_1908\\2884178923.py:8: FutureWarning: The frame.append method is deprecated and will be removed from pandas in a future version. Use pandas.concat instead.\n",
      "  region = region.append(new_data, ignore_index=True)\n",
      "C:\\Users\\ljg98\\AppData\\Local\\Temp\\ipykernel_1908\\2884178923.py:8: FutureWarning: The frame.append method is deprecated and will be removed from pandas in a future version. Use pandas.concat instead.\n",
      "  region = region.append(new_data, ignore_index=True)\n",
      "C:\\Users\\ljg98\\AppData\\Local\\Temp\\ipykernel_1908\\2884178923.py:8: FutureWarning: The frame.append method is deprecated and will be removed from pandas in a future version. Use pandas.concat instead.\n",
      "  region = region.append(new_data, ignore_index=True)\n",
      "C:\\Users\\ljg98\\AppData\\Local\\Temp\\ipykernel_1908\\2884178923.py:8: FutureWarning: The frame.append method is deprecated and will be removed from pandas in a future version. Use pandas.concat instead.\n",
      "  region = region.append(new_data, ignore_index=True)\n",
      "C:\\Users\\ljg98\\AppData\\Local\\Temp\\ipykernel_1908\\2884178923.py:8: FutureWarning: The frame.append method is deprecated and will be removed from pandas in a future version. Use pandas.concat instead.\n",
      "  region = region.append(new_data, ignore_index=True)\n",
      "C:\\Users\\ljg98\\AppData\\Local\\Temp\\ipykernel_1908\\2884178923.py:8: FutureWarning: The frame.append method is deprecated and will be removed from pandas in a future version. Use pandas.concat instead.\n",
      "  region = region.append(new_data, ignore_index=True)\n",
      "C:\\Users\\ljg98\\AppData\\Local\\Temp\\ipykernel_1908\\2884178923.py:8: FutureWarning: The frame.append method is deprecated and will be removed from pandas in a future version. Use pandas.concat instead.\n",
      "  region = region.append(new_data, ignore_index=True)\n",
      "C:\\Users\\ljg98\\AppData\\Local\\Temp\\ipykernel_1908\\2884178923.py:8: FutureWarning: The frame.append method is deprecated and will be removed from pandas in a future version. Use pandas.concat instead.\n",
      "  region = region.append(new_data, ignore_index=True)\n",
      "C:\\Users\\ljg98\\AppData\\Local\\Temp\\ipykernel_1908\\2884178923.py:8: FutureWarning: The frame.append method is deprecated and will be removed from pandas in a future version. Use pandas.concat instead.\n",
      "  region = region.append(new_data, ignore_index=True)\n",
      "C:\\Users\\ljg98\\AppData\\Local\\Temp\\ipykernel_1908\\2884178923.py:8: FutureWarning: The frame.append method is deprecated and will be removed from pandas in a future version. Use pandas.concat instead.\n",
      "  region = region.append(new_data, ignore_index=True)\n",
      "C:\\Users\\ljg98\\AppData\\Local\\Temp\\ipykernel_1908\\2884178923.py:8: FutureWarning: The frame.append method is deprecated and will be removed from pandas in a future version. Use pandas.concat instead.\n",
      "  region = region.append(new_data, ignore_index=True)\n",
      "C:\\Users\\ljg98\\AppData\\Local\\Temp\\ipykernel_1908\\2884178923.py:8: FutureWarning: The frame.append method is deprecated and will be removed from pandas in a future version. Use pandas.concat instead.\n",
      "  region = region.append(new_data, ignore_index=True)\n",
      "C:\\Users\\ljg98\\AppData\\Local\\Temp\\ipykernel_1908\\2884178923.py:8: FutureWarning: The frame.append method is deprecated and will be removed from pandas in a future version. Use pandas.concat instead.\n",
      "  region = region.append(new_data, ignore_index=True)\n",
      "C:\\Users\\ljg98\\AppData\\Local\\Temp\\ipykernel_1908\\2884178923.py:8: FutureWarning: The frame.append method is deprecated and will be removed from pandas in a future version. Use pandas.concat instead.\n",
      "  region = region.append(new_data, ignore_index=True)\n",
      "C:\\Users\\ljg98\\AppData\\Local\\Temp\\ipykernel_1908\\2884178923.py:8: FutureWarning: The frame.append method is deprecated and will be removed from pandas in a future version. Use pandas.concat instead.\n",
      "  region = region.append(new_data, ignore_index=True)\n",
      "C:\\Users\\ljg98\\AppData\\Local\\Temp\\ipykernel_1908\\2884178923.py:8: FutureWarning: The frame.append method is deprecated and will be removed from pandas in a future version. Use pandas.concat instead.\n",
      "  region = region.append(new_data, ignore_index=True)\n",
      "C:\\Users\\ljg98\\AppData\\Local\\Temp\\ipykernel_1908\\2884178923.py:8: FutureWarning: The frame.append method is deprecated and will be removed from pandas in a future version. Use pandas.concat instead.\n",
      "  region = region.append(new_data, ignore_index=True)\n",
      "C:\\Users\\ljg98\\AppData\\Local\\Temp\\ipykernel_1908\\2884178923.py:8: FutureWarning: The frame.append method is deprecated and will be removed from pandas in a future version. Use pandas.concat instead.\n",
      "  region = region.append(new_data, ignore_index=True)\n",
      "C:\\Users\\ljg98\\AppData\\Local\\Temp\\ipykernel_1908\\2884178923.py:8: FutureWarning: The frame.append method is deprecated and will be removed from pandas in a future version. Use pandas.concat instead.\n",
      "  region = region.append(new_data, ignore_index=True)\n",
      "C:\\Users\\ljg98\\AppData\\Local\\Temp\\ipykernel_1908\\2884178923.py:8: FutureWarning: The frame.append method is deprecated and will be removed from pandas in a future version. Use pandas.concat instead.\n",
      "  region = region.append(new_data, ignore_index=True)\n",
      "C:\\Users\\ljg98\\AppData\\Local\\Temp\\ipykernel_1908\\2884178923.py:8: FutureWarning: The frame.append method is deprecated and will be removed from pandas in a future version. Use pandas.concat instead.\n",
      "  region = region.append(new_data, ignore_index=True)\n",
      "C:\\Users\\ljg98\\AppData\\Local\\Temp\\ipykernel_1908\\2884178923.py:8: FutureWarning: The frame.append method is deprecated and will be removed from pandas in a future version. Use pandas.concat instead.\n",
      "  region = region.append(new_data, ignore_index=True)\n",
      "C:\\Users\\ljg98\\AppData\\Local\\Temp\\ipykernel_1908\\2884178923.py:8: FutureWarning: The frame.append method is deprecated and will be removed from pandas in a future version. Use pandas.concat instead.\n",
      "  region = region.append(new_data, ignore_index=True)\n",
      "C:\\Users\\ljg98\\AppData\\Local\\Temp\\ipykernel_1908\\2884178923.py:8: FutureWarning: The frame.append method is deprecated and will be removed from pandas in a future version. Use pandas.concat instead.\n",
      "  region = region.append(new_data, ignore_index=True)\n",
      "C:\\Users\\ljg98\\AppData\\Local\\Temp\\ipykernel_1908\\2884178923.py:8: FutureWarning: The frame.append method is deprecated and will be removed from pandas in a future version. Use pandas.concat instead.\n",
      "  region = region.append(new_data, ignore_index=True)\n",
      "C:\\Users\\ljg98\\AppData\\Local\\Temp\\ipykernel_1908\\2884178923.py:8: FutureWarning: The frame.append method is deprecated and will be removed from pandas in a future version. Use pandas.concat instead.\n",
      "  region = region.append(new_data, ignore_index=True)\n",
      "C:\\Users\\ljg98\\AppData\\Local\\Temp\\ipykernel_1908\\2884178923.py:8: FutureWarning: The frame.append method is deprecated and will be removed from pandas in a future version. Use pandas.concat instead.\n",
      "  region = region.append(new_data, ignore_index=True)\n",
      "C:\\Users\\ljg98\\AppData\\Local\\Temp\\ipykernel_1908\\2884178923.py:8: FutureWarning: The frame.append method is deprecated and will be removed from pandas in a future version. Use pandas.concat instead.\n",
      "  region = region.append(new_data, ignore_index=True)\n",
      "C:\\Users\\ljg98\\AppData\\Local\\Temp\\ipykernel_1908\\2884178923.py:8: FutureWarning: The frame.append method is deprecated and will be removed from pandas in a future version. Use pandas.concat instead.\n",
      "  region = region.append(new_data, ignore_index=True)\n",
      "C:\\Users\\ljg98\\AppData\\Local\\Temp\\ipykernel_1908\\2884178923.py:8: FutureWarning: The frame.append method is deprecated and will be removed from pandas in a future version. Use pandas.concat instead.\n",
      "  region = region.append(new_data, ignore_index=True)\n",
      "C:\\Users\\ljg98\\AppData\\Local\\Temp\\ipykernel_1908\\2884178923.py:8: FutureWarning: The frame.append method is deprecated and will be removed from pandas in a future version. Use pandas.concat instead.\n",
      "  region = region.append(new_data, ignore_index=True)\n",
      "C:\\Users\\ljg98\\AppData\\Local\\Temp\\ipykernel_1908\\2884178923.py:8: FutureWarning: The frame.append method is deprecated and will be removed from pandas in a future version. Use pandas.concat instead.\n",
      "  region = region.append(new_data, ignore_index=True)\n",
      "C:\\Users\\ljg98\\AppData\\Local\\Temp\\ipykernel_1908\\2884178923.py:8: FutureWarning: The frame.append method is deprecated and will be removed from pandas in a future version. Use pandas.concat instead.\n",
      "  region = region.append(new_data, ignore_index=True)\n",
      "C:\\Users\\ljg98\\AppData\\Local\\Temp\\ipykernel_1908\\2884178923.py:8: FutureWarning: The frame.append method is deprecated and will be removed from pandas in a future version. Use pandas.concat instead.\n",
      "  region = region.append(new_data, ignore_index=True)\n",
      "C:\\Users\\ljg98\\AppData\\Local\\Temp\\ipykernel_1908\\2884178923.py:8: FutureWarning: The frame.append method is deprecated and will be removed from pandas in a future version. Use pandas.concat instead.\n",
      "  region = region.append(new_data, ignore_index=True)\n",
      "C:\\Users\\ljg98\\AppData\\Local\\Temp\\ipykernel_1908\\2884178923.py:8: FutureWarning: The frame.append method is deprecated and will be removed from pandas in a future version. Use pandas.concat instead.\n",
      "  region = region.append(new_data, ignore_index=True)\n",
      "C:\\Users\\ljg98\\AppData\\Local\\Temp\\ipykernel_1908\\2884178923.py:8: FutureWarning: The frame.append method is deprecated and will be removed from pandas in a future version. Use pandas.concat instead.\n",
      "  region = region.append(new_data, ignore_index=True)\n",
      "C:\\Users\\ljg98\\AppData\\Local\\Temp\\ipykernel_1908\\2884178923.py:8: FutureWarning: The frame.append method is deprecated and will be removed from pandas in a future version. Use pandas.concat instead.\n",
      "  region = region.append(new_data, ignore_index=True)\n",
      "C:\\Users\\ljg98\\AppData\\Local\\Temp\\ipykernel_1908\\2884178923.py:8: FutureWarning: The frame.append method is deprecated and will be removed from pandas in a future version. Use pandas.concat instead.\n",
      "  region = region.append(new_data, ignore_index=True)\n",
      "C:\\Users\\ljg98\\AppData\\Local\\Temp\\ipykernel_1908\\2884178923.py:8: FutureWarning: The frame.append method is deprecated and will be removed from pandas in a future version. Use pandas.concat instead.\n",
      "  region = region.append(new_data, ignore_index=True)\n",
      "C:\\Users\\ljg98\\AppData\\Local\\Temp\\ipykernel_1908\\2884178923.py:8: FutureWarning: The frame.append method is deprecated and will be removed from pandas in a future version. Use pandas.concat instead.\n",
      "  region = region.append(new_data, ignore_index=True)\n",
      "C:\\Users\\ljg98\\AppData\\Local\\Temp\\ipykernel_1908\\2884178923.py:8: FutureWarning: The frame.append method is deprecated and will be removed from pandas in a future version. Use pandas.concat instead.\n",
      "  region = region.append(new_data, ignore_index=True)\n",
      "C:\\Users\\ljg98\\AppData\\Local\\Temp\\ipykernel_1908\\2884178923.py:8: FutureWarning: The frame.append method is deprecated and will be removed from pandas in a future version. Use pandas.concat instead.\n",
      "  region = region.append(new_data, ignore_index=True)\n",
      "C:\\Users\\ljg98\\AppData\\Local\\Temp\\ipykernel_1908\\2884178923.py:8: FutureWarning: The frame.append method is deprecated and will be removed from pandas in a future version. Use pandas.concat instead.\n",
      "  region = region.append(new_data, ignore_index=True)\n",
      "C:\\Users\\ljg98\\AppData\\Local\\Temp\\ipykernel_1908\\2884178923.py:8: FutureWarning: The frame.append method is deprecated and will be removed from pandas in a future version. Use pandas.concat instead.\n",
      "  region = region.append(new_data, ignore_index=True)\n",
      "C:\\Users\\ljg98\\AppData\\Local\\Temp\\ipykernel_1908\\2884178923.py:8: FutureWarning: The frame.append method is deprecated and will be removed from pandas in a future version. Use pandas.concat instead.\n",
      "  region = region.append(new_data, ignore_index=True)\n",
      "C:\\Users\\ljg98\\AppData\\Local\\Temp\\ipykernel_1908\\2884178923.py:8: FutureWarning: The frame.append method is deprecated and will be removed from pandas in a future version. Use pandas.concat instead.\n",
      "  region = region.append(new_data, ignore_index=True)\n",
      "C:\\Users\\ljg98\\AppData\\Local\\Temp\\ipykernel_1908\\2884178923.py:8: FutureWarning: The frame.append method is deprecated and will be removed from pandas in a future version. Use pandas.concat instead.\n",
      "  region = region.append(new_data, ignore_index=True)\n",
      "C:\\Users\\ljg98\\AppData\\Local\\Temp\\ipykernel_1908\\2884178923.py:8: FutureWarning: The frame.append method is deprecated and will be removed from pandas in a future version. Use pandas.concat instead.\n",
      "  region = region.append(new_data, ignore_index=True)\n",
      "C:\\Users\\ljg98\\AppData\\Local\\Temp\\ipykernel_1908\\2884178923.py:8: FutureWarning: The frame.append method is deprecated and will be removed from pandas in a future version. Use pandas.concat instead.\n",
      "  region = region.append(new_data, ignore_index=True)\n",
      "C:\\Users\\ljg98\\AppData\\Local\\Temp\\ipykernel_1908\\2884178923.py:8: FutureWarning: The frame.append method is deprecated and will be removed from pandas in a future version. Use pandas.concat instead.\n",
      "  region = region.append(new_data, ignore_index=True)\n",
      "C:\\Users\\ljg98\\AppData\\Local\\Temp\\ipykernel_1908\\2884178923.py:8: FutureWarning: The frame.append method is deprecated and will be removed from pandas in a future version. Use pandas.concat instead.\n",
      "  region = region.append(new_data, ignore_index=True)\n",
      "C:\\Users\\ljg98\\AppData\\Local\\Temp\\ipykernel_1908\\2884178923.py:8: FutureWarning: The frame.append method is deprecated and will be removed from pandas in a future version. Use pandas.concat instead.\n",
      "  region = region.append(new_data, ignore_index=True)\n",
      "C:\\Users\\ljg98\\AppData\\Local\\Temp\\ipykernel_1908\\2884178923.py:8: FutureWarning: The frame.append method is deprecated and will be removed from pandas in a future version. Use pandas.concat instead.\n",
      "  region = region.append(new_data, ignore_index=True)\n",
      "C:\\Users\\ljg98\\AppData\\Local\\Temp\\ipykernel_1908\\2884178923.py:8: FutureWarning: The frame.append method is deprecated and will be removed from pandas in a future version. Use pandas.concat instead.\n",
      "  region = region.append(new_data, ignore_index=True)\n",
      "C:\\Users\\ljg98\\AppData\\Local\\Temp\\ipykernel_1908\\2884178923.py:8: FutureWarning: The frame.append method is deprecated and will be removed from pandas in a future version. Use pandas.concat instead.\n",
      "  region = region.append(new_data, ignore_index=True)\n",
      "C:\\Users\\ljg98\\AppData\\Local\\Temp\\ipykernel_1908\\2884178923.py:8: FutureWarning: The frame.append method is deprecated and will be removed from pandas in a future version. Use pandas.concat instead.\n",
      "  region = region.append(new_data, ignore_index=True)\n",
      "C:\\Users\\ljg98\\AppData\\Local\\Temp\\ipykernel_1908\\2884178923.py:8: FutureWarning: The frame.append method is deprecated and will be removed from pandas in a future version. Use pandas.concat instead.\n",
      "  region = region.append(new_data, ignore_index=True)\n",
      "C:\\Users\\ljg98\\AppData\\Local\\Temp\\ipykernel_1908\\2884178923.py:8: FutureWarning: The frame.append method is deprecated and will be removed from pandas in a future version. Use pandas.concat instead.\n",
      "  region = region.append(new_data, ignore_index=True)\n",
      "C:\\Users\\ljg98\\AppData\\Local\\Temp\\ipykernel_1908\\2884178923.py:8: FutureWarning: The frame.append method is deprecated and will be removed from pandas in a future version. Use pandas.concat instead.\n",
      "  region = region.append(new_data, ignore_index=True)\n",
      "C:\\Users\\ljg98\\AppData\\Local\\Temp\\ipykernel_1908\\2884178923.py:8: FutureWarning: The frame.append method is deprecated and will be removed from pandas in a future version. Use pandas.concat instead.\n",
      "  region = region.append(new_data, ignore_index=True)\n",
      "C:\\Users\\ljg98\\AppData\\Local\\Temp\\ipykernel_1908\\2884178923.py:8: FutureWarning: The frame.append method is deprecated and will be removed from pandas in a future version. Use pandas.concat instead.\n",
      "  region = region.append(new_data, ignore_index=True)\n",
      "C:\\Users\\ljg98\\AppData\\Local\\Temp\\ipykernel_1908\\2884178923.py:8: FutureWarning: The frame.append method is deprecated and will be removed from pandas in a future version. Use pandas.concat instead.\n",
      "  region = region.append(new_data, ignore_index=True)\n",
      "C:\\Users\\ljg98\\AppData\\Local\\Temp\\ipykernel_1908\\2884178923.py:8: FutureWarning: The frame.append method is deprecated and will be removed from pandas in a future version. Use pandas.concat instead.\n",
      "  region = region.append(new_data, ignore_index=True)\n",
      "C:\\Users\\ljg98\\AppData\\Local\\Temp\\ipykernel_1908\\2884178923.py:8: FutureWarning: The frame.append method is deprecated and will be removed from pandas in a future version. Use pandas.concat instead.\n",
      "  region = region.append(new_data, ignore_index=True)\n",
      "C:\\Users\\ljg98\\AppData\\Local\\Temp\\ipykernel_1908\\2884178923.py:8: FutureWarning: The frame.append method is deprecated and will be removed from pandas in a future version. Use pandas.concat instead.\n",
      "  region = region.append(new_data, ignore_index=True)\n",
      "C:\\Users\\ljg98\\AppData\\Local\\Temp\\ipykernel_1908\\2884178923.py:8: FutureWarning: The frame.append method is deprecated and will be removed from pandas in a future version. Use pandas.concat instead.\n",
      "  region = region.append(new_data, ignore_index=True)\n",
      "C:\\Users\\ljg98\\AppData\\Local\\Temp\\ipykernel_1908\\2884178923.py:8: FutureWarning: The frame.append method is deprecated and will be removed from pandas in a future version. Use pandas.concat instead.\n",
      "  region = region.append(new_data, ignore_index=True)\n",
      "C:\\Users\\ljg98\\AppData\\Local\\Temp\\ipykernel_1908\\2884178923.py:8: FutureWarning: The frame.append method is deprecated and will be removed from pandas in a future version. Use pandas.concat instead.\n",
      "  region = region.append(new_data, ignore_index=True)\n",
      "C:\\Users\\ljg98\\AppData\\Local\\Temp\\ipykernel_1908\\2884178923.py:8: FutureWarning: The frame.append method is deprecated and will be removed from pandas in a future version. Use pandas.concat instead.\n",
      "  region = region.append(new_data, ignore_index=True)\n",
      "C:\\Users\\ljg98\\AppData\\Local\\Temp\\ipykernel_1908\\2884178923.py:8: FutureWarning: The frame.append method is deprecated and will be removed from pandas in a future version. Use pandas.concat instead.\n",
      "  region = region.append(new_data, ignore_index=True)\n",
      "C:\\Users\\ljg98\\AppData\\Local\\Temp\\ipykernel_1908\\2884178923.py:8: FutureWarning: The frame.append method is deprecated and will be removed from pandas in a future version. Use pandas.concat instead.\n",
      "  region = region.append(new_data, ignore_index=True)\n",
      "C:\\Users\\ljg98\\AppData\\Local\\Temp\\ipykernel_1908\\2884178923.py:8: FutureWarning: The frame.append method is deprecated and will be removed from pandas in a future version. Use pandas.concat instead.\n",
      "  region = region.append(new_data, ignore_index=True)\n",
      "C:\\Users\\ljg98\\AppData\\Local\\Temp\\ipykernel_1908\\2884178923.py:8: FutureWarning: The frame.append method is deprecated and will be removed from pandas in a future version. Use pandas.concat instead.\n",
      "  region = region.append(new_data, ignore_index=True)\n",
      "C:\\Users\\ljg98\\AppData\\Local\\Temp\\ipykernel_1908\\2884178923.py:8: FutureWarning: The frame.append method is deprecated and will be removed from pandas in a future version. Use pandas.concat instead.\n",
      "  region = region.append(new_data, ignore_index=True)\n",
      "C:\\Users\\ljg98\\AppData\\Local\\Temp\\ipykernel_1908\\2884178923.py:8: FutureWarning: The frame.append method is deprecated and will be removed from pandas in a future version. Use pandas.concat instead.\n",
      "  region = region.append(new_data, ignore_index=True)\n",
      "C:\\Users\\ljg98\\AppData\\Local\\Temp\\ipykernel_1908\\2884178923.py:8: FutureWarning: The frame.append method is deprecated and will be removed from pandas in a future version. Use pandas.concat instead.\n",
      "  region = region.append(new_data, ignore_index=True)\n",
      "C:\\Users\\ljg98\\AppData\\Local\\Temp\\ipykernel_1908\\2884178923.py:8: FutureWarning: The frame.append method is deprecated and will be removed from pandas in a future version. Use pandas.concat instead.\n",
      "  region = region.append(new_data, ignore_index=True)\n",
      "C:\\Users\\ljg98\\AppData\\Local\\Temp\\ipykernel_1908\\2884178923.py:8: FutureWarning: The frame.append method is deprecated and will be removed from pandas in a future version. Use pandas.concat instead.\n",
      "  region = region.append(new_data, ignore_index=True)\n",
      "C:\\Users\\ljg98\\AppData\\Local\\Temp\\ipykernel_1908\\2884178923.py:8: FutureWarning: The frame.append method is deprecated and will be removed from pandas in a future version. Use pandas.concat instead.\n",
      "  region = region.append(new_data, ignore_index=True)\n"
     ]
    }
   ],
   "source": [
    "\n",
    "for ori in carrot['region']:\n",
    "    checkNum = (region['region'].str.contains(ori)).sum()\n",
    "    if checkNum ==0:\n",
    "        new_data = {\n",
    "            'region' : ori,\n",
    "\n",
    "        }\n",
    "        region = region.append(new_data, ignore_index=True)\n"
   ],
   "metadata": {
    "collapsed": false,
    "pycharm": {
     "name": "#%%\n"
    }
   }
  },
  {
   "cell_type": "code",
   "execution_count": 58,
   "outputs": [],
   "source": [
    "i = 0\n",
    "for od in region.region:\n",
    "    if od[4:] == '세종시':\n",
    "        tmp1 = od[1:3]\n",
    "        tmp2 = od[4:]\n",
    "        region.region[i]=tmp2 +\" \"+ tmp1\n",
    "    i = i+1\n"
   ],
   "metadata": {
    "collapsed": false,
    "pycharm": {
     "name": "#%%\n"
    }
   }
  },
  {
   "cell_type": "code",
   "execution_count": 59,
   "outputs": [
    {
     "data": {
      "text/plain": "      region\n0    강원도 강릉시\n1    강원도 고성군\n2    강원도 동해시\n3    강원도 삼척시\n4    강원도 속초시\n..       ...\n225   충북 증평군\n226   충북 진천군\n227   충북 충주시\n228   포항시 남구\n229   포항시 북구\n\n[230 rows x 1 columns]",
      "text/html": "<div>\n<style scoped>\n    .dataframe tbody tr th:only-of-type {\n        vertical-align: middle;\n    }\n\n    .dataframe tbody tr th {\n        vertical-align: top;\n    }\n\n    .dataframe thead th {\n        text-align: right;\n    }\n</style>\n<table border=\"1\" class=\"dataframe\">\n  <thead>\n    <tr style=\"text-align: right;\">\n      <th></th>\n      <th>region</th>\n    </tr>\n  </thead>\n  <tbody>\n    <tr>\n      <th>0</th>\n      <td>강원도 강릉시</td>\n    </tr>\n    <tr>\n      <th>1</th>\n      <td>강원도 고성군</td>\n    </tr>\n    <tr>\n      <th>2</th>\n      <td>강원도 동해시</td>\n    </tr>\n    <tr>\n      <th>3</th>\n      <td>강원도 삼척시</td>\n    </tr>\n    <tr>\n      <th>4</th>\n      <td>강원도 속초시</td>\n    </tr>\n    <tr>\n      <th>...</th>\n      <td>...</td>\n    </tr>\n    <tr>\n      <th>225</th>\n      <td>충북 증평군</td>\n    </tr>\n    <tr>\n      <th>226</th>\n      <td>충북 진천군</td>\n    </tr>\n    <tr>\n      <th>227</th>\n      <td>충북 충주시</td>\n    </tr>\n    <tr>\n      <th>228</th>\n      <td>포항시 남구</td>\n    </tr>\n    <tr>\n      <th>229</th>\n      <td>포항시 북구</td>\n    </tr>\n  </tbody>\n</table>\n<p>230 rows × 1 columns</p>\n</div>"
     },
     "execution_count": 59,
     "metadata": {},
     "output_type": "execute_result"
    }
   ],
   "source": [
    "region = region.sort_values(by='region' ,ascending=True)\n",
    "region = region.reset_index()\n",
    "region = region.drop(['index'], axis=1)\n",
    "region"
   ],
   "metadata": {
    "collapsed": false,
    "pycharm": {
     "name": "#%%\n"
    }
   }
  },
  {
   "cell_type": "code",
   "execution_count": 60,
   "outputs": [
    {
     "data": {
      "text/plain": "     rNum   region\n0       0  강원도 강릉시\n1       1  강원도 고성군\n2       2  강원도 동해시\n3       3  강원도 삼척시\n4       4  강원도 속초시\n..    ...      ...\n225   225   충북 증평군\n226   226   충북 진천군\n227   227   충북 충주시\n228   228   포항시 남구\n229   229   포항시 북구\n\n[230 rows x 2 columns]",
      "text/html": "<div>\n<style scoped>\n    .dataframe tbody tr th:only-of-type {\n        vertical-align: middle;\n    }\n\n    .dataframe tbody tr th {\n        vertical-align: top;\n    }\n\n    .dataframe thead th {\n        text-align: right;\n    }\n</style>\n<table border=\"1\" class=\"dataframe\">\n  <thead>\n    <tr style=\"text-align: right;\">\n      <th></th>\n      <th>rNum</th>\n      <th>region</th>\n    </tr>\n  </thead>\n  <tbody>\n    <tr>\n      <th>0</th>\n      <td>0</td>\n      <td>강원도 강릉시</td>\n    </tr>\n    <tr>\n      <th>1</th>\n      <td>1</td>\n      <td>강원도 고성군</td>\n    </tr>\n    <tr>\n      <th>2</th>\n      <td>2</td>\n      <td>강원도 동해시</td>\n    </tr>\n    <tr>\n      <th>3</th>\n      <td>3</td>\n      <td>강원도 삼척시</td>\n    </tr>\n    <tr>\n      <th>4</th>\n      <td>4</td>\n      <td>강원도 속초시</td>\n    </tr>\n    <tr>\n      <th>...</th>\n      <td>...</td>\n      <td>...</td>\n    </tr>\n    <tr>\n      <th>225</th>\n      <td>225</td>\n      <td>충북 증평군</td>\n    </tr>\n    <tr>\n      <th>226</th>\n      <td>226</td>\n      <td>충북 진천군</td>\n    </tr>\n    <tr>\n      <th>227</th>\n      <td>227</td>\n      <td>충북 충주시</td>\n    </tr>\n    <tr>\n      <th>228</th>\n      <td>228</td>\n      <td>포항시 남구</td>\n    </tr>\n    <tr>\n      <th>229</th>\n      <td>229</td>\n      <td>포항시 북구</td>\n    </tr>\n  </tbody>\n</table>\n<p>230 rows × 2 columns</p>\n</div>"
     },
     "execution_count": 60,
     "metadata": {},
     "output_type": "execute_result"
    }
   ],
   "source": [
    "region = region.reset_index()\n",
    "region = region.rename(columns={'index':'rNum'})\n",
    "region"
   ],
   "metadata": {
    "collapsed": false,
    "pycharm": {
     "name": "#%%\n"
    }
   }
  },
  {
   "cell_type": "code",
   "execution_count": 61,
   "outputs": [
    {
     "name": "stdout",
     "output_type": "stream",
     "text": [
      "<class 'pandas.core.frame.DataFrame'>\n",
      "Int64Index: 8811 entries, 0 to 8810\n",
      "Data columns (total 3 columns):\n",
      " #   Column  Non-Null Count  Dtype \n",
      "---  ------  --------------  ----- \n",
      " 0   pNum    8811 non-null   int64 \n",
      " 1   price   8811 non-null   object\n",
      " 2   rNum    8811 non-null   int64 \n",
      "dtypes: int64(2), object(1)\n",
      "memory usage: 275.3+ KB\n"
     ]
    }
   ],
   "source": [
    "carrot = pd.merge(carrot, region, left_on='region', right_on='region', how='inner')\n",
    "carrot = carrot.drop('region', axis=1)\n",
    "carrot.info()"
   ],
   "metadata": {
    "collapsed": false,
    "pycharm": {
     "name": "#%%\n"
    }
   }
  },
  {
   "cell_type": "code",
   "execution_count": 62,
   "outputs": [],
   "source": [
    "carrot.to_csv('testfile/carrot_table.csv', mode='w')\n",
    "region.to_csv('testfile/region_table.csv', mode='w')\n",
    "ProductList.to_csv('testfile/product_table.csv', mode='w')"
   ],
   "metadata": {
    "collapsed": false,
    "pycharm": {
     "name": "#%%\n"
    }
   }
  }
 ],
 "metadata": {
  "kernelspec": {
   "display_name": "Python 3",
   "language": "python",
   "name": "python3"
  },
  "language_info": {
   "codemirror_mode": {
    "name": "ipython",
    "version": 2
   },
   "file_extension": ".py",
   "mimetype": "text/x-python",
   "name": "python",
   "nbconvert_exporter": "python",
   "pygments_lexer": "ipython2",
   "version": "2.7.6"
  }
 },
 "nbformat": 4,
 "nbformat_minor": 0
}