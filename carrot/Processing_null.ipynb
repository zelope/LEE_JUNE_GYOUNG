{
 "cells": [
  {
   "cell_type": "code",
   "execution_count": 806,
   "metadata": {
    "collapsed": true,
    "pycharm": {
     "name": "#%%\n"
    }
   },
   "outputs": [],
   "source": [
    "import pandas as pd\n",
    "carrot= pd.read_csv(\"testfile/carrot_Data_14304.txt\",index_col = 0)"
   ]
  },
  {
   "cell_type": "code",
   "execution_count": 807,
   "outputs": [
    {
     "name": "stdout",
     "output_type": "stream",
     "text": [
      "<class 'pandas.core.frame.DataFrame'>\n",
      "Int64Index: 14304 entries, 0 to 14303\n",
      "Data columns (total 3 columns):\n",
      " #   Column  Non-Null Count  Dtype \n",
      "---  ------  --------------  ----- \n",
      " 0   title   14304 non-null  object\n",
      " 1   price   14197 non-null  object\n",
      " 2   region  14304 non-null  object\n",
      "dtypes: object(3)\n",
      "memory usage: 447.0+ KB\n"
     ]
    }
   ],
   "source": [
    "carrot.info()"
   ],
   "metadata": {
    "collapsed": false,
    "pycharm": {
     "name": "#%%\n"
    }
   }
  },
  {
   "cell_type": "code",
   "execution_count": 808,
   "outputs": [
    {
     "name": "stdout",
     "output_type": "stream",
     "text": [
      "<class 'pandas.core.frame.DataFrame'>\n",
      "RangeIndex: 14197 entries, 0 to 14196\n",
      "Data columns (total 3 columns):\n",
      " #   Column  Non-Null Count  Dtype \n",
      "---  ------  --------------  ----- \n",
      " 0   title   14197 non-null  object\n",
      " 1   price   14197 non-null  object\n",
      " 2   region  14197 non-null  object\n",
      "dtypes: object(3)\n",
      "memory usage: 332.9+ KB\n"
     ]
    }
   ],
   "source": [
    "#null값 제거\n",
    "carrot = carrot.dropna(axis=0)\n",
    "carrot = carrot.reset_index()\n",
    "carrot = carrot.drop('index',axis=1)\n",
    "carrot.info()"
   ],
   "metadata": {
    "collapsed": false,
    "pycharm": {
     "name": "#%%\n"
    }
   }
  },
  {
   "cell_type": "code",
   "execution_count": 809,
   "outputs": [
    {
     "name": "stdout",
     "output_type": "stream",
     "text": [
      "<class 'pandas.core.frame.DataFrame'>\n",
      "RangeIndex: 12102 entries, 0 to 12101\n",
      "Data columns (total 3 columns):\n",
      " #   Column  Non-Null Count  Dtype \n",
      "---  ------  --------------  ----- \n",
      " 0   title   12102 non-null  object\n",
      " 1   price   12102 non-null  object\n",
      " 2   region  12102 non-null  object\n",
      "dtypes: object(3)\n",
      "memory usage: 283.8+ KB\n"
     ]
    }
   ],
   "source": [
    "#핸드폰 케이스 항목 제거\n",
    "case = carrot[carrot['title'].str.contains('케이스|캐이스')].index\n",
    "carrot.drop(case,inplace=True)\n",
    "carrot = carrot.reset_index()\n",
    "carrot = carrot.drop('index',axis=1)\n",
    "carrot.info()"
   ],
   "metadata": {
    "collapsed": false,
    "pycharm": {
     "name": "#%%\n"
    }
   }
  },
  {
   "cell_type": "code",
   "execution_count": 810,
   "outputs": [
    {
     "name": "stdout",
     "output_type": "stream",
     "text": [
      "<class 'pandas.core.frame.DataFrame'>\n",
      "RangeIndex: 12089 entries, 0 to 12088\n",
      "Data columns (total 3 columns):\n",
      " #   Column  Non-Null Count  Dtype \n",
      "---  ------  --------------  ----- \n",
      " 0   title   12089 non-null  object\n",
      " 1   price   12089 non-null  object\n",
      " 2   region  12089 non-null  object\n",
      "dtypes: object(3)\n",
      "memory usage: 283.5+ KB\n"
     ]
    }
   ],
   "source": [
    "#나눔 항목 제거\n",
    "share = carrot[carrot['title'].str.contains('나눔')].index\n",
    "carrot.drop(share,inplace=True)\n",
    "carrot = carrot.reset_index()\n",
    "carrot = carrot.drop('index',axis=1)\n",
    "carrot.info()"
   ],
   "metadata": {
    "collapsed": false,
    "pycharm": {
     "name": "#%%\n"
    }
   }
  },
  {
   "cell_type": "code",
   "execution_count": 811,
   "outputs": [
    {
     "name": "stdout",
     "output_type": "stream",
     "text": [
      "<class 'pandas.core.frame.DataFrame'>\n",
      "RangeIndex: 11894 entries, 0 to 11893\n",
      "Data columns (total 3 columns):\n",
      " #   Column  Non-Null Count  Dtype \n",
      "---  ------  --------------  ----- \n",
      " 0   title   11894 non-null  object\n",
      " 1   price   11894 non-null  object\n",
      " 2   region  11894 non-null  object\n",
      "dtypes: object(3)\n",
      "memory usage: 278.9+ KB\n"
     ]
    }
   ],
   "source": [
    "#교환 항목 제거 단 판매도 하는 경우에는 제거 안함\n",
    "exchage = carrot[carrot['title'].str.contains('교환|교신')].index\n",
    "sale = carrot[carrot['title'].str.contains('판매')].index\n",
    "onlyEx = set(exchage)-set(sale)\n",
    "carrot.drop(onlyEx,inplace=True)\n",
    "carrot = carrot.reset_index()\n",
    "carrot = carrot.drop('index',axis=1)\n",
    "carrot.info()"
   ],
   "metadata": {
    "collapsed": false,
    "pycharm": {
     "name": "#%%\n"
    }
   }
  },
  {
   "cell_type": "code",
   "execution_count": 812,
   "outputs": [
    {
     "name": "stdout",
     "output_type": "stream",
     "text": [
      "<class 'pandas.core.frame.DataFrame'>\n",
      "RangeIndex: 11392 entries, 0 to 11391\n",
      "Data columns (total 3 columns):\n",
      " #   Column  Non-Null Count  Dtype \n",
      "---  ------  --------------  ----- \n",
      " 0   title   11392 non-null  object\n",
      " 1   price   11392 non-null  object\n",
      " 2   region  11392 non-null  object\n",
      "dtypes: object(3)\n",
      "memory usage: 267.1+ KB\n"
     ]
    }
   ],
   "source": [
    "#구매 항목 제거\n",
    "buy = carrot[carrot['title'].str.contains('구매|삼|삽니다|매입|구해요|구합니다|급구')].index\n",
    "\n",
    "carrot.drop(buy,inplace=True)\n",
    "carrot = carrot.reset_index()\n",
    "carrot = carrot.drop('index',axis=1)\n",
    "carrot.info()"
   ],
   "metadata": {
    "collapsed": false,
    "pycharm": {
     "name": "#%%\n"
    }
   }
  },
  {
   "cell_type": "code",
   "execution_count": 813,
   "outputs": [
    {
     "name": "stdout",
     "output_type": "stream",
     "text": [
      "<class 'pandas.core.frame.DataFrame'>\n",
      "RangeIndex: 11313 entries, 0 to 11312\n",
      "Data columns (total 3 columns):\n",
      " #   Column  Non-Null Count  Dtype \n",
      "---  ------  --------------  ----- \n",
      " 0   title   11313 non-null  object\n",
      " 1   price   11313 non-null  object\n",
      " 2   region  11313 non-null  object\n",
      "dtypes: object(3)\n",
      "memory usage: 265.3+ KB\n"
     ]
    }
   ],
   "source": [
    "#가격 이산치 제거\n",
    "errorPrice = carrot[carrot['price'].str.contains('1원|나눔|2원|10원|100원|9999원')].index\n",
    "carrot.drop(errorPrice,inplace=True)\n",
    "carrot = carrot.reset_index()\n",
    "carrot = carrot.drop('index',axis=1)\n",
    "carrot.info()"
   ],
   "metadata": {
    "collapsed": false,
    "pycharm": {
     "name": "#%%\n"
    }
   }
  },
  {
   "cell_type": "code",
   "execution_count": 814,
   "outputs": [
    {
     "data": {
      "text/plain": "                                                   title     price  \\\n0      아이폰12미니 아이폰미니12 아이폰12 아이폰미니 12 mini 128기가 128G...  430,000원   \n1                아이폰se2 128gb red 박스드림/ 아이폰se3 아이폰8 아이폰7  190,000원   \n2                아이폰se2 128gb red 박스드림/ 아이폰se3 아이폰8 아이폰7  190,000원   \n3                아이폰se2 128gb red 박스드림/ 아이폰se3 아이폰8 아이폰7  190,000원   \n4                아이폰se2 128기가 red 박스포함/ 아이폰se3 아이폰8 아이폰7  175,000원   \n...                                                  ...       ...   \n11308                                 갤럭시 워치5 풀커버 (44mm)   24,000원   \n11309                              갤럭시 폴드3 올수리 S급 판매 합니다  980,000원   \n11310                                            갤럭시 퀀텀2  250,000원   \n11311                                갤럭시워치 20m 호환 가능 스트랩    7,000원   \n11312                                  갤럭시워치5 30퍼 쿠폰 팔아요   15,000원   \n\n                 region  \n0           경기도 화성시 영천동  \n1            경남 거제시 문동동  \n2        경남 창원시 성산구 성주동  \n3      경남 창원시 마산회원구 회원동  \n4            경남 김해시 주촌면  \n...                 ...  \n11308       인천 부평구 부개1동  \n11309     서울 동대문구 장안제1동  \n11310       대전 유성구 노은1동  \n11311        경북 경주시 안강읍  \n11312   경기도 성남시 분당구 백현동  \n\n[11313 rows x 3 columns]",
      "text/html": "<div>\n<style scoped>\n    .dataframe tbody tr th:only-of-type {\n        vertical-align: middle;\n    }\n\n    .dataframe tbody tr th {\n        vertical-align: top;\n    }\n\n    .dataframe thead th {\n        text-align: right;\n    }\n</style>\n<table border=\"1\" class=\"dataframe\">\n  <thead>\n    <tr style=\"text-align: right;\">\n      <th></th>\n      <th>title</th>\n      <th>price</th>\n      <th>region</th>\n    </tr>\n  </thead>\n  <tbody>\n    <tr>\n      <th>0</th>\n      <td>아이폰12미니 아이폰미니12 아이폰12 아이폰미니 12 mini 128기가 128G...</td>\n      <td>430,000원</td>\n      <td>경기도 화성시 영천동</td>\n    </tr>\n    <tr>\n      <th>1</th>\n      <td>아이폰se2 128gb red 박스드림/ 아이폰se3 아이폰8 아이폰7</td>\n      <td>190,000원</td>\n      <td>경남 거제시 문동동</td>\n    </tr>\n    <tr>\n      <th>2</th>\n      <td>아이폰se2 128gb red 박스드림/ 아이폰se3 아이폰8 아이폰7</td>\n      <td>190,000원</td>\n      <td>경남 창원시 성산구 성주동</td>\n    </tr>\n    <tr>\n      <th>3</th>\n      <td>아이폰se2 128gb red 박스드림/ 아이폰se3 아이폰8 아이폰7</td>\n      <td>190,000원</td>\n      <td>경남 창원시 마산회원구 회원동</td>\n    </tr>\n    <tr>\n      <th>4</th>\n      <td>아이폰se2 128기가 red 박스포함/ 아이폰se3 아이폰8 아이폰7</td>\n      <td>175,000원</td>\n      <td>경남 김해시 주촌면</td>\n    </tr>\n    <tr>\n      <th>...</th>\n      <td>...</td>\n      <td>...</td>\n      <td>...</td>\n    </tr>\n    <tr>\n      <th>11308</th>\n      <td>갤럭시 워치5 풀커버 (44mm)</td>\n      <td>24,000원</td>\n      <td>인천 부평구 부개1동</td>\n    </tr>\n    <tr>\n      <th>11309</th>\n      <td>갤럭시 폴드3 올수리 S급 판매 합니다</td>\n      <td>980,000원</td>\n      <td>서울 동대문구 장안제1동</td>\n    </tr>\n    <tr>\n      <th>11310</th>\n      <td>갤럭시 퀀텀2</td>\n      <td>250,000원</td>\n      <td>대전 유성구 노은1동</td>\n    </tr>\n    <tr>\n      <th>11311</th>\n      <td>갤럭시워치 20m 호환 가능 스트랩</td>\n      <td>7,000원</td>\n      <td>경북 경주시 안강읍</td>\n    </tr>\n    <tr>\n      <th>11312</th>\n      <td>갤럭시워치5 30퍼 쿠폰 팔아요</td>\n      <td>15,000원</td>\n      <td>경기도 성남시 분당구 백현동</td>\n    </tr>\n  </tbody>\n</table>\n<p>11313 rows × 3 columns</p>\n</div>"
     },
     "execution_count": 814,
     "metadata": {},
     "output_type": "execute_result"
    }
   ],
   "source": [
    "carrot"
   ],
   "metadata": {
    "collapsed": false,
    "pycharm": {
     "name": "#%%\n"
    }
   }
  },
  {
   "cell_type": "code",
   "execution_count": 815,
   "outputs": [],
   "source": [
    "#price colum을 int 형식으로 변환\n",
    "def priceS2I(data,cName):\n",
    "    copyd = data.copy()\n",
    "    j = 0\n",
    "    for oldd in copyd[cName]:\n",
    "        newd = oldd.replace(',','')\n",
    "        newd = newd.replace(' ','')\n",
    "        newd = newd.replace('만','0000')\n",
    "        newd = newd.replace('원','')\n",
    "        try:\n",
    "            copyd[cName].iloc[j] = int(newd)\n",
    "        except ValueError:\n",
    "            copyd[cName].iloc[j] = 1\n",
    "        j = j+1\n",
    "    return copyd[cName]\n"
   ],
   "metadata": {
    "collapsed": false,
    "pycharm": {
     "name": "#%%\n"
    }
   }
  },
  {
   "cell_type": "code",
   "execution_count": 816,
   "outputs": [
    {
     "data": {
      "text/plain": "Int64Index([  711,  1329,  1339,  2594,  4907,  5190,  7892,  7893,  7894,\n             7895,\n            ...\n            11303, 11304, 11305, 11306, 11307, 11308, 11309, 11310, 11311,\n            11312],\n           dtype='int64', length=3318)"
     },
     "execution_count": 816,
     "metadata": {},
     "output_type": "execute_result"
    }
   ],
   "source": [
    "#갤럭시 시작 위치 찾기\n",
    "gal = carrot[carrot['title'].str.contains('갤럭시')].index\n",
    "gal"
   ],
   "metadata": {
    "collapsed": false,
    "pycharm": {
     "name": "#%%\n"
    }
   }
  },
  {
   "cell_type": "code",
   "execution_count": 817,
   "outputs": [
    {
     "name": "stdout",
     "output_type": "stream",
     "text": [
      "<class 'pandas.core.frame.DataFrame'>\n",
      "RangeIndex: 7892 entries, 0 to 7891\n",
      "Data columns (total 3 columns):\n",
      " #   Column  Non-Null Count  Dtype \n",
      "---  ------  --------------  ----- \n",
      " 0   title   7892 non-null   object\n",
      " 1   price   7892 non-null   object\n",
      " 2   region  7892 non-null   object\n",
      "dtypes: object(3)\n",
      "memory usage: 185.1+ KB\n"
     ]
    }
   ],
   "source": [
    "#7892이전 값은 이산치\n",
    "galnum = 7892\n",
    "carrotIphone = carrot[:galnum]\n",
    "carrotGal = carrot[galnum:]\n",
    "carrotIphone.info()"
   ],
   "metadata": {
    "collapsed": false,
    "pycharm": {
     "name": "#%%\n"
    }
   }
  },
  {
   "cell_type": "code",
   "execution_count": 818,
   "outputs": [
    {
     "name": "stdout",
     "output_type": "stream",
     "text": [
      "<class 'pandas.core.frame.DataFrame'>\n",
      "RangeIndex: 7886 entries, 0 to 7885\n",
      "Data columns (total 3 columns):\n",
      " #   Column  Non-Null Count  Dtype \n",
      "---  ------  --------------  ----- \n",
      " 0   title   7886 non-null   object\n",
      " 1   price   7886 non-null   object\n",
      " 2   region  7886 non-null   object\n",
      "dtypes: object(3)\n",
      "memory usage: 185.0+ KB\n"
     ]
    },
    {
     "name": "stderr",
     "output_type": "stream",
     "text": [
      "C:\\Users\\ljg98\\AppData\\Local\\Temp\\ipykernel_17880\\4121312729.py:4: SettingWithCopyWarning: \n",
      "A value is trying to be set on a copy of a slice from a DataFrame\n",
      "\n",
      "See the caveats in the documentation: https://pandas.pydata.org/pandas-docs/stable/user_guide/indexing.html#returning-a-view-versus-a-copy\n",
      "  carrotIphone.drop(errorGal,inplace=True)\n"
     ]
    }
   ],
   "source": [
    "#아이폰 중 갤럭시 제거\n",
    "errorGal = carrotIphone[carrotIphone['title'].str.contains('갤럭시|겔럭시|Galaxy|galaxy')].index\n",
    "\n",
    "carrotIphone.drop(errorGal,inplace=True)\n",
    "carrotIphone = carrotIphone.reset_index()\n",
    "carrotIphone = carrotIphone.drop('index',axis=1)\n",
    "carrotIphone.info()"
   ],
   "metadata": {
    "collapsed": false,
    "pycharm": {
     "name": "#%%\n"
    }
   }
  },
  {
   "cell_type": "code",
   "execution_count": 819,
   "outputs": [
    {
     "name": "stdout",
     "output_type": "stream",
     "text": [
      "<class 'pandas.core.frame.DataFrame'>\n",
      "RangeIndex: 3421 entries, 7892 to 11312\n",
      "Data columns (total 3 columns):\n",
      " #   Column  Non-Null Count  Dtype \n",
      "---  ------  --------------  ----- \n",
      " 0   title   3421 non-null   object\n",
      " 1   price   3421 non-null   object\n",
      " 2   region  3421 non-null   object\n",
      "dtypes: object(3)\n",
      "memory usage: 80.3+ KB\n"
     ]
    }
   ],
   "source": [
    "carrotGal.info()"
   ],
   "metadata": {
    "collapsed": false,
    "pycharm": {
     "name": "#%%\n"
    }
   }
  },
  {
   "cell_type": "code",
   "execution_count": 820,
   "outputs": [
    {
     "name": "stdout",
     "output_type": "stream",
     "text": [
      "<class 'pandas.core.frame.DataFrame'>\n",
      "RangeIndex: 3416 entries, 0 to 3415\n",
      "Data columns (total 3 columns):\n",
      " #   Column  Non-Null Count  Dtype \n",
      "---  ------  --------------  ----- \n",
      " 0   title   3416 non-null   object\n",
      " 1   price   3416 non-null   object\n",
      " 2   region  3416 non-null   object\n",
      "dtypes: object(3)\n",
      "memory usage: 80.2+ KB\n"
     ]
    },
    {
     "name": "stderr",
     "output_type": "stream",
     "text": [
      "C:\\Users\\ljg98\\AppData\\Local\\Temp\\ipykernel_17880\\1753858609.py:4: SettingWithCopyWarning: \n",
      "A value is trying to be set on a copy of a slice from a DataFrame\n",
      "\n",
      "See the caveats in the documentation: https://pandas.pydata.org/pandas-docs/stable/user_guide/indexing.html#returning-a-view-versus-a-copy\n",
      "  carrotGal.drop(errorIp, inplace=True)\n"
     ]
    }
   ],
   "source": [
    "#갤럭시 중 아이폰 제거\n",
    "errorIp = carrotGal[carrotGal['title'].str.contains('아이폰|iPhone|Iphone|iphone|IPhone')].index\n",
    "\n",
    "carrotGal.drop(errorIp, inplace=True)\n",
    "carrotGal = carrotGal.reset_index()\n",
    "carrotGal = carrotGal.drop('index', axis=1)\n",
    "carrotGal.info()"
   ],
   "metadata": {
    "collapsed": false,
    "pycharm": {
     "name": "#%%\n"
    }
   }
  },
  {
   "cell_type": "code",
   "execution_count": 821,
   "outputs": [],
   "source": [
    "#각각저장\n",
    "carrotIphone.to_csv('testfile/carrotIphoneProto.csv', mode='w')\n",
    "carrotGal.to_csv('testfile/carrotGalProto.csv', mode='w')\n"
   ],
   "metadata": {
    "collapsed": false,
    "pycharm": {
     "name": "#%%\n"
    }
   }
  }
 ],
 "metadata": {
  "kernelspec": {
   "display_name": "Python 3",
   "language": "python",
   "name": "python3"
  },
  "language_info": {
   "codemirror_mode": {
    "name": "ipython",
    "version": 2
   },
   "file_extension": ".py",
   "mimetype": "text/x-python",
   "name": "python",
   "nbconvert_exporter": "python",
   "pygments_lexer": "ipython2",
   "version": "2.7.6"
  }
 },
 "nbformat": 4,
 "nbformat_minor": 0
}